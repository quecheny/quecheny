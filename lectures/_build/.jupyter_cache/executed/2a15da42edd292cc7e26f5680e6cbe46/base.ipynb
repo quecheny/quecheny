{
 "cells": [
  {
   "cell_type": "code",
   "execution_count": null,
   "id": "9e2f2248",
   "metadata": {},
   "outputs": [],
   "source": []
  }
 ],
 "metadata": {
  "jupytext": {
   "text_representation": {
    "extension": ".md",
    "format_name": "myst",
    "format_version": 0.13,
    "jupytext_version": "1.11.1"
   }
  },
  "kernelspec": {
   "display_name": "Python 3",
   "language": "python",
   "name": "python3"
  },
  "language_info": {
   "codemirror_mode": {
    "name": "ipython",
    "version": 3
   },
   "file_extension": ".py",
   "mimetype": "text/x-python",
   "name": "python",
   "nbconvert_exporter": "python",
   "pygments_lexer": "ipython3",
   "version": "3.9.13"
  },
  "source_map": [
   12,
   31,
   72,
   90,
   153,
   173
  ]
 },
 "nbformat": 4,
 "nbformat_minor": 5
}