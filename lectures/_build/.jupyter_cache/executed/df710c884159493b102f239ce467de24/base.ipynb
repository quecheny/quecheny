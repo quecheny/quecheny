{
 "cells": [
  {
   "cell_type": "code",
   "execution_count": 1,
   "id": "bb7ed4df",
   "metadata": {
    "tags": [
     "hide-output"
    ]
   },
   "outputs": [
    {
     "name": "stdout",
     "output_type": "stream",
     "text": [
      "Requirement already satisfied: quantecon in c:\\users\\chenoi\\anaconda3\\lib\\site-packages (0.7.1)\n",
      "Requirement already satisfied: scipy>=1.5.0 in c:\\users\\chenoi\\anaconda3\\lib\\site-packages (from quantecon) (1.10.0)\n",
      "Requirement already satisfied: requests in c:\\users\\chenoi\\anaconda3\\lib\\site-packages (from quantecon) (2.31.0)\n",
      "Requirement already satisfied: numpy>=1.17.0 in c:\\users\\chenoi\\anaconda3\\lib\\site-packages (from quantecon) (1.21.6)\n",
      "Requirement already satisfied: numba>=0.49.0 in c:\\users\\chenoi\\anaconda3\\lib\\site-packages (from quantecon) (0.55.1)\n",
      "Requirement already satisfied: sympy in c:\\users\\chenoi\\anaconda3\\lib\\site-packages (from quantecon) (1.11.1)\n",
      "Requirement already satisfied: llvmlite<0.39,>=0.38.0rc1 in c:\\users\\chenoi\\anaconda3\\lib\\site-packages (from numba>=0.49.0->quantecon) (0.38.0)\n",
      "Requirement already satisfied: setuptools in c:\\users\\chenoi\\anaconda3\\lib\\site-packages (from numba>=0.49.0->quantecon) (65.5.0)\n",
      "Requirement already satisfied: idna<4,>=2.5 in c:\\users\\chenoi\\anaconda3\\lib\\site-packages (from requests->quantecon) (2.10)\n",
      "Requirement already satisfied: urllib3<3,>=1.21.1 in c:\\users\\chenoi\\anaconda3\\lib\\site-packages (from requests->quantecon) (1.26.14)\n",
      "Requirement already satisfied: certifi>=2017.4.17 in c:\\users\\chenoi\\anaconda3\\lib\\site-packages (from requests->quantecon) (2022.12.7)\n",
      "Requirement already satisfied: charset-normalizer<4,>=2 in c:\\users\\chenoi\\anaconda3\\lib\\site-packages (from requests->quantecon) (3.0.1)\n",
      "Requirement already satisfied: mpmath>=0.19 in c:\\users\\chenoi\\anaconda3\\lib\\site-packages (from sympy->quantecon) (1.3.0)\n"
     ]
    }
   ],
   "source": [
    "!pip install quantecon"
   ]
  },
  {
   "cell_type": "code",
   "execution_count": 2,
   "id": "5620e9dd",
   "metadata": {},
   "outputs": [],
   "source": [
    "%matplotlib inline\n",
    "import matplotlib.pyplot as plt\n",
    "plt.rcParams[\"figure.figsize\"] = (11, 5)  #set default figure size\n",
    "import numpy as np"
   ]
  },
  {
   "cell_type": "code",
   "execution_count": 3,
   "id": "47b607c6",
   "metadata": {},
   "outputs": [],
   "source": [
    "from quantecon import LQ"
   ]
  },
  {
   "cell_type": "code",
   "execution_count": 4,
   "id": "fd5cf60e",
   "metadata": {},
   "outputs": [
    {
     "name": "stdout",
     "output_type": "stream",
     "text": [
      "F = [-0.000, 0.046, -96.949]\n",
      "(h0, h1, h2) = (96.949, 1.000, -0.046)\n"
     ]
    }
   ],
   "source": [
    "# Model parameters\n",
    "\n",
    "a0 = 100\n",
    "a1 = 0.05\n",
    "β = 0.95\n",
    "γ = 10.0\n",
    "\n",
    "# Beliefs\n",
    "\n",
    "κ0 = 95.5\n",
    "κ1 = 0.95\n",
    "\n",
    "# Formulate the LQ problem\n",
    "\n",
    "A = np.array([[1, 0, 0], [0, κ1, κ0], [0, 0, 1]])\n",
    "B = np.array([1, 0, 0])\n",
    "B.shape = 3, 1\n",
    "R = np.array([[0, a1/2, -a0/2], [a1/2, 0, 0], [-a0/2, 0, 0]])\n",
    "Q = 0.5 * γ\n",
    "\n",
    "# Solve for the optimal policy\n",
    "\n",
    "lq = LQ(Q, R, A, B, beta=β)\n",
    "P, F, d = lq.stationary_values()\n",
    "F = F.flatten()\n",
    "out1 = f\"F = [{F[0]:.3f}, {F[1]:.3f}, {F[2]:.3f}]\"\n",
    "h0, h1, h2 = -F[2], 1 - F[0], -F[1]\n",
    "out2 = f\"(h0, h1, h2) = ({h0:.3f}, {h1:.3f}, {h2:.3f})\"\n",
    "\n",
    "print(out1)\n",
    "print(out2)"
   ]
  },
  {
   "cell_type": "code",
   "execution_count": 5,
   "id": "099514ad",
   "metadata": {},
   "outputs": [
    {
     "name": "stdout",
     "output_type": "stream",
     "text": [
      "Equilibrium pair = 95.0818452486, 0.952459076301\n",
      "f(h0, h1, h2) = {h0}, {h1}, {h2}\n"
     ]
    }
   ],
   "source": [
    "candidates = ((94.0886298678, 0.923409232937),\n",
    "              (93.2119845412, 0.984323478873),\n",
    "              (95.0818452486, 0.952459076301))\n",
    "\n",
    "for κ0, κ1 in candidates:\n",
    "\n",
    "    # Form the associated law of motion\n",
    "    A = np.array([[1, 0, 0], [0, κ1, κ0], [0, 0, 1]])\n",
    "\n",
    "    # Solve the LQ problem for the firm\n",
    "    lq = LQ(Q, R, A, B, beta=β)\n",
    "    P, F, d = lq.stationary_values()\n",
    "    F = F.flatten()\n",
    "    h0, h1, h2 = -F[2], 1 - F[0], -F[1]\n",
    "\n",
    "    # Test the equilibrium condition\n",
    "    if np.allclose((κ0, κ1), (h0, h1 + h2)):\n",
    "        print(f'Equilibrium pair = {κ0}, {κ1}')\n",
    "        print('f(h0, h1, h2) = {h0}, {h1}, {h2}')\n",
    "        break"
   ]
  },
  {
   "cell_type": "code",
   "execution_count": 6,
   "id": "ffc748ff",
   "metadata": {},
   "outputs": [
    {
     "name": "stdout",
     "output_type": "stream",
     "text": [
      "95.08187459214828 0.9524590627039239\n"
     ]
    }
   ],
   "source": [
    "# Formulate the planner's LQ problem\n",
    "\n",
    "A = np.array([[1, 0], [0, 1]])\n",
    "B = np.array([[1], [0]])\n",
    "R = np.array([[a1 / 2, -a0 / 2], [-a0 / 2, 0]])\n",
    "Q = γ / 2\n",
    "\n",
    "# Solve for the optimal policy\n",
    "\n",
    "lq = LQ(Q, R, A, B, beta=β)\n",
    "P, F, d = lq.stationary_values()\n",
    "\n",
    "# Print the results\n",
    "\n",
    "F = F.flatten()\n",
    "κ0, κ1 = -F[1], 1 - F[0]\n",
    "print(κ0, κ1)"
   ]
  },
  {
   "cell_type": "code",
   "execution_count": 7,
   "id": "c9fa13dc",
   "metadata": {},
   "outputs": [
    {
     "name": "stdout",
     "output_type": "stream",
     "text": [
      "73.47294403502859 0.9265270559649703\n"
     ]
    }
   ],
   "source": [
    "A = np.array([[1, 0], [0, 1]])\n",
    "B = np.array([[1], [0]])\n",
    "R = np.array([[a1, -a0 / 2], [-a0 / 2, 0]])\n",
    "Q = γ / 2\n",
    "\n",
    "lq = LQ(Q, R, A, B, beta=β)\n",
    "P, F, d = lq.stationary_values()\n",
    "\n",
    "F = F.flatten()\n",
    "m0, m1 = -F[1], 1 - F[0]\n",
    "print(m0, m1)"
   ]
  }
 ],
 "metadata": {
  "jupytext": {
   "text_representation": {
    "extension": ".md",
    "format_name": "myst"
   }
  },
  "kernelspec": {
   "display_name": "Python 3",
   "language": "python",
   "name": "python3"
  },
  "language_info": {
   "codemirror_mode": {
    "name": "ipython",
    "version": 3
   },
   "file_extension": ".py",
   "mimetype": "text/x-python",
   "name": "python",
   "nbconvert_exporter": "python",
   "pygments_lexer": "ipython3",
   "version": "3.9.13"
  },
  "source_map": [
   10,
   33,
   38,
   69,
   74,
   78,
   80,
   656,
   688,
   754,
   775,
   852,
   870,
   916,
   928
  ]
 },
 "nbformat": 4,
 "nbformat_minor": 5
}