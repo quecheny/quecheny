{
 "cells": [
  {
   "cell_type": "code",
   "execution_count": 1,
   "id": "f874a887",
   "metadata": {},
   "outputs": [],
   "source": [
    "import numpy as np\n",
    "import numpy.linalg as LA\n",
    "import matplotlib.pyplot as plt\n",
    "%matplotlib inline"
   ]
  },
  {
   "cell_type": "code",
   "execution_count": 2,
   "id": "94198a18",
   "metadata": {},
   "outputs": [
    {
     "name": "stdout",
     "output_type": "stream",
     "text": [
      "Rank of matrix:\n",
      " 2\n",
      "S: \n",
      " [2.69e+01 1.86e+00 8.37e-16 5.83e-16 4.43e-17]\n",
      "U:\n",
      " [[-0.27 -0.73  0.55  0.31  0.04]\n",
      " [-0.35 -0.42 -0.29 -0.78 -0.07]\n",
      " [-0.43 -0.11 -0.65  0.46  0.42]\n",
      " [-0.51  0.19 -0.06  0.22 -0.81]\n",
      " [-0.59  0.5   0.44 -0.19  0.41]]\n",
      "Column space:\n",
      " [[-0.27 -0.35]\n",
      " [ 0.73  0.42]\n",
      " [ 0.14 -0.29]\n",
      " [ 0.53 -0.77]\n",
      " [ 0.32  0.14]]\n",
      "Left null space:\n",
      " [[ 0.55  0.31  0.04]\n",
      " [-0.29 -0.78 -0.07]\n",
      " [-0.65  0.46  0.42]\n",
      " [-0.06  0.22 -0.81]\n",
      " [ 0.44 -0.19  0.41]]\n",
      "V.T:\n",
      " [[-0.27  0.73  0.14  0.53  0.32]\n",
      " [-0.35  0.42 -0.29 -0.77  0.14]\n",
      " [-0.43  0.11 -0.25  0.2  -0.84]\n",
      " [-0.51 -0.19  0.81 -0.19 -0.05]\n",
      " [-0.59 -0.5  -0.41  0.23  0.42]]\n",
      "Row space:\n",
      " [[-0.27 -0.35 -0.43 -0.51 -0.59]\n",
      " [-0.73 -0.42 -0.11  0.19  0.5 ]]\n",
      "Right null space:\n",
      " [[-0.43  0.11 -0.25  0.2  -0.84]\n",
      " [-0.51 -0.19  0.81 -0.19 -0.05]\n",
      " [-0.59 -0.5  -0.41  0.23  0.42]]\n"
     ]
    }
   ],
   "source": [
    "np.set_printoptions(precision=2)\n",
    "\n",
    "# Define the matrix\n",
    "A = np.array([[1, 2, 3, 4, 5],\n",
    "              [2, 3, 4, 5, 6],\n",
    "              [3, 4, 5, 6, 7],\n",
    "              [4, 5, 6, 7, 8],\n",
    "              [5, 6, 7, 8, 9]])\n",
    "\n",
    "# Compute the SVD of the matrix\n",
    "U, S, V = np.linalg.svd(A,full_matrices=True)\n",
    "\n",
    "# Compute the rank of the matrix\n",
    "rank = np.linalg.matrix_rank(A)\n",
    "\n",
    "# Print the rank of the matrix\n",
    "print(\"Rank of matrix:\\n\", rank)\n",
    "print(\"S: \\n\", S)\n",
    "\n",
    "# Compute the four fundamental subspaces\n",
    "row_space = U[:, :rank]\n",
    "col_space = V[:, :rank]\n",
    "null_space = V[:, rank:]\n",
    "left_null_space = U[:, rank:]\n",
    "\n",
    "\n",
    "print(\"U:\\n\", U)\n",
    "print(\"Column space:\\n\", col_space)\n",
    "print(\"Left null space:\\n\", left_null_space)\n",
    "print(\"V.T:\\n\", V.T)\n",
    "print(\"Row space:\\n\", row_space.T)\n",
    "print(\"Right null space:\\n\", null_space.T)"
   ]
  },
  {
   "cell_type": "code",
   "execution_count": 3,
   "id": "ada2c121",
   "metadata": {},
   "outputs": [
    {
     "name": "stdout",
     "output_type": "stream",
     "text": [
      "U, S, V =\n"
     ]
    },
    {
     "data": {
      "text/plain": [
       "(array([[-0.34, -0.56, -0.46, -0.53, -0.29],\n",
       "        [-0.45, -0.46,  0.01,  0.44,  0.62],\n",
       "        [-0.42, -0.09,  0.84, -0.26, -0.21],\n",
       "        [-0.58,  0.35, -0.23,  0.49, -0.5 ],\n",
       "        [-0.4 ,  0.59, -0.17, -0.48,  0.48]]),\n",
       " array([1.97, 0.92]),\n",
       " array([[-0.75, -0.66],\n",
       "        [-0.66,  0.75]]))"
      ]
     },
     "execution_count": 3,
     "metadata": {},
     "output_type": "execute_result"
    }
   ],
   "source": [
    "import numpy as np\n",
    "X = np.random.rand(5,2)\n",
    "U, S, V = np.linalg.svd(X,full_matrices=True)  # full SVD\n",
    "Uhat, Shat, Vhat = np.linalg.svd(X,full_matrices=False) # economy SVD\n",
    "print('U, S, V =')\n",
    "U, S, V"
   ]
  },
  {
   "cell_type": "code",
   "execution_count": 4,
   "id": "a35bc8a1",
   "metadata": {},
   "outputs": [
    {
     "name": "stdout",
     "output_type": "stream",
     "text": [
      "Uhat, Shat, Vhat = \n"
     ]
    },
    {
     "data": {
      "text/plain": [
       "(array([[-0.34, -0.56],\n",
       "        [-0.45, -0.46],\n",
       "        [-0.42, -0.09],\n",
       "        [-0.58,  0.35],\n",
       "        [-0.4 ,  0.59]]),\n",
       " array([1.97, 0.92]),\n",
       " array([[-0.75, -0.66],\n",
       "        [-0.66,  0.75]]))"
      ]
     },
     "execution_count": 4,
     "metadata": {},
     "output_type": "execute_result"
    }
   ],
   "source": [
    "print('Uhat, Shat, Vhat = ')\n",
    "Uhat, Shat, Vhat"
   ]
  },
  {
   "cell_type": "code",
   "execution_count": 5,
   "id": "cad1d90c",
   "metadata": {},
   "outputs": [
    {
     "name": "stdout",
     "output_type": "stream",
     "text": [
      "rank of X = 2\n"
     ]
    }
   ],
   "source": [
    "rr = np.linalg.matrix_rank(X)\n",
    "print(f'rank of X = {rr}')"
   ]
  },
  {
   "cell_type": "code",
   "execution_count": 6,
   "id": "4431b38c",
   "metadata": {},
   "outputs": [
    {
     "name": "stdout",
     "output_type": "stream",
     "text": [
      "UUT, UTU = \n"
     ]
    },
    {
     "data": {
      "text/plain": [
       "(array([[ 1.00e+00,  8.76e-17,  1.03e-16,  2.99e-17,  6.02e-17],\n",
       "        [ 8.76e-17,  1.00e+00, -3.75e-17, -1.90e-16, -2.22e-16],\n",
       "        [ 1.03e-16, -3.75e-17,  1.00e+00,  1.05e-16,  1.19e-16],\n",
       "        [ 2.99e-17, -1.90e-16,  1.05e-16,  1.00e+00,  3.15e-16],\n",
       "        [ 6.02e-17, -2.22e-16,  1.19e-16,  3.15e-16,  1.00e+00]]),\n",
       " array([[ 1.00e+00, -1.82e-16,  3.24e-17,  1.83e-16,  1.09e-16],\n",
       "        [-1.82e-16,  1.00e+00, -6.08e-17, -1.41e-16, -2.18e-16],\n",
       "        [ 3.24e-17, -6.08e-17,  1.00e+00,  5.18e-17,  2.39e-17],\n",
       "        [ 1.83e-16, -1.41e-16,  5.18e-17,  1.00e+00,  1.56e-16],\n",
       "        [ 1.09e-16, -2.18e-16,  2.39e-17,  1.56e-16,  1.00e+00]]))"
      ]
     },
     "execution_count": 6,
     "metadata": {},
     "output_type": "execute_result"
    }
   ],
   "source": [
    "UTU = U.T@U\n",
    "UUT = U@U.T\n",
    "print('UUT, UTU = ')\n",
    "UUT, UTU"
   ]
  },
  {
   "cell_type": "code",
   "execution_count": 7,
   "id": "1680eb71",
   "metadata": {},
   "outputs": [
    {
     "name": "stdout",
     "output_type": "stream",
     "text": [
      "UhatUhatT, UhatTUhat= \n"
     ]
    },
    {
     "data": {
      "text/plain": [
       "(array([[ 0.43,  0.41,  0.19,  0.  , -0.19],\n",
       "        [ 0.41,  0.42,  0.23,  0.1 , -0.09],\n",
       "        [ 0.19,  0.23,  0.19,  0.22,  0.12],\n",
       "        [ 0.  ,  0.1 ,  0.22,  0.46,  0.44],\n",
       "        [-0.19, -0.09,  0.12,  0.44,  0.51]]),\n",
       " array([[ 1.00e+00, -1.82e-16],\n",
       "        [-1.82e-16,  1.00e+00]]))"
      ]
     },
     "execution_count": 7,
     "metadata": {},
     "output_type": "execute_result"
    }
   ],
   "source": [
    "UhatUhatT = Uhat@Uhat.T\n",
    "UhatTUhat = Uhat.T@Uhat\n",
    "print('UhatUhatT, UhatTUhat= ')\n",
    "UhatUhatT, UhatTUhat"
   ]
  },
  {
   "cell_type": "code",
   "execution_count": 8,
   "id": "32cc506e",
   "metadata": {},
   "outputs": [
    {
     "name": "stdout",
     "output_type": "stream",
     "text": [
      "U, S, V = \n"
     ]
    },
    {
     "data": {
      "text/plain": [
       "(array([[-0.92, -0.39],\n",
       "        [-0.39,  0.92]]),\n",
       " array([2.24, 0.64]),\n",
       " array([[-3.61e-01, -4.17e-01, -4.01e-01, -4.51e-01, -5.76e-01],\n",
       "        [-1.45e-04, -5.24e-01, -4.07e-01, -1.00e-01,  7.42e-01],\n",
       "        [-3.18e-01, -4.81e-01,  8.03e-01, -1.22e-01,  8.41e-02],\n",
       "        [-4.39e-01, -2.14e-01, -1.59e-01,  8.49e-01, -1.24e-01],\n",
       "        [-7.59e-01,  5.24e-01, -5.34e-02, -2.25e-01,  3.10e-01]]))"
      ]
     },
     "execution_count": 8,
     "metadata": {},
     "output_type": "execute_result"
    }
   ],
   "source": [
    "import numpy as np\n",
    "X = np.random.rand(2,5)\n",
    "U, S, V = np.linalg.svd(X,full_matrices=True)  # full SVD\n",
    "Uhat, Shat, Vhat = np.linalg.svd(X,full_matrices=False) # economy SVD\n",
    "print('U, S, V = ')\n",
    "U, S, V"
   ]
  },
  {
   "cell_type": "code",
   "execution_count": 9,
   "id": "37efffba",
   "metadata": {},
   "outputs": [
    {
     "name": "stdout",
     "output_type": "stream",
     "text": [
      "Uhat, Shat, Vhat = \n"
     ]
    },
    {
     "data": {
      "text/plain": [
       "(array([[-0.92, -0.39],\n",
       "        [-0.39,  0.92]]),\n",
       " array([2.24, 0.64]),\n",
       " array([[-3.61e-01, -4.17e-01, -4.01e-01, -4.51e-01, -5.76e-01],\n",
       "        [-1.45e-04, -5.24e-01, -4.07e-01, -1.00e-01,  7.42e-01]]))"
      ]
     },
     "execution_count": 9,
     "metadata": {},
     "output_type": "execute_result"
    }
   ],
   "source": [
    "print('Uhat, Shat, Vhat = ')\n",
    "Uhat, Shat, Vhat"
   ]
  },
  {
   "cell_type": "code",
   "execution_count": 10,
   "id": "7c98ae38",
   "metadata": {},
   "outputs": [
    {
     "data": {
      "text/plain": [
       "True"
      ]
     },
     "execution_count": 10,
     "metadata": {},
     "output_type": "execute_result"
    }
   ],
   "source": [
    "SShat=np.diag(Shat)\n",
    "np.allclose(X, Uhat@SShat@Vhat)"
   ]
  },
  {
   "cell_type": "code",
   "execution_count": 11,
   "id": "a163d564",
   "metadata": {},
   "outputs": [],
   "source": [
    "class DecomAnalysis:\n",
    "    \"\"\"\n",
    "    A class for conducting PCA and SVD.\n",
    "    \"\"\"\n",
    "\n",
    "    def __init__(self, X, n_component=None):\n",
    "\n",
    "        self.X = X\n",
    "\n",
    "        self.Ω = (X @ X.T)\n",
    "\n",
    "        self.m, self.n = X.shape\n",
    "        self.r = LA.matrix_rank(X)\n",
    "\n",
    "        if n_component:\n",
    "            self.n_component = n_component\n",
    "        else:\n",
    "            self.n_component = self.m\n",
    "\n",
    "    def pca(self):\n",
    "\n",
    "        𝜆, P = LA.eigh(self.Ω)    # columns of P are eigenvectors\n",
    "\n",
    "        ind = sorted(range(𝜆.size), key=lambda x: 𝜆[x], reverse=True)\n",
    "\n",
    "        # sort by eigenvalues\n",
    "        self.𝜆 = 𝜆[ind]\n",
    "        P = P[:, ind]\n",
    "        self.P = P @ diag_sign(P)\n",
    "\n",
    "        self.Λ = np.diag(self.𝜆)\n",
    "\n",
    "        self.explained_ratio_pca = np.cumsum(self.𝜆) / self.𝜆.sum()\n",
    "\n",
    "        # compute the N by T matrix of principal components\n",
    "        self.𝜖 = self.P.T @ self.X\n",
    "\n",
    "        P = self.P[:, :self.n_component]\n",
    "        𝜖 = self.𝜖[:self.n_component, :]\n",
    "\n",
    "        # transform data\n",
    "        self.X_pca = P @ 𝜖\n",
    "\n",
    "    def svd(self):\n",
    "\n",
    "        U, 𝜎, VT = LA.svd(self.X)\n",
    "\n",
    "        ind = sorted(range(𝜎.size), key=lambda x: 𝜎[x], reverse=True)\n",
    "\n",
    "        # sort by eigenvalues\n",
    "        d = min(self.m, self.n)\n",
    "\n",
    "        self.𝜎 = 𝜎[ind]\n",
    "        U = U[:, ind]\n",
    "        D = diag_sign(U)\n",
    "        self.U = U @ D\n",
    "        VT[:d, :] = D @ VT[ind, :]\n",
    "        self.VT = VT\n",
    "\n",
    "        self.Σ = np.zeros((self.m, self.n))\n",
    "        self.Σ[:d, :d] = np.diag(self.𝜎)\n",
    "\n",
    "        𝜎_sq = self.𝜎 ** 2\n",
    "        self.explained_ratio_svd = np.cumsum(𝜎_sq) / 𝜎_sq.sum()\n",
    "\n",
    "        # slicing matrices by the number of components to use\n",
    "        U = self.U[:, :self.n_component]\n",
    "        Σ = self.Σ[:self.n_component, :self.n_component]\n",
    "        VT = self.VT[:self.n_component, :]\n",
    "\n",
    "        # transform data\n",
    "        self.X_svd = U @ Σ @ VT\n",
    "\n",
    "    def fit(self, n_component):\n",
    "\n",
    "        # pca\n",
    "        P = self.P[:, :n_component]\n",
    "        𝜖 = self.𝜖[:n_component, :]\n",
    "\n",
    "        # transform data\n",
    "        self.X_pca = P @ 𝜖\n",
    "\n",
    "        # svd\n",
    "        U = self.U[:, :n_component]\n",
    "        Σ = self.Σ[:n_component, :n_component]\n",
    "        VT = self.VT[:n_component, :]\n",
    "\n",
    "        # transform data\n",
    "        self.X_svd = U @ Σ @ VT\n",
    "\n",
    "def diag_sign(A):\n",
    "    \"Compute the signs of the diagonal of matrix A\"\n",
    "\n",
    "    D = np.diag(np.sign(np.diag(A)))\n",
    "\n",
    "    return D"
   ]
  },
  {
   "cell_type": "code",
   "execution_count": 12,
   "id": "c6fe5839",
   "metadata": {},
   "outputs": [],
   "source": [
    "def compare_pca_svd(da):\n",
    "    \"\"\"\n",
    "    Compare the outcomes of PCA and SVD.\n",
    "    \"\"\"\n",
    "\n",
    "    da.pca()\n",
    "    da.svd()\n",
    "\n",
    "    print('Eigenvalues and Singular values\\n')\n",
    "    print(f'λ = {da.λ}\\n')\n",
    "    print(f'σ^2 = {da.σ**2}\\n')\n",
    "    print('\\n')\n",
    "\n",
    "    # loading matrices\n",
    "    fig, axs = plt.subplots(1, 2, figsize=(14, 5))\n",
    "    plt.suptitle('loadings')\n",
    "    axs[0].plot(da.P.T)\n",
    "    axs[0].set_title('P')\n",
    "    axs[0].set_xlabel('m')\n",
    "    axs[1].plot(da.U.T)\n",
    "    axs[1].set_title('U')\n",
    "    axs[1].set_xlabel('m')\n",
    "    plt.show()\n",
    "\n",
    "    # principal components\n",
    "    fig, axs = plt.subplots(1, 2, figsize=(14, 5))\n",
    "    plt.suptitle('principal components')\n",
    "    axs[0].plot(da.ε.T)\n",
    "    axs[0].set_title('ε')\n",
    "    axs[0].set_xlabel('n')\n",
    "    axs[1].plot(da.VT[:da.r, :].T * np.sqrt(da.λ))\n",
    "    axs[1].set_title('$V^\\top *\\sqrt{\\lambda}$')\n",
    "    axs[1].set_xlabel('n')\n",
    "    plt.show()"
   ]
  }
 ],
 "metadata": {
  "jupytext": {
   "text_representation": {
    "extension": ".md",
    "format_name": "myst",
    "format_version": 0.13,
    "jupytext_version": "1.10.3"
   }
  },
  "kernelspec": {
   "display_name": "Python 3",
   "language": "python",
   "name": "python3"
  },
  "language_info": {
   "codemirror_mode": {
    "name": "ipython",
    "version": 3
   },
   "file_extension": ".py",
   "mimetype": "text/x-python",
   "name": "python",
   "nbconvert_exporter": "python",
   "pygments_lexer": "ipython3",
   "version": "3.9.13"
  },
  "source_map": [
   12,
   294,
   299,
   303,
   336,
   446,
   455,
   460,
   463,
   473,
   481,
   486,
   508,
   517,
   520,
   523,
   526,
   790,
   887,
   892,
   927
  ]
 },
 "nbformat": 4,
 "nbformat_minor": 5
}