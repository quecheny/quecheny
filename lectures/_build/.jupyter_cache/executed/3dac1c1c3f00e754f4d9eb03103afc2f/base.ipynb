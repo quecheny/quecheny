{
 "cells": [
  {
   "cell_type": "code",
   "execution_count": 1,
   "id": "89e2fe5a",
   "metadata": {},
   "outputs": [],
   "source": [
    "import numpy as np\n",
    "import matplotlib.pyplot as plt\n",
    "from scipy.optimize import fsolve, linprog\n",
    "from textwrap import dedent\n",
    "%matplotlib inline\n",
    "\n",
    "np.set_printoptions(precision=2)"
   ]
  },
  {
   "cell_type": "code",
   "execution_count": 2,
   "id": "298c284b",
   "metadata": {
    "tags": [
     "collapse-20"
    ]
   },
   "outputs": [],
   "source": [
    "class Neumann(object):\n",
    "\n",
    "    \"\"\"\n",
    "    This class describes the Generalized von Neumann growth model as it was\n",
    "    discussed in Kemeny et al. (1956, ECTA) and Gale (1960, Chapter 9.5):\n",
    "\n",
    "    Let:\n",
    "    n ... number of goods\n",
    "    m ... number of activities\n",
    "    A ... input matrix is m-by-n\n",
    "        a_{i,j} - amount of good j consumed by activity i\n",
    "    B ... output matrix is m-by-n\n",
    "        b_{i,j} - amount of good j produced by activity i\n",
    "\n",
    "    x ... intensity vector (m-vector) with non-negative entries\n",
    "        x'B - the vector of goods produced\n",
    "        x'A - the vector of goods consumed\n",
    "    p ... price vector (n-vector) with non-negative entries\n",
    "        Bp - the revenue vector for every activity\n",
    "        Ap - the cost of each activity\n",
    "\n",
    "    Both A and B have non-negative entries. Moreover, we assume that\n",
    "    (1) Assumption I (every good which is consumed is also produced):\n",
    "        for all j, b_{.,j} > 0, i.e. at least one entry is strictly positive\n",
    "    (2) Assumption II (no free lunch):\n",
    "        for all i, a_{i,.} > 0, i.e. at least one entry is strictly positive\n",
    "\n",
    "    Parameters\n",
    "    ----------\n",
    "    A : array_like or scalar(float)\n",
    "        Part of the state transition equation.  It should be `n x n`\n",
    "    B : array_like or scalar(float)\n",
    "        Part of the state transition equation.  It should be `n x k`\n",
    "    \"\"\"\n",
    "\n",
    "    def __init__(self, A, B):\n",
    "\n",
    "        self.A, self.B = list(map(self.convert, (A, B)))\n",
    "        self.m, self.n = self.A.shape\n",
    "\n",
    "        # Check if (A, B) satisfy the basic assumptions\n",
    "        assert self.A.shape == self.B.shape, 'The input and output matrices \\\n",
    "              must have the same dimensions!'\n",
    "        assert (self.A >= 0).all() and (self.B >= 0).all(), 'The input and \\\n",
    "              output matrices must have only non-negative entries!'\n",
    "\n",
    "        # (1) Check whether Assumption I is satisfied:\n",
    "        if (np.sum(B, 0) <= 0).any():\n",
    "            self.AI = False\n",
    "        else:\n",
    "            self.AI = True\n",
    "\n",
    "        # (2) Check whether Assumption II is satisfied:\n",
    "        if (np.sum(A, 1) <= 0).any():\n",
    "            self.AII = False\n",
    "        else:\n",
    "            self.AII = True\n",
    "\n",
    "    def __repr__(self):\n",
    "        return self.__str__()\n",
    "\n",
    "    def __str__(self):\n",
    "\n",
    "        me = \"\"\"\n",
    "        Generalized von Neumann expanding model:\n",
    "          - number of goods          : {n}\n",
    "          - number of activities     : {m}\n",
    "\n",
    "        Assumptions:\n",
    "          - AI:  every column of B has a positive entry    : {AI}\n",
    "          - AII: every row of A has a positive entry       : {AII}\n",
    "\n",
    "        \"\"\"\n",
    "        # Irreducible                                       : {irr}\n",
    "        return dedent(me.format(n=self.n, m=self.m,\n",
    "                                AI=self.AI, AII=self.AII))\n",
    "\n",
    "    def convert(self, x):\n",
    "        \"\"\"\n",
    "        Convert array_like objects (lists of lists, floats, etc.) into\n",
    "        well-formed 2D NumPy arrays\n",
    "        \"\"\"\n",
    "        return np.atleast_2d(np.asarray(x))\n",
    "\n",
    "\n",
    "    def bounds(self):\n",
    "        \"\"\"\n",
    "        Calculate the trivial upper and lower bounds for alpha (expansion rate)\n",
    "        and beta (interest factor). See the proof of Theorem 9.8 in Gale (1960)\n",
    "        \"\"\"\n",
    "\n",
    "        n, m = self.n, self.m\n",
    "        A, B = self.A, self.B\n",
    "\n",
    "        f = lambda α: ((B - α * A) @ np.ones((n, 1))).max()\n",
    "        g = lambda β: (np.ones((1, m)) @ (B - β * A)).min()\n",
    "\n",
    "        UB = fsolve(f, 1).item()  # Upper bound for α, β\n",
    "        LB = fsolve(g, 2).item()  # Lower bound for α, β\n",
    "\n",
    "        return LB, UB\n",
    "\n",
    "\n",
    "    def zerosum(self, γ, dual=False):\n",
    "        \"\"\"\n",
    "        Given gamma, calculate the value and optimal strategies of a\n",
    "        two-player zero-sum game given by the matrix\n",
    "\n",
    "                M(gamma) = B - gamma * A\n",
    "\n",
    "        Row player maximizing, column player minimizing\n",
    "\n",
    "        Zero-sum game as an LP (primal --> α)\n",
    "\n",
    "            max (0', 1) @ (x', v)\n",
    "            subject to\n",
    "            [-M', ones(n, 1)] @ (x', v)' <= 0\n",
    "            (x', v) @ (ones(m, 1), 0) = 1\n",
    "            (x', v) >= (0', -inf)\n",
    "\n",
    "        Zero-sum game as an LP (dual --> beta)\n",
    "\n",
    "            min (0', 1) @ (p', u)\n",
    "            subject to\n",
    "            [M, -ones(m, 1)] @ (p', u)' <= 0\n",
    "            (p', u) @ (ones(n, 1), 0) = 1\n",
    "            (p', u) >= (0', -inf)\n",
    "\n",
    "        Outputs:\n",
    "        --------\n",
    "        value: scalar\n",
    "            value of the zero-sum game\n",
    "\n",
    "        strategy: vector\n",
    "            if dual = False, it is the intensity vector,\n",
    "            if dual = True, it is the price vector\n",
    "        \"\"\"\n",
    "\n",
    "        A, B, n, m = self.A, self.B, self.n, self.m\n",
    "        M = B - γ * A\n",
    "\n",
    "        if dual == False:\n",
    "            # Solve the primal LP (for details see the description)\n",
    "            # (1) Define the problem for v as a maximization (linprog minimizes)\n",
    "            c = np.hstack([np.zeros(m), -1])\n",
    "\n",
    "            # (2) Add constraints :\n",
    "            # ... non-negativity constraints\n",
    "            bounds = tuple(m * [(0, None)] + [(None, None)])\n",
    "            # ... inequality constraints\n",
    "            A_iq = np.hstack([-M.T, np.ones((n, 1))])\n",
    "            b_iq = np.zeros((n, 1))\n",
    "            # ... normalization\n",
    "            A_eq = np.hstack([np.ones(m), 0]).reshape(1, m + 1)\n",
    "            b_eq = 1\n",
    "\n",
    "            res = linprog(c, A_ub=A_iq, b_ub=b_iq, A_eq=A_eq, b_eq=b_eq,\n",
    "                          bounds=bounds)\n",
    "\n",
    "        else:\n",
    "            # Solve the dual LP (for details see the description)\n",
    "            # (1) Define the problem for v as a maximization (linprog minimizes)\n",
    "            c = np.hstack([np.zeros(n), 1])\n",
    "\n",
    "            # (2) Add constraints :\n",
    "            # ... non-negativity constraints\n",
    "            bounds = tuple(n * [(0, None)] + [(None, None)])\n",
    "            # ... inequality constraints\n",
    "            A_iq = np.hstack([M, -np.ones((m, 1))])\n",
    "            b_iq = np.zeros((m, 1))\n",
    "            # ... normalization\n",
    "            A_eq = np.hstack([np.ones(n), 0]).reshape(1, n + 1)\n",
    "            b_eq = 1\n",
    "\n",
    "            res = linprog(c, A_ub=A_iq, b_ub=b_iq, A_eq=A_eq, b_eq=b_eq,\n",
    "                          bounds=bounds)\n",
    "\n",
    "        if res.status != 0:\n",
    "            print(res.message)\n",
    "\n",
    "        # Pull out the required quantities\n",
    "        value = res.x[-1]\n",
    "        strategy = res.x[:-1]\n",
    "\n",
    "        return value, strategy\n",
    "\n",
    "\n",
    "    def expansion(self, tol=1e-8, maxit=1000):\n",
    "        \"\"\"\n",
    "        The algorithm used here is described in Hamburger-Thompson-Weil\n",
    "        (1967, ECTA). It is based on a simple bisection argument and utilizes\n",
    "        the idea that for a given γ (= α or β), the matrix \"M = B - γ * A\"\n",
    "        defines a two-player zero-sum game, where the optimal strategies are\n",
    "        the (normalized) intensity and price vector.\n",
    "\n",
    "        Outputs:\n",
    "        --------\n",
    "        alpha: scalar\n",
    "            optimal expansion rate\n",
    "        \"\"\"\n",
    "\n",
    "        LB, UB = self.bounds()\n",
    "\n",
    "        for iter in range(maxit):\n",
    "\n",
    "            γ = (LB + UB) / 2\n",
    "            ZS = self.zerosum(γ=γ)\n",
    "            V = ZS[0]     # value of the game with γ\n",
    "\n",
    "            if V >= 0:\n",
    "                LB = γ\n",
    "            else:\n",
    "                UB = γ\n",
    "\n",
    "            if abs(UB - LB) < tol:\n",
    "                γ = (UB + LB) / 2\n",
    "                x = self.zerosum(γ=γ)[1]\n",
    "                p = self.zerosum(γ=γ, dual=True)[1]\n",
    "                break\n",
    "\n",
    "        return γ, x, p\n",
    "\n",
    "    def interest(self, tol=1e-8, maxit=1000):\n",
    "        \"\"\"\n",
    "        The algorithm used here is described in Hamburger-Thompson-Weil\n",
    "        (1967, ECTA). It is based on a simple bisection argument and utilizes\n",
    "        the idea that for a given gamma (= alpha or beta),\n",
    "        the matrix \"M = B - γ * A\" defines a two-player zero-sum game,\n",
    "        where the optimal strategies are the (normalized) intensity and price\n",
    "        vector\n",
    "\n",
    "        Outputs:\n",
    "        --------\n",
    "        beta: scalar\n",
    "            optimal interest rate\n",
    "        \"\"\"\n",
    "\n",
    "        LB, UB = self.bounds()\n",
    "\n",
    "        for iter in range(maxit):\n",
    "            γ = (LB + UB) / 2\n",
    "            ZS = self.zerosum(γ=γ, dual=True)\n",
    "            V = ZS[0]\n",
    "\n",
    "            if V > 0:\n",
    "                LB = γ\n",
    "            else:\n",
    "                UB = γ\n",
    "\n",
    "            if abs(UB - LB) < tol:\n",
    "                γ = (UB + LB) / 2\n",
    "                p = self.zerosum(γ=γ, dual=True)[1]\n",
    "                x = self.zerosum(γ=γ)[1]\n",
    "                break\n",
    "\n",
    "        return γ, x, p"
   ]
  },
  {
   "cell_type": "code",
   "execution_count": 3,
   "id": "536bf198",
   "metadata": {},
   "outputs": [],
   "source": [
    "# (1) Irreducible (A, B) example: α_0 = β_0\n",
    "A1 = np.array([[0, 1, 0, 0],\n",
    "               [1, 0, 0, 1],\n",
    "               [0, 0, 1, 0]])\n",
    "\n",
    "B1 = np.array([[1, 0, 0, 0],\n",
    "               [0, 0, 2, 0],\n",
    "               [0, 1, 0, 1]])\n",
    "\n",
    "# (2) Reducible (A, B) example: β_0 < α_0\n",
    "A2 = np.array([[0, 1, 0, 0, 0, 0],\n",
    "               [1, 0, 1, 0, 0, 0],\n",
    "               [0, 0, 0, 1, 0, 0],\n",
    "               [0, 0, 1, 0, 0, 1],\n",
    "               [0, 0, 0, 0, 1, 0]])\n",
    "\n",
    "B2 = np.array([[1, 0, 0, 1, 0, 0],\n",
    "               [0, 1, 0, 0, 0, 0],\n",
    "               [0, 0, 1, 0, 0, 0],\n",
    "               [0, 0, 0, 0, 2, 0],\n",
    "               [0, 0, 0, 1, 0, 1]])"
   ]
  },
  {
   "cell_type": "code",
   "execution_count": 4,
   "id": "be79dba5",
   "metadata": {},
   "outputs": [
    {
     "data": {
      "text/plain": [
       "\n",
       "Generalized von Neumann expanding model:\n",
       "  - number of goods          : 4\n",
       "  - number of activities     : 3\n",
       "\n",
       "Assumptions:\n",
       "  - AI:  every column of B has a positive entry    : True\n",
       "  - AII: every row of A has a positive entry       : True\n"
      ]
     },
     "execution_count": 4,
     "metadata": {},
     "output_type": "execute_result"
    }
   ],
   "source": [
    "n1 = Neumann(A1, B1)\n",
    "n1"
   ]
  },
  {
   "cell_type": "code",
   "execution_count": 5,
   "id": "08fcded5",
   "metadata": {},
   "outputs": [
    {
     "data": {
      "text/plain": [
       "\n",
       "Generalized von Neumann expanding model:\n",
       "  - number of goods          : 6\n",
       "  - number of activities     : 5\n",
       "\n",
       "Assumptions:\n",
       "  - AI:  every column of B has a positive entry    : True\n",
       "  - AII: every row of A has a positive entry       : True\n"
      ]
     },
     "execution_count": 5,
     "metadata": {},
     "output_type": "execute_result"
    }
   ],
   "source": [
    "n2 = Neumann(A2, B2)\n",
    "n2"
   ]
  },
  {
   "cell_type": "code",
   "execution_count": 6,
   "id": "d0031ede",
   "metadata": {},
   "outputs": [
    {
     "data": {
      "text/plain": [
       "(1.0, 2.0)"
      ]
     },
     "execution_count": 6,
     "metadata": {},
     "output_type": "execute_result"
    }
   ],
   "source": [
    "n1.bounds()"
   ]
  },
  {
   "cell_type": "code",
   "execution_count": 7,
   "id": "f7abafcf",
   "metadata": {},
   "outputs": [
    {
     "name": "stdout",
     "output_type": "stream",
     "text": [
      "Value of the game with γ = 2\n",
      "-0.24\n",
      "Intensity vector (from the primal)\n",
      "[0.32 0.28 0.4 ]\n",
      "Price vector (from the dual)\n",
      "[0.4  0.32 0.28 0.  ]\n"
     ]
    }
   ],
   "source": [
    "γ = 2\n",
    "\n",
    "print(f'Value of the game with γ = {γ}')\n",
    "print(n1.zerosum(γ=γ)[0])\n",
    "print('Intensity vector (from the primal)')\n",
    "print(n1.zerosum(γ=γ)[1])\n",
    "print('Price vector (from the dual)')\n",
    "print(n1.zerosum(γ=γ, dual=True)[1])"
   ]
  },
  {
   "cell_type": "code",
   "execution_count": 8,
   "id": "bea69301",
   "metadata": {},
   "outputs": [
    {
     "data": {
      "image/png": "[encoded data removed]",
      "text/plain": [
       "<Figure size 1400x500 with 2 Axes>"
      ]
     },
     "metadata": {},
     "output_type": "display_data"
    }
   ],
   "source": [
    "numb_grid = 100\n",
    "γ_grid = np.linspace(0.4, 2.1, numb_grid)\n",
    "\n",
    "value_ex1_grid = np.asarray([n1.zerosum(γ=γ_grid[i])[0]\n",
    "                            for i in range(numb_grid)])\n",
    "value_ex2_grid = np.asarray([n2.zerosum(γ=γ_grid[i])[0]\n",
    "                            for i in range(numb_grid)])\n",
    "\n",
    "fig, axes = plt.subplots(1, 2, figsize=(14, 5), sharey=True)\n",
    "fig.suptitle(r'The function $V(M(\\gamma))$', fontsize=16)\n",
    "\n",
    "for ax, grid, N, i in zip(axes, (value_ex1_grid, value_ex2_grid),\n",
    "                          (n1, n2), (1, 2)):\n",
    "    ax.plot(γ_grid, grid)\n",
    "    ax.set(title=f'Example {i}', xlabel='$\\gamma$')\n",
    "    ax.axhline(0, c='k', lw=1)\n",
    "    ax.axvline(N.bounds()[0], c='r', ls='--', label='lower bound')\n",
    "    ax.axvline(N.bounds()[1], c='g', ls='--', label='upper bound')\n",
    "\n",
    "plt.show()"
   ]
  },
  {
   "cell_type": "code",
   "execution_count": 9,
   "id": "67475686",
   "metadata": {},
   "outputs": [
    {
     "name": "stdout",
     "output_type": "stream",
     "text": [
      "α_0 = 1.2599210478365421\n",
      "x_0 = [0.33 0.26 0.41]\n",
      "The corresponding p from the dual = [0.41 0.33 0.26 0.  ]\n"
     ]
    }
   ],
   "source": [
    "α_0, x, p = n1.expansion()\n",
    "print(f'α_0 = {α_0}')\n",
    "print(f'x_0 = {x}')\n",
    "print(f'The corresponding p from the dual = {p}')"
   ]
  },
  {
   "cell_type": "code",
   "execution_count": 10,
   "id": "1b8427ac",
   "metadata": {},
   "outputs": [
    {
     "name": "stdout",
     "output_type": "stream",
     "text": [
      "β_0 = 1.2599210478365421\n",
      "p_0 = [0.41 0.33 0.26 0.  ]\n",
      "The corresponding x from the primal = [0.33 0.26 0.41]\n"
     ]
    }
   ],
   "source": [
    "β_0, x, p = n1.interest()\n",
    "print(f'β_0 = {β_0}')\n",
    "print(f'p_0 = {p}')\n",
    "print(f'The corresponding x from the primal = {x}')"
   ]
  },
  {
   "cell_type": "code",
   "execution_count": 11,
   "id": "57efd3ff",
   "metadata": {},
   "outputs": [
    {
     "name": "stdout",
     "output_type": "stream",
     "text": [
      "α_0 = 1.259921052493155\n",
      "x_0 = [5.27e-10 0.00e+00 3.27e-01 2.60e-01 4.13e-01]\n",
      "The corresponding p from the dual = [0.   0.21 0.33 0.26 0.21 0.  ]\n"
     ]
    }
   ],
   "source": [
    "α_0, x, p = n2.expansion()\n",
    "print(f'α_0 = {α_0}')\n",
    "print(f'x_0 = {x}')\n",
    "print(f'The corresponding p from the dual = {p}')"
   ]
  },
  {
   "cell_type": "code",
   "execution_count": 12,
   "id": "bb6131a1",
   "metadata": {},
   "outputs": [
    {
     "name": "stdout",
     "output_type": "stream",
     "text": [
      "β_0 = 1.0000000009313226\n",
      "p_0 = [ 5.00e-01  5.00e-01 -1.55e-09 -1.24e-09 -9.31e-10  0.00e+00]\n",
      "The corresponding x from the primal = [-0.    0.    0.25  0.25  0.5 ]\n"
     ]
    }
   ],
   "source": [
    "β_0, x, p = n2.interest()\n",
    "print(f'β_0 = {β_0}')\n",
    "print(f'p_0 = {p}')\n",
    "print(f'The corresponding x from the primal = {x}')"
   ]
  }
 ],
 "metadata": {
  "jupytext": {
   "text_representation": {
    "extension": ".md",
    "format_name": "myst"
   }
  },
  "kernelspec": {
   "display_name": "Python 3",
   "language": "python",
   "name": "python3"
  },
  "language_info": {
   "codemirror_mode": {
    "name": "ipython",
    "version": 3
   },
   "file_extension": ".py",
   "mimetype": "text/x-python",
   "name": "python",
   "nbconvert_exporter": "python",
   "pygments_lexer": "ipython3",
   "version": "3.9.13"
  },
  "source_map": [
   10,
   49,
   57,
   61,
   321,
   426,
   448,
   453,
   456,
   460,
   463,
   868,
   870,
   899,
   910,
   931,
   936,
   941,
   946,
   951,
   966,
   973,
   978
  ]
 },
 "nbformat": 4,
 "nbformat_minor": 5
}