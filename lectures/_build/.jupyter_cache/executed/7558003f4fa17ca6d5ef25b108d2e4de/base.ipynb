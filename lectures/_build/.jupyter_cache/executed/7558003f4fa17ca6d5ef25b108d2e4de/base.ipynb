{
 "cells": [
  {
   "cell_type": "code",
   "execution_count": 1,
   "id": "62af42ab",
   "metadata": {
    "tags": [
     "hide-output"
    ]
   },
   "outputs": [
    {
     "name": "stdout",
     "output_type": "stream",
     "text": [
      "Collecting prettytable\n",
      "  Downloading prettytable-3.9.0-py3-none-any.whl (27 kB)\n",
      "Requirement already satisfied: wcwidth in c:\\users\\chenoi\\anaconda3\\lib\\site-packages (from prettytable) (0.2.6)\n",
      "Installing collected packages: prettytable\n",
      "Successfully installed prettytable-3.9.0\n"
     ]
    }
   ],
   "source": [
    "!pip install prettytable"
   ]
  },
  {
   "cell_type": "code",
   "execution_count": 2,
   "id": "a0c5f83e",
   "metadata": {},
   "outputs": [],
   "source": [
    "import numpy as np\n",
    "import prettytable as pt\n",
    "\n",
    "np.random.seed(100)"
   ]
  },
  {
   "cell_type": "code",
   "execution_count": 3,
   "id": "324d09d4",
   "metadata": {},
   "outputs": [],
   "source": [
    "np.set_printoptions(precision=3, suppress=True)"
   ]
  },
  {
   "cell_type": "code",
   "execution_count": 4,
   "id": "8fa8ecbc",
   "metadata": {},
   "outputs": [],
   "source": [
    "v = np.array([[8, 5, 9, 4],\n",
    "              [4, 11, 7, 4],\n",
    "              [9, 7, 6, 4]])\n",
    "n, m = v.shape\n",
    "r = np.array([2, 1, 0])\n",
    "ϵ = 1\n",
    "p = r.copy()\n",
    "buyer_list = np.arange(m)\n",
    "house_list = np.arange(n)"
   ]
  },
  {
   "cell_type": "code",
   "execution_count": 5,
   "id": "b9703bfc",
   "metadata": {},
   "outputs": [
    {
     "data": {
      "text/plain": [
       "array([[ 8,  5,  9,  4],\n",
       "       [ 4, 11,  7,  4],\n",
       "       [ 9,  7,  6,  4]])"
      ]
     },
     "execution_count": 5,
     "metadata": {},
     "output_type": "execute_result"
    }
   ],
   "source": [
    "v"
   ]
  },
  {
   "cell_type": "code",
   "execution_count": 6,
   "id": "c75e0cb5",
   "metadata": {},
   "outputs": [
    {
     "data": {
      "text/plain": [
       "array([2, 1, 0])"
      ]
     },
     "execution_count": 6,
     "metadata": {},
     "output_type": "execute_result"
    }
   ],
   "source": [
    "r"
   ]
  },
  {
   "cell_type": "code",
   "execution_count": 7,
   "id": "46dc438c",
   "metadata": {},
   "outputs": [],
   "source": [
    "def find_argmax_with_randomness(v):\n",
    "    \"\"\"\n",
    "    We build our own verion of argmax function such that the argmax index will be returned randomly\n",
    "    when there are multiple maximum values. This function is similiar to np.argmax(v,axis=0)\n",
    "\n",
    "    Parameters:\n",
    "    ----------\n",
    "    v: 2 dimensional np.array\n",
    "\n",
    "    \"\"\"\n",
    "\n",
    "    n, m = v.shape\n",
    "    index_array = np.arange(n)\n",
    "    result=[]\n",
    "\n",
    "    for ii in range(m):\n",
    "        max_value = v[:,ii].max()\n",
    "        result.append(np.random.choice(index_array[v[:,ii] == max_value]))\n",
    "\n",
    "    return np.array(result)"
   ]
  },
  {
   "cell_type": "code",
   "execution_count": 8,
   "id": "3da0734b",
   "metadata": {},
   "outputs": [],
   "source": [
    "def present_dict(dt):\n",
    "    \"\"\"\n",
    "    A function that present the information in table.\n",
    "\n",
    "    Parameters:\n",
    "    ----------\n",
    "    dt: dictionary.\n",
    "\n",
    "    \"\"\"\n",
    "\n",
    "    ymtb = pt.PrettyTable()\n",
    "    ymtb.field_names = ['House Number', *dt.keys()]\n",
    "    ymtb.add_row(['Buyer', *dt.values()])\n",
    "    print(ymtb)"
   ]
  },
  {
   "cell_type": "code",
   "execution_count": 9,
   "id": "10e400eb",
   "metadata": {},
   "outputs": [],
   "source": [
    "def check_kick_off_condition(v, r, ϵ):\n",
    "    \"\"\"\n",
    "    A function that checks whether the auction could be initiated given the reservation price and value matrix.\n",
    "    To avoid the situation that the reservation prices are so high that no one would even bid in the first round.\n",
    "\n",
    "    Parameters:\n",
    "    ----------\n",
    "    v : value matrix of the shape (n,m).\n",
    "\n",
    "    r: the reservation price\n",
    "\n",
    "    ϵ: the minimun price increment in each round\n",
    "\n",
    "    \"\"\"\n",
    "\n",
    "    # we convert the price vector to a matrix in the same shape as value matrix to facilitate subtraction\n",
    "    p_start = (ϵ+r)[:,None] @ np.ones(m)[None,:]\n",
    "\n",
    "    surplus_value = v - p_start\n",
    "    buyer_decision = (surplus_value > 0).any(axis = 0)\n",
    "    return buyer_decision.any()"
   ]
  },
  {
   "cell_type": "code",
   "execution_count": 10,
   "id": "87bf6e7e",
   "metadata": {},
   "outputs": [
    {
     "data": {
      "text/plain": [
       "True"
      ]
     },
     "execution_count": 10,
     "metadata": {},
     "output_type": "execute_result"
    }
   ],
   "source": [
    "check_kick_off_condition(v, r, ϵ)"
   ]
  },
  {
   "cell_type": "code",
   "execution_count": 11,
   "id": "f73864b5",
   "metadata": {},
   "outputs": [],
   "source": [
    "def submit_initial_bid(p_initial, ϵ, v):\n",
    "    \"\"\"\n",
    "    A function that describes the bid information in the first round.\n",
    "\n",
    "    Parameters:\n",
    "    ----------\n",
    "    p_initial: the price (or the reservation prices) at the beginning of auction.\n",
    "\n",
    "    v: the value matrix\n",
    "\n",
    "    ϵ: the minimun price increment in each round\n",
    "\n",
    "    Returns:\n",
    "    ----------\n",
    "    p: price array after this round of bidding\n",
    "\n",
    "    bid_info: a dictionary that contains bidding information (house number as keys and buyer as values).\n",
    "\n",
    "    \"\"\"\n",
    "\n",
    "    p = p_initial.copy()\n",
    "    p_start_mat = (ϵ + p)[:,None] @ np.ones(m)[None,:]\n",
    "    surplus_value = v - p_start_mat\n",
    "\n",
    "    # we only care about active buyers who have positve surplus values\n",
    "    active_buyer_diagnosis = (surplus_value > 0).any(axis = 0)\n",
    "    active_buyer_list = buyer_list[active_buyer_diagnosis]\n",
    "    active_buyer_surplus_value = surplus_value[:,active_buyer_diagnosis]\n",
    "    active_buyer_choice = find_argmax_with_randomness(active_buyer_surplus_value)\n",
    "    # choice means the favourite houses given the current price and ϵ\n",
    "\n",
    "    # we only retain the unique house index because prices increase once at one round\n",
    "    house_bid =  list(set(active_buyer_choice))\n",
    "    p[house_bid] += ϵ\n",
    "\n",
    "    bid_info = {}\n",
    "    for house_num in house_bid:\n",
    "        bid_info[house_num] = active_buyer_list[active_buyer_choice == house_num]\n",
    "\n",
    "    return p, bid_info"
   ]
  },
  {
   "cell_type": "code",
   "execution_count": 12,
   "id": "5078b519",
   "metadata": {},
   "outputs": [],
   "source": [
    "p, bid_info = submit_initial_bid(p, ϵ, v)"
   ]
  },
  {
   "cell_type": "code",
   "execution_count": 13,
   "id": "8d8a61d2",
   "metadata": {},
   "outputs": [
    {
     "data": {
      "text/plain": [
       "array([3, 2, 1])"
      ]
     },
     "execution_count": 13,
     "metadata": {},
     "output_type": "execute_result"
    }
   ],
   "source": [
    "p"
   ]
  },
  {
   "cell_type": "code",
   "execution_count": 14,
   "id": "19b59b6f",
   "metadata": {},
   "outputs": [
    {
     "name": "stdout",
     "output_type": "stream",
     "text": [
      "+--------------+-----+-----+-------+\n",
      "| House Number |  0  |  1  |   2   |\n",
      "+--------------+-----+-----+-------+\n",
      "|    Buyer     | [2] | [1] | [0 3] |\n",
      "+--------------+-----+-----+-------+\n"
     ]
    }
   ],
   "source": [
    "present_dict(bid_info)"
   ]
  },
  {
   "cell_type": "code",
   "execution_count": 15,
   "id": "8d1a6888",
   "metadata": {},
   "outputs": [],
   "source": [
    "def check_terminal_condition(bid_info, p, v):\n",
    "    \"\"\"\n",
    "    A function that checks whether the auction ends.\n",
    "\n",
    "    Recall that the auction ends when either losers have non-positive surplus values for each house\n",
    "    or there is no loser (every buyer gets a house).\n",
    "\n",
    "    Parameters:\n",
    "    ----------\n",
    "    bid_info: a dictionary that contains bidding information of house numbers (as keys) and buyers (as values).\n",
    "\n",
    "    p: np.array. price array of houses\n",
    "\n",
    "    v: value matrix\n",
    "\n",
    "    Returns:\n",
    "    ----------\n",
    "    allocation: a dictionary that descirbe how the houses bid are assigned.\n",
    "\n",
    "    winner_list: a list of winners\n",
    "\n",
    "    loser_list: a list of losers\n",
    "\n",
    "    \"\"\"\n",
    "\n",
    "    # there may be several buyers bidding one house, we choose a winner randomly\n",
    "    winner_list=[np.random.choice(bid_info[ii]) for ii in bid_info.keys()]\n",
    "\n",
    "    allocation = {house_num:winner for house_num,winner in zip(bid_info.keys(),winner_list)}\n",
    "\n",
    "    loser_set = set(buyer_list).difference(set(winner_list))\n",
    "    loser_list = list(loser_set)\n",
    "    loser_num = len(loser_list)\n",
    "\n",
    "    if loser_num == 0:\n",
    "        print('The auction ends because every buyer gets one house.')\n",
    "        return allocation,winner_list,loser_list\n",
    "\n",
    "    p_mat = (ϵ + p)[:,None] @ np.ones(loser_num)[None,:]\n",
    "    loser_surplus_value = v[:,loser_list] - p_mat\n",
    "    loser_decision = (loser_surplus_value > 0).any(axis = 0)\n",
    "\n",
    "    print(~(loser_decision.any()))\n",
    "\n",
    "    return allocation,winner_list,loser_list"
   ]
  },
  {
   "cell_type": "code",
   "execution_count": 16,
   "id": "f9521a4f",
   "metadata": {},
   "outputs": [
    {
     "name": "stdout",
     "output_type": "stream",
     "text": [
      "False\n"
     ]
    }
   ],
   "source": [
    "allocation,winner_list,loser_list = check_terminal_condition(bid_info, p, v)"
   ]
  },
  {
   "cell_type": "code",
   "execution_count": 17,
   "id": "4bf40619",
   "metadata": {},
   "outputs": [
    {
     "name": "stdout",
     "output_type": "stream",
     "text": [
      "+--------------+---+---+---+\n",
      "| House Number | 0 | 1 | 2 |\n",
      "+--------------+---+---+---+\n",
      "|    Buyer     | 2 | 1 | 0 |\n",
      "+--------------+---+---+---+\n"
     ]
    }
   ],
   "source": [
    "present_dict(allocation)"
   ]
  },
  {
   "cell_type": "code",
   "execution_count": 18,
   "id": "c0cee0de",
   "metadata": {},
   "outputs": [
    {
     "data": {
      "text/plain": [
       "[2, 1, 0]"
      ]
     },
     "execution_count": 18,
     "metadata": {},
     "output_type": "execute_result"
    }
   ],
   "source": [
    "winner_list"
   ]
  },
  {
   "cell_type": "code",
   "execution_count": 19,
   "id": "dd17e508",
   "metadata": {},
   "outputs": [
    {
     "data": {
      "text/plain": [
       "[3]"
      ]
     },
     "execution_count": 19,
     "metadata": {},
     "output_type": "execute_result"
    }
   ],
   "source": [
    "loser_list"
   ]
  },
  {
   "cell_type": "code",
   "execution_count": 20,
   "id": "a4d7ccbd",
   "metadata": {},
   "outputs": [],
   "source": [
    "def submit_bid(loser_list, p, ϵ, v, bid_info):\n",
    "    \"\"\"\n",
    "    A function that executes the bid operation after the first round.\n",
    "    After the first round, only active losers would cast a new bid with price as old price + increment.\n",
    "    By such bid, winners of last round are replaced by the active losers.\n",
    "\n",
    "    Parameters:\n",
    "    ----------\n",
    "    loser_list: a list that includes the indexes of losers\n",
    "\n",
    "    p: np.array. price array of houses\n",
    "\n",
    "    ϵ: minimum increment of bid price\n",
    "\n",
    "    v: value matrix\n",
    "\n",
    "    bid_info: a dictionary that contains bidding information of house numbers (as keys) and buyers (as values).\n",
    "\n",
    "    Returns:\n",
    "    ----------\n",
    "    p_end: a price array after this round of bidding\n",
    "\n",
    "    bid_info: a dictionary that contains updated bidding information.\n",
    "\n",
    "    \"\"\"\n",
    "\n",
    "    p_end=p.copy()\n",
    "\n",
    "    loser_num = len(loser_list)\n",
    "    p_mat = (ϵ + p_end)[:,None] @ np.ones(loser_num)[None,:]\n",
    "    loser_surplus_value = v[:,loser_list] - p_mat\n",
    "    loser_decision = (loser_surplus_value > 0).any(axis = 0)\n",
    "\n",
    "    active_loser_list = np.array(loser_list)[loser_decision]\n",
    "    active_loser_surplus_value = loser_surplus_value[:,loser_decision]\n",
    "    active_loser_choice = find_argmax_with_randomness(active_loser_surplus_value)\n",
    "\n",
    "    # we retain the unique house index and increasing the corresponding bid price\n",
    "    house_bid = list(set(active_loser_choice))\n",
    "    p_end[house_bid] += ϵ\n",
    "\n",
    "    # we record the bidding information from active losers\n",
    "    bid_info_active_loser = {}\n",
    "    for house_num in house_bid:\n",
    "        bid_info_active_loser[house_num] = active_loser_list[active_loser_choice == house_num]\n",
    "\n",
    "    # we update the bidding information according to the bidding from actice losers\n",
    "    for house_num in bid_info_active_loser.keys():\n",
    "        bid_info[house_num] = bid_info_active_loser[house_num]\n",
    "\n",
    "    return p_end,bid_info"
   ]
  },
  {
   "cell_type": "code",
   "execution_count": 21,
   "id": "d7b10609",
   "metadata": {},
   "outputs": [],
   "source": [
    "p,bid_info = submit_bid(loser_list, p, ϵ, v, bid_info)"
   ]
  },
  {
   "cell_type": "code",
   "execution_count": 22,
   "id": "4dda9cad",
   "metadata": {},
   "outputs": [
    {
     "data": {
      "text/plain": [
       "array([3, 2, 2])"
      ]
     },
     "execution_count": 22,
     "metadata": {},
     "output_type": "execute_result"
    }
   ],
   "source": [
    "p"
   ]
  },
  {
   "cell_type": "code",
   "execution_count": 23,
   "id": "9e6bfdfd",
   "metadata": {},
   "outputs": [
    {
     "name": "stdout",
     "output_type": "stream",
     "text": [
      "+--------------+-----+-----+-----+\n",
      "| House Number |  0  |  1  |  2  |\n",
      "+--------------+-----+-----+-----+\n",
      "|    Buyer     | [2] | [1] | [3] |\n",
      "+--------------+-----+-----+-----+\n"
     ]
    }
   ],
   "source": [
    "present_dict(bid_info)"
   ]
  },
  {
   "cell_type": "code",
   "execution_count": 24,
   "id": "0cbb4edf",
   "metadata": {},
   "outputs": [
    {
     "name": "stdout",
     "output_type": "stream",
     "text": [
      "False\n"
     ]
    }
   ],
   "source": [
    "allocation,winner_list,loser_list = check_terminal_condition(bid_info, p, v)"
   ]
  },
  {
   "cell_type": "code",
   "execution_count": 25,
   "id": "c9e6a848",
   "metadata": {},
   "outputs": [
    {
     "name": "stdout",
     "output_type": "stream",
     "text": [
      "+--------------+---+---+---+\n",
      "| House Number | 0 | 1 | 2 |\n",
      "+--------------+---+---+---+\n",
      "|    Buyer     | 2 | 1 | 3 |\n",
      "+--------------+---+---+---+\n"
     ]
    }
   ],
   "source": [
    "present_dict(allocation)"
   ]
  },
  {
   "cell_type": "code",
   "execution_count": 26,
   "id": "01217506",
   "metadata": {},
   "outputs": [],
   "source": [
    "p,bid_info = submit_bid(loser_list, p, ϵ, v, bid_info)"
   ]
  },
  {
   "cell_type": "code",
   "execution_count": 27,
   "id": "b826462f",
   "metadata": {},
   "outputs": [
    {
     "data": {
      "text/plain": [
       "array([3, 2, 3])"
      ]
     },
     "execution_count": 27,
     "metadata": {},
     "output_type": "execute_result"
    }
   ],
   "source": [
    "p"
   ]
  },
  {
   "cell_type": "code",
   "execution_count": 28,
   "id": "766f8eb0",
   "metadata": {},
   "outputs": [
    {
     "name": "stdout",
     "output_type": "stream",
     "text": [
      "+--------------+-----+-----+-----+\n",
      "| House Number |  0  |  1  |  2  |\n",
      "+--------------+-----+-----+-----+\n",
      "|    Buyer     | [2] | [1] | [0] |\n",
      "+--------------+-----+-----+-----+\n"
     ]
    }
   ],
   "source": [
    "present_dict(bid_info)"
   ]
  },
  {
   "cell_type": "code",
   "execution_count": 29,
   "id": "e5e7c4fd",
   "metadata": {},
   "outputs": [
    {
     "name": "stdout",
     "output_type": "stream",
     "text": [
      "False\n"
     ]
    }
   ],
   "source": [
    "allocation,winner_list,loser_list = check_terminal_condition(bid_info, p, v)"
   ]
  },
  {
   "cell_type": "code",
   "execution_count": 30,
   "id": "3bb59d9e",
   "metadata": {},
   "outputs": [
    {
     "name": "stdout",
     "output_type": "stream",
     "text": [
      "+--------------+---+---+---+\n",
      "| House Number | 0 | 1 | 2 |\n",
      "+--------------+---+---+---+\n",
      "|    Buyer     | 2 | 1 | 0 |\n",
      "+--------------+---+---+---+\n"
     ]
    }
   ],
   "source": [
    "present_dict(allocation)"
   ]
  },
  {
   "cell_type": "code",
   "execution_count": 31,
   "id": "3c800161",
   "metadata": {},
   "outputs": [],
   "source": [
    "p,bid_info = submit_bid(loser_list, p, ϵ, v, bid_info)"
   ]
  },
  {
   "cell_type": "code",
   "execution_count": 32,
   "id": "9d4c0a99",
   "metadata": {},
   "outputs": [
    {
     "data": {
      "text/plain": [
       "array([3, 3, 3])"
      ]
     },
     "execution_count": 32,
     "metadata": {},
     "output_type": "execute_result"
    }
   ],
   "source": [
    "p"
   ]
  },
  {
   "cell_type": "code",
   "execution_count": 33,
   "id": "65c27f11",
   "metadata": {},
   "outputs": [
    {
     "name": "stdout",
     "output_type": "stream",
     "text": [
      "+--------------+-----+-----+-----+\n",
      "| House Number |  0  |  1  |  2  |\n",
      "+--------------+-----+-----+-----+\n",
      "|    Buyer     | [2] | [3] | [0] |\n",
      "+--------------+-----+-----+-----+\n"
     ]
    }
   ],
   "source": [
    "present_dict(bid_info)"
   ]
  },
  {
   "cell_type": "code",
   "execution_count": 34,
   "id": "abd4f30e",
   "metadata": {},
   "outputs": [
    {
     "name": "stdout",
     "output_type": "stream",
     "text": [
      "False\n"
     ]
    }
   ],
   "source": [
    "allocation,winner_list,loser_list = check_terminal_condition(bid_info, p, v)"
   ]
  },
  {
   "cell_type": "code",
   "execution_count": 35,
   "id": "65c59e47",
   "metadata": {},
   "outputs": [
    {
     "name": "stdout",
     "output_type": "stream",
     "text": [
      "+--------------+---+---+---+\n",
      "| House Number | 0 | 1 | 2 |\n",
      "+--------------+---+---+---+\n",
      "|    Buyer     | 2 | 3 | 0 |\n",
      "+--------------+---+---+---+\n"
     ]
    }
   ],
   "source": [
    "present_dict(allocation)"
   ]
  },
  {
   "cell_type": "code",
   "execution_count": 36,
   "id": "35b5bd37",
   "metadata": {},
   "outputs": [],
   "source": [
    "p,bid_info = submit_bid(loser_list, p, ϵ, v, bid_info)"
   ]
  },
  {
   "cell_type": "code",
   "execution_count": 37,
   "id": "13c542a2",
   "metadata": {},
   "outputs": [
    {
     "data": {
      "text/plain": [
       "array([3, 4, 3])"
      ]
     },
     "execution_count": 37,
     "metadata": {},
     "output_type": "execute_result"
    }
   ],
   "source": [
    "p"
   ]
  },
  {
   "cell_type": "code",
   "execution_count": 38,
   "id": "8e7b573c",
   "metadata": {},
   "outputs": [
    {
     "name": "stdout",
     "output_type": "stream",
     "text": [
      "+--------------+-----+-----+-----+\n",
      "| House Number |  0  |  1  |  2  |\n",
      "+--------------+-----+-----+-----+\n",
      "|    Buyer     | [2] | [1] | [0] |\n",
      "+--------------+-----+-----+-----+\n"
     ]
    }
   ],
   "source": [
    "present_dict(bid_info)"
   ]
  },
  {
   "cell_type": "code",
   "execution_count": 39,
   "id": "cb01edbe",
   "metadata": {},
   "outputs": [
    {
     "name": "stdout",
     "output_type": "stream",
     "text": [
      "True\n"
     ]
    }
   ],
   "source": [
    "allocation,winner_list,loser_list = check_terminal_condition(bid_info, p, v)"
   ]
  },
  {
   "cell_type": "code",
   "execution_count": 40,
   "id": "01ce5462",
   "metadata": {},
   "outputs": [
    {
     "name": "stdout",
     "output_type": "stream",
     "text": [
      "+--------------+---+---+---+\n",
      "| House Number | 0 | 1 | 2 |\n",
      "+--------------+---+---+---+\n",
      "|    Buyer     | 2 | 1 | 0 |\n",
      "+--------------+---+---+---+\n"
     ]
    }
   ],
   "source": [
    "present_dict(allocation)"
   ]
  },
  {
   "cell_type": "code",
   "execution_count": 41,
   "id": "ecfba424",
   "metadata": {},
   "outputs": [
    {
     "data": {
      "text/plain": [
       "[]"
      ]
     },
     "execution_count": 41,
     "metadata": {},
     "output_type": "execute_result"
    }
   ],
   "source": [
    "# as for the houses unsold\n",
    "\n",
    "house_unsold_list = list(set(house_list).difference(set(allocation.keys())))\n",
    "house_unsold_list"
   ]
  },
  {
   "cell_type": "code",
   "execution_count": 42,
   "id": "b2e14497",
   "metadata": {},
   "outputs": [
    {
     "data": {
      "text/plain": [
       "10"
      ]
     },
     "execution_count": 42,
     "metadata": {},
     "output_type": "execute_result"
    }
   ],
   "source": [
    "total_revenue = p[list(allocation.keys())].sum()\n",
    "total_revenue"
   ]
  },
  {
   "cell_type": "code",
   "execution_count": 43,
   "id": "251c55e1",
   "metadata": {},
   "outputs": [],
   "source": [
    "class ascending_bid_auction:\n",
    "\n",
    "    def __init__(self, v, r, ϵ):\n",
    "        \"\"\"\n",
    "        A class that simulates an ascending bid auction for houses.\n",
    "\n",
    "        Given buyers' value matrix, sellers' reservation prices and minimum increment of bid prices,\n",
    "        this class can execute an ascending bid auction and present information round by round until the end.\n",
    "\n",
    "        Parameters:\n",
    "        ----------\n",
    "        v: 2 dimensional value matrix\n",
    "\n",
    "        r: np.array of reservation prices\n",
    "\n",
    "        ϵ: minimum increment of bid price\n",
    "\n",
    "        \"\"\"\n",
    "\n",
    "        self.v = v.copy()\n",
    "        self.n,self.m = self.v.shape\n",
    "        self.r = r\n",
    "        self.ϵ = ϵ\n",
    "        self.p = r.copy()\n",
    "        self.buyer_list = np.arange(self.m)\n",
    "        self.house_list = np.arange(self.n)\n",
    "        self.bid_info_history = []\n",
    "        self.allocation_history = []\n",
    "        self.winner_history = []\n",
    "        self.loser_history = []\n",
    "\n",
    "\n",
    "    def find_argmax_with_randomness(self, v):\n",
    "        n,m = v.shape\n",
    "        index_array = np.arange(n)\n",
    "        result=[]\n",
    "\n",
    "        for ii in range(m):\n",
    "            max_value = v[:,ii].max()\n",
    "            result.append(np.random.choice(index_array[v[:,ii] == max_value]))\n",
    "\n",
    "        return np.array(result)\n",
    "\n",
    "\n",
    "    def check_kick_off_condition(self):\n",
    "        # we convert the price vector to a matrix in the same shape as value matrix to facilitate subtraction\n",
    "        p_start = (self.ϵ + self.r)[:,None] @ np.ones(self.m)[None,:]\n",
    "        self.surplus_value = self.v - p_start\n",
    "        buyer_decision = (self.surplus_value > 0).any(axis = 0)\n",
    "        return buyer_decision.any()\n",
    "\n",
    "\n",
    "    def submit_initial_bid(self):\n",
    "        # we intend to find the optimal choice of each buyer\n",
    "        p_start_mat = (self.ϵ + self.p)[:,None] @ np.ones(self.m)[None,:]\n",
    "        self.surplus_value = self.v - p_start_mat\n",
    "\n",
    "        # we only care about active buyers who have positve surplus values\n",
    "        active_buyer_diagnosis = (self.surplus_value > 0).any(axis = 0)\n",
    "        active_buyer_list = self.buyer_list[active_buyer_diagnosis]\n",
    "        active_buyer_surplus_value = self.surplus_value[:,active_buyer_diagnosis]\n",
    "        active_buyer_choice = self.find_argmax_with_randomness(active_buyer_surplus_value)\n",
    "\n",
    "        # we only retain the unique house index because prices increase once at one round\n",
    "        house_bid =  list(set(active_buyer_choice))\n",
    "        self.p[house_bid] += self.ϵ\n",
    "\n",
    "        bid_info = {}\n",
    "        for house_num in house_bid:\n",
    "            bid_info[house_num] = active_buyer_list[active_buyer_choice == house_num]\n",
    "        self.bid_info_history.append(bid_info)\n",
    "\n",
    "        print('The bid information is')\n",
    "        ymtb = pt.PrettyTable()\n",
    "        ymtb.field_names = ['House Number', *bid_info.keys()]\n",
    "        ymtb.add_row(['Buyer', *bid_info.values()])\n",
    "        print(ymtb)\n",
    "\n",
    "        print('The bid prices for houses are')\n",
    "        ymtb = pt.PrettyTable()\n",
    "        ymtb.field_names = ['House Number', *self.house_list]\n",
    "        ymtb.add_row(['Price', *self.p])\n",
    "        print(ymtb)\n",
    "\n",
    "        self.winner_list=[np.random.choice(bid_info[ii]) for ii in bid_info.keys()]\n",
    "        self.winner_history.append(self.winner_list)\n",
    "\n",
    "        self.allocation = {house_num:[winner] for house_num,winner in zip(bid_info.keys(),self.winner_list)}\n",
    "        self.allocation_history.append(self.allocation)\n",
    "\n",
    "        loser_set = set(self.buyer_list).difference(set(self.winner_list))\n",
    "        self.loser_list = list(loser_set)\n",
    "        self.loser_history.append(self.loser_list)\n",
    "\n",
    "        print('The winners are')\n",
    "        print(self.winner_list)\n",
    "\n",
    "        print('The losers are')\n",
    "        print(self.loser_list)\n",
    "        print('\\n')\n",
    "\n",
    "\n",
    "    def check_terminal_condition(self):\n",
    "        loser_num = len(self.loser_list)\n",
    "\n",
    "        if loser_num == 0:\n",
    "            print('The auction ends because every buyer gets one house.')\n",
    "            print('\\n')\n",
    "            return True\n",
    "\n",
    "        p_mat = (self.ϵ + self.p)[:,None] @ np.ones(loser_num)[None,:]\n",
    "        self.loser_surplus_value = self.v[:,self.loser_list] - p_mat\n",
    "        self.loser_decision = (self.loser_surplus_value > 0).any(axis = 0)\n",
    "\n",
    "        return ~(self.loser_decision.any())\n",
    "\n",
    "\n",
    "    def submit_bid(self):\n",
    "        bid_info = self.allocation_history[-1].copy()  # we only record the bid info of winner\n",
    "\n",
    "        loser_num = len(self.loser_list)\n",
    "        p_mat = (self.ϵ + self.p)[:,None] @ np.ones(loser_num)[None,:]\n",
    "        self.loser_surplus_value = self.v[:,self.loser_list] - p_mat\n",
    "        self.loser_decision = (self.loser_surplus_value > 0).any(axis = 0)\n",
    "\n",
    "        active_loser_list = np.array(self.loser_list)[self.loser_decision]\n",
    "        active_loser_surplus_value = self.loser_surplus_value[:,self.loser_decision]\n",
    "        active_loser_choice = self.find_argmax_with_randomness(active_loser_surplus_value)\n",
    "\n",
    "        # we retain the unique house index and increasing the corresponding bid price\n",
    "        house_bid = list(set(active_loser_choice))\n",
    "        self.p[house_bid] += self.ϵ\n",
    "\n",
    "        # we record the bidding information from active losers\n",
    "        bid_info_active_loser = {}\n",
    "        for house_num in house_bid:\n",
    "            bid_info_active_loser[house_num] = active_loser_list[active_loser_choice == house_num]\n",
    "\n",
    "        # we update the bidding information according to the bidding from actice losers\n",
    "        for house_num in bid_info_active_loser.keys():\n",
    "            bid_info[house_num] = bid_info_active_loser[house_num]\n",
    "        self.bid_info_history.append(bid_info)\n",
    "\n",
    "        print('The bid information is')\n",
    "        ymtb = pt.PrettyTable()\n",
    "        ymtb.field_names = ['House Number', *bid_info.keys()]\n",
    "        ymtb.add_row(['Buyer', *bid_info.values()])\n",
    "        print(ymtb)\n",
    "\n",
    "        print('The bid prices for houses are')\n",
    "        ymtb = pt.PrettyTable()\n",
    "        ymtb.field_names = ['House Number', *self.house_list]\n",
    "        ymtb.add_row(['Price', *self.p])\n",
    "        print(ymtb)\n",
    "\n",
    "        self.winner_list=[np.random.choice(bid_info[ii]) for ii in bid_info.keys()]\n",
    "        self.winner_history.append(self.winner_list)\n",
    "\n",
    "        self.allocation = {house_num:[winner] for house_num,winner in zip(bid_info.keys(),self.winner_list)}\n",
    "        self.allocation_history.append(self.allocation)\n",
    "\n",
    "        loser_set = set(self.buyer_list).difference(set(self.winner_list))\n",
    "        self.loser_list = list(loser_set)\n",
    "        self.loser_history.append(self.loser_list)\n",
    "\n",
    "        print('The winners are')\n",
    "        print(self.winner_list)\n",
    "\n",
    "        print('The losers are')\n",
    "        print(self.loser_list)\n",
    "        print('\\n')\n",
    "\n",
    "\n",
    "    def start_auction(self):\n",
    "        print('The Ascending Bid Auction for Houses')\n",
    "        print('\\n')\n",
    "\n",
    "        print('Basic Information: %d houses, %d buyers'%(self.n, self.m))\n",
    "\n",
    "        print('The valuation matrix is as follows')\n",
    "        ymtb = pt.PrettyTable()\n",
    "        ymtb.field_names = ['Buyer Number', *(np.arange(self.m))]\n",
    "        for ii in range(self.n):\n",
    "            ymtb.add_row(['House %d'%(ii), *self.v[ii,:]])\n",
    "        print(ymtb)\n",
    "\n",
    "        print('The reservation prices for houses are')\n",
    "        ymtb = pt.PrettyTable()\n",
    "        ymtb.field_names = ['House Number', *self.house_list]\n",
    "        ymtb.add_row(['Price', *self.r])\n",
    "        print(ymtb)\n",
    "        print('The minimum increment of bid price is %.2f' % self.ϵ)\n",
    "        print('\\n')\n",
    "\n",
    "        ctr = 1\n",
    "        if self.check_kick_off_condition():\n",
    "            print('Auction starts successfully')\n",
    "            print('\\n')\n",
    "            print('Round %d'% ctr)\n",
    "\n",
    "            self.submit_initial_bid()\n",
    "\n",
    "            while True:\n",
    "                if self.check_terminal_condition():\n",
    "                    print('Auction ends')\n",
    "                    print('\\n')\n",
    "\n",
    "                    print('The final result is as follows')\n",
    "                    print('\\n')\n",
    "                    print('The allocation plan is')\n",
    "                    ymtb = pt.PrettyTable()\n",
    "                    ymtb.field_names = ['House Number', *self.allocation.keys()]\n",
    "                    ymtb.add_row(['Buyer', *self.allocation.values()])\n",
    "                    print(ymtb)\n",
    "\n",
    "                    print('The bid prices for houses are')\n",
    "                    ymtb = pt.PrettyTable()\n",
    "                    ymtb.field_names = ['House Number', *self.house_list]\n",
    "                    ymtb.add_row(['Price', *self.p])\n",
    "                    print(ymtb)\n",
    "\n",
    "                    print('The winners are')\n",
    "                    print(self.winner_list)\n",
    "\n",
    "                    print('The losers are')\n",
    "                    print(self.loser_list)\n",
    "\n",
    "                    self.house_unsold_list = list(set(self.house_list).difference(set(self.allocation.keys())))\n",
    "                    print('The houses unsold are')\n",
    "                    print(self.house_unsold_list)\n",
    "\n",
    "                    self.total_revenue = self.p[list(self.allocation.keys())].sum()\n",
    "                    print('The total revenue is %.2f' % self.total_revenue)\n",
    "\n",
    "                    break\n",
    "\n",
    "                ctr += 1\n",
    "                print('Round %d'% ctr)\n",
    "                self.submit_bid()\n",
    "\n",
    "            # we compute the surplus matrix S and the quantity matrix X as required in 1.1\n",
    "            self.S = np.zeros((self.n, self.m))\n",
    "            for ii,jj in zip(self.allocation.keys(),self.allocation.values()):\n",
    "                self.S[ii,jj] = self.v[ii,jj] - self.p[ii]\n",
    "\n",
    "            self.Q = np.zeros((self.n, self.m + 1))  # the last column records the houses unsold\n",
    "            for ii,jj in zip(self.allocation.keys(),self.allocation.values()):\n",
    "                self.Q[ii,jj] = 1\n",
    "            for ii in self.house_unsold_list:\n",
    "                self.Q[ii,-1] = 1\n",
    "\n",
    "            # we sort the allocation result by the house number\n",
    "            house_sold_list = list(self.allocation.keys())\n",
    "            house_sold_list.sort()\n",
    "\n",
    "            dict_temp = {}\n",
    "            for ii in house_sold_list:\n",
    "                dict_temp[ii] = self.allocation[ii]\n",
    "            self.allocation = dict_temp\n",
    "\n",
    "        else:\n",
    "            print('The auction can not start because of high reservation prices')"
   ]
  },
  {
   "cell_type": "code",
   "execution_count": 44,
   "id": "a55a3bf9",
   "metadata": {},
   "outputs": [
    {
     "name": "stdout",
     "output_type": "stream",
     "text": [
      "The Ascending Bid Auction for Houses\n",
      "\n",
      "\n",
      "Basic Information: 3 houses, 4 buyers\n",
      "The valuation matrix is as follows\n",
      "+--------------+---+----+---+---+\n",
      "| Buyer Number | 0 | 1  | 2 | 3 |\n",
      "+--------------+---+----+---+---+\n",
      "|   House 0    | 8 | 5  | 9 | 4 |\n",
      "|   House 1    | 4 | 11 | 7 | 4 |\n",
      "|   House 2    | 9 | 7  | 6 | 4 |\n",
      "+--------------+---+----+---+---+\n",
      "The reservation prices for houses are\n",
      "+--------------+---+---+---+\n",
      "| House Number | 0 | 1 | 2 |\n",
      "+--------------+---+---+---+\n",
      "|    Price     | 2 | 1 | 0 |\n",
      "+--------------+---+---+---+\n",
      "The minimum increment of bid price is 1.00\n",
      "\n",
      "\n",
      "Auction starts successfully\n",
      "\n",
      "\n",
      "Round 1\n",
      "The bid information is\n",
      "+--------------+-----+-----+-------+\n",
      "| House Number |  0  |  1  |   2   |\n",
      "+--------------+-----+-----+-------+\n",
      "|    Buyer     | [2] | [1] | [0 3] |\n",
      "+--------------+-----+-----+-------+\n",
      "The bid prices for houses are\n",
      "+--------------+---+---+---+\n",
      "| House Number | 0 | 1 | 2 |\n",
      "+--------------+---+---+---+\n",
      "|    Price     | 3 | 2 | 1 |\n",
      "+--------------+---+---+---+\n",
      "The winners are\n",
      "[2, 1, 0]\n",
      "The losers are\n",
      "[3]\n",
      "\n",
      "\n",
      "Round 2\n",
      "The bid information is\n",
      "+--------------+-----+-----+-----+\n",
      "| House Number |  0  |  1  |  2  |\n",
      "+--------------+-----+-----+-----+\n",
      "|    Buyer     | [2] | [1] | [3] |\n",
      "+--------------+-----+-----+-----+\n",
      "The bid prices for houses are\n",
      "+--------------+---+---+---+\n",
      "| House Number | 0 | 1 | 2 |\n",
      "+--------------+---+---+---+\n",
      "|    Price     | 3 | 2 | 2 |\n",
      "+--------------+---+---+---+\n",
      "The winners are\n",
      "[2, 1, 3]\n",
      "The losers are\n",
      "[0]\n",
      "\n",
      "\n",
      "Round 3\n",
      "The bid information is\n",
      "+--------------+-----+-----+-----+\n",
      "| House Number |  0  |  1  |  2  |\n",
      "+--------------+-----+-----+-----+\n",
      "|    Buyer     | [2] | [1] | [0] |\n",
      "+--------------+-----+-----+-----+\n",
      "The bid prices for houses are\n",
      "+--------------+---+---+---+\n",
      "| House Number | 0 | 1 | 2 |\n",
      "+--------------+---+---+---+\n",
      "|    Price     | 3 | 2 | 3 |\n",
      "+--------------+---+---+---+\n",
      "The winners are\n",
      "[2, 1, 0]\n",
      "The losers are\n",
      "[3]\n",
      "\n",
      "\n",
      "Round 4\n",
      "The bid information is\n",
      "+--------------+-----+-----+-----+\n",
      "| House Number |  0  |  1  |  2  |\n",
      "+--------------+-----+-----+-----+\n",
      "|    Buyer     | [2] | [3] | [0] |\n",
      "+--------------+-----+-----+-----+\n",
      "The bid prices for houses are\n",
      "+--------------+---+---+---+\n",
      "| House Number | 0 | 1 | 2 |\n",
      "+--------------+---+---+---+\n",
      "|    Price     | 3 | 3 | 3 |\n",
      "+--------------+---+---+---+\n",
      "The winners are\n",
      "[2, 3, 0]\n",
      "The losers are\n",
      "[1]\n",
      "\n",
      "\n",
      "Round 5\n",
      "The bid information is\n",
      "+--------------+-----+-----+-----+\n",
      "| House Number |  0  |  1  |  2  |\n",
      "+--------------+-----+-----+-----+\n",
      "|    Buyer     | [2] | [1] | [0] |\n",
      "+--------------+-----+-----+-----+\n",
      "The bid prices for houses are\n",
      "+--------------+---+---+---+\n",
      "| House Number | 0 | 1 | 2 |\n",
      "+--------------+---+---+---+\n",
      "|    Price     | 3 | 4 | 3 |\n",
      "+--------------+---+---+---+\n",
      "The winners are\n",
      "[2, 1, 0]\n",
      "The losers are\n",
      "[3]\n",
      "\n",
      "\n",
      "Auction ends\n",
      "\n",
      "\n",
      "The final result is as follows\n",
      "\n",
      "\n",
      "The allocation plan is\n",
      "+--------------+-----+-----+-----+\n",
      "| House Number |  0  |  1  |  2  |\n",
      "+--------------+-----+-----+-----+\n",
      "|    Buyer     | [2] | [1] | [0] |\n",
      "+--------------+-----+-----+-----+\n",
      "The bid prices for houses are\n",
      "+--------------+---+---+---+\n",
      "| House Number | 0 | 1 | 2 |\n",
      "+--------------+---+---+---+\n",
      "|    Price     | 3 | 4 | 3 |\n",
      "+--------------+---+---+---+\n",
      "The winners are\n",
      "[2, 1, 0]\n",
      "The losers are\n",
      "[3]\n",
      "The houses unsold are\n",
      "[]\n",
      "The total revenue is 10.00\n"
     ]
    }
   ],
   "source": [
    "v = np.array([[8,5,9,4],[4,11,7,4],[9,7,6,4]])\n",
    "r = np.array([2,1,0])\n",
    "ϵ = 1\n",
    "\n",
    "auction_1 = ascending_bid_auction(v, r, ϵ)\n",
    "\n",
    "auction_1.start_auction()"
   ]
  },
  {
   "cell_type": "code",
   "execution_count": 45,
   "id": "e7c59b28",
   "metadata": {},
   "outputs": [
    {
     "data": {
      "text/plain": [
       "array([[0., 0., 6., 0.],\n",
       "       [0., 7., 0., 0.],\n",
       "       [6., 0., 0., 0.]])"
      ]
     },
     "execution_count": 45,
     "metadata": {},
     "output_type": "execute_result"
    }
   ],
   "source": [
    "# the surplus matrix S\n",
    "\n",
    "auction_1.S"
   ]
  },
  {
   "cell_type": "code",
   "execution_count": 46,
   "id": "fa75f871",
   "metadata": {},
   "outputs": [
    {
     "data": {
      "text/plain": [
       "array([[0., 0., 1., 0., 0.],\n",
       "       [0., 1., 0., 0., 0.],\n",
       "       [1., 0., 0., 0., 0.]])"
      ]
     },
     "execution_count": 46,
     "metadata": {},
     "output_type": "execute_result"
    }
   ],
   "source": [
    "# the quantity matrix X\n",
    "\n",
    "auction_1.Q"
   ]
  },
  {
   "cell_type": "code",
   "execution_count": 47,
   "id": "a9914e2a",
   "metadata": {},
   "outputs": [
    {
     "name": "stdout",
     "output_type": "stream",
     "text": [
      "The Ascending Bid Auction for Houses\n",
      "\n",
      "\n",
      "Basic Information: 3 houses, 3 buyers\n",
      "The valuation matrix is as follows\n",
      "+--------------+---+----+---+\n",
      "| Buyer Number | 0 | 1  | 2 |\n",
      "+--------------+---+----+---+\n",
      "|   House 0    | 8 | 5  | 9 |\n",
      "|   House 1    | 4 | 11 | 7 |\n",
      "|   House 2    | 9 | 7  | 6 |\n",
      "+--------------+---+----+---+\n",
      "The reservation prices for houses are\n",
      "+--------------+---+---+---+\n",
      "| House Number | 0 | 1 | 2 |\n",
      "+--------------+---+---+---+\n",
      "|    Price     | 2 | 1 | 0 |\n",
      "+--------------+---+---+---+\n",
      "The minimum increment of bid price is 1.00\n",
      "\n",
      "\n",
      "Auction starts successfully\n",
      "\n",
      "\n",
      "Round 1\n",
      "The bid information is\n",
      "+--------------+-----+-----+-----+\n",
      "| House Number |  0  |  1  |  2  |\n",
      "+--------------+-----+-----+-----+\n",
      "|    Buyer     | [2] | [1] | [0] |\n",
      "+--------------+-----+-----+-----+\n",
      "The bid prices for houses are\n",
      "+--------------+---+---+---+\n",
      "| House Number | 0 | 1 | 2 |\n",
      "+--------------+---+---+---+\n",
      "|    Price     | 3 | 2 | 1 |\n",
      "+--------------+---+---+---+\n",
      "The winners are\n",
      "[2, 1, 0]\n",
      "The losers are\n",
      "[]\n",
      "\n",
      "\n",
      "The auction ends because every buyer gets one house.\n",
      "\n",
      "\n",
      "Auction ends\n",
      "\n",
      "\n",
      "The final result is as follows\n",
      "\n",
      "\n",
      "The allocation plan is\n",
      "+--------------+-----+-----+-----+\n",
      "| House Number |  0  |  1  |  2  |\n",
      "+--------------+-----+-----+-----+\n",
      "|    Buyer     | [2] | [1] | [0] |\n",
      "+--------------+-----+-----+-----+\n",
      "The bid prices for houses are\n",
      "+--------------+---+---+---+\n",
      "| House Number | 0 | 1 | 2 |\n",
      "+--------------+---+---+---+\n",
      "|    Price     | 3 | 2 | 1 |\n",
      "+--------------+---+---+---+\n",
      "The winners are\n",
      "[2, 1, 0]\n",
      "The losers are\n",
      "[]\n",
      "The houses unsold are\n",
      "[]\n",
      "The total revenue is 6.00\n"
     ]
    }
   ],
   "source": [
    "v2 = np.array([[8,5,9],[4,11,7],[9,7,6]])\n",
    "\n",
    "auction_2 = ascending_bid_auction(v2, r, ϵ)\n",
    "\n",
    "auction_2.start_auction()"
   ]
  },
  {
   "cell_type": "code",
   "execution_count": 48,
   "id": "85274fdf",
   "metadata": {},
   "outputs": [
    {
     "name": "stdout",
     "output_type": "stream",
     "text": [
      "The Ascending Bid Auction for Houses\n",
      "\n",
      "\n",
      "Basic Information: 3 houses, 5 buyers\n",
      "The valuation matrix is as follows\n",
      "+--------------+---+----+---+---+---+\n",
      "| Buyer Number | 0 | 1  | 2 | 3 | 4 |\n",
      "+--------------+---+----+---+---+---+\n",
      "|   House 0    | 8 | 5  | 9 | 4 | 3 |\n",
      "|   House 1    | 4 | 11 | 7 | 4 | 6 |\n",
      "|   House 2    | 9 | 7  | 6 | 4 | 2 |\n",
      "+--------------+---+----+---+---+---+\n",
      "The reservation prices for houses are\n",
      "+--------------+---+---+---+\n",
      "| House Number | 0 | 1 | 2 |\n",
      "+--------------+---+---+---+\n",
      "|    Price     | 2 | 1 | 0 |\n",
      "+--------------+---+---+---+\n",
      "The minimum increment of bid price is 1.00\n",
      "\n",
      "\n",
      "Auction starts successfully\n",
      "\n",
      "\n",
      "Round 1\n",
      "The bid information is\n",
      "+--------------+-----+-------+-------+\n",
      "| House Number |  0  |   1   |   2   |\n",
      "+--------------+-----+-------+-------+\n",
      "|    Buyer     | [2] | [1 4] | [0 3] |\n",
      "+--------------+-----+-------+-------+\n",
      "The bid prices for houses are\n",
      "+--------------+---+---+---+\n",
      "| House Number | 0 | 1 | 2 |\n",
      "+--------------+---+---+---+\n",
      "|    Price     | 3 | 2 | 1 |\n",
      "+--------------+---+---+---+\n",
      "The winners are\n",
      "[2, 4, 3]\n",
      "The losers are\n",
      "[0, 1]\n",
      "\n",
      "\n",
      "Round 2\n",
      "The bid information is\n",
      "+--------------+-----+-----+-----+\n",
      "| House Number |  0  |  1  |  2  |\n",
      "+--------------+-----+-----+-----+\n",
      "|    Buyer     | [2] | [1] | [0] |\n",
      "+--------------+-----+-----+-----+\n",
      "The bid prices for houses are\n",
      "+--------------+---+---+---+\n",
      "| House Number | 0 | 1 | 2 |\n",
      "+--------------+---+---+---+\n",
      "|    Price     | 3 | 3 | 2 |\n",
      "+--------------+---+---+---+\n",
      "The winners are\n",
      "[2, 1, 0]\n",
      "The losers are\n",
      "[3, 4]\n",
      "\n",
      "\n",
      "Round 3\n",
      "The bid information is\n",
      "+--------------+-----+-----+-----+\n",
      "| House Number |  0  |  1  |  2  |\n",
      "+--------------+-----+-----+-----+\n",
      "|    Buyer     | [2] | [4] | [3] |\n",
      "+--------------+-----+-----+-----+\n",
      "The bid prices for houses are\n",
      "+--------------+---+---+---+\n",
      "| House Number | 0 | 1 | 2 |\n",
      "+--------------+---+---+---+\n",
      "|    Price     | 3 | 4 | 3 |\n",
      "+--------------+---+---+---+\n",
      "The winners are\n",
      "[2, 4, 3]\n",
      "The losers are\n",
      "[0, 1]\n",
      "\n",
      "\n",
      "Round 4\n",
      "The bid information is\n",
      "+--------------+-----+-----+-----+\n",
      "| House Number |  0  |  1  |  2  |\n",
      "+--------------+-----+-----+-----+\n",
      "|    Buyer     | [2] | [1] | [0] |\n",
      "+--------------+-----+-----+-----+\n",
      "The bid prices for houses are\n",
      "+--------------+---+---+---+\n",
      "| House Number | 0 | 1 | 2 |\n",
      "+--------------+---+---+---+\n",
      "|    Price     | 3 | 5 | 4 |\n",
      "+--------------+---+---+---+\n",
      "The winners are\n",
      "[2, 1, 0]\n",
      "The losers are\n",
      "[3, 4]\n",
      "\n",
      "\n",
      "Auction ends\n",
      "\n",
      "\n",
      "The final result is as follows\n",
      "\n",
      "\n",
      "The allocation plan is\n",
      "+--------------+-----+-----+-----+\n",
      "| House Number |  0  |  1  |  2  |\n",
      "+--------------+-----+-----+-----+\n",
      "|    Buyer     | [2] | [1] | [0] |\n",
      "+--------------+-----+-----+-----+\n",
      "The bid prices for houses are\n",
      "+--------------+---+---+---+\n",
      "| House Number | 0 | 1 | 2 |\n",
      "+--------------+---+---+---+\n",
      "|    Price     | 3 | 5 | 4 |\n",
      "+--------------+---+---+---+\n",
      "The winners are\n",
      "[2, 1, 0]\n",
      "The losers are\n",
      "[3, 4]\n",
      "The houses unsold are\n",
      "[]\n",
      "The total revenue is 12.00\n"
     ]
    }
   ],
   "source": [
    "v3 = np.array([[8,5,9,4,3],[4,11,7,4,6],[9,7,6,4,2]])\n",
    "\n",
    "auction_3 = ascending_bid_auction(v3, r, ϵ)\n",
    "\n",
    "auction_3.start_auction()"
   ]
  },
  {
   "cell_type": "code",
   "execution_count": 49,
   "id": "284401a1",
   "metadata": {},
   "outputs": [
    {
     "name": "stdout",
     "output_type": "stream",
     "text": [
      "The Ascending Bid Auction for Houses\n",
      "\n",
      "\n",
      "Basic Information: 5 houses, 3 buyers\n",
      "The valuation matrix is as follows\n",
      "+--------------+---+----+---+\n",
      "| Buyer Number | 0 | 1  | 2 |\n",
      "+--------------+---+----+---+\n",
      "|   House 0    | 8 | 5  | 4 |\n",
      "|   House 1    | 4 | 11 | 7 |\n",
      "|   House 2    | 9 | 7  | 9 |\n",
      "|   House 3    | 6 | 4  | 5 |\n",
      "|   House 4    | 2 | 2  | 2 |\n",
      "+--------------+---+----+---+\n",
      "The reservation prices for houses are\n",
      "+--------------+---+---+---+---+---+\n",
      "| House Number | 0 | 1 | 2 | 3 | 4 |\n",
      "+--------------+---+---+---+---+---+\n",
      "|    Price     | 2 | 1 | 0 | 1 | 1 |\n",
      "+--------------+---+---+---+---+---+\n",
      "The minimum increment of bid price is 1.00\n",
      "\n",
      "\n",
      "Auction starts successfully\n",
      "\n",
      "\n",
      "Round 1\n",
      "The bid information is\n",
      "+--------------+-----+-------+\n",
      "| House Number |  1  |   2   |\n",
      "+--------------+-----+-------+\n",
      "|    Buyer     | [1] | [0 2] |\n",
      "+--------------+-----+-------+\n",
      "The bid prices for houses are\n",
      "+--------------+---+---+---+---+---+\n",
      "| House Number | 0 | 1 | 2 | 3 | 4 |\n",
      "+--------------+---+---+---+---+---+\n",
      "|    Price     | 2 | 2 | 1 | 1 | 1 |\n",
      "+--------------+---+---+---+---+---+\n",
      "The winners are\n",
      "[1, 2]\n",
      "The losers are\n",
      "[0]\n",
      "\n",
      "\n",
      "Round 2\n",
      "The bid information is\n",
      "+--------------+-----+-----+\n",
      "| House Number |  1  |  2  |\n",
      "+--------------+-----+-----+\n",
      "|    Buyer     | [1] | [0] |\n",
      "+--------------+-----+-----+\n",
      "The bid prices for houses are\n",
      "+--------------+---+---+---+---+---+\n",
      "| House Number | 0 | 1 | 2 | 3 | 4 |\n",
      "+--------------+---+---+---+---+---+\n",
      "|    Price     | 2 | 2 | 2 | 1 | 1 |\n",
      "+--------------+---+---+---+---+---+\n",
      "The winners are\n",
      "[1, 0]\n",
      "The losers are\n",
      "[2]\n",
      "\n",
      "\n",
      "Round 3\n",
      "The bid information is\n",
      "+--------------+-----+-----+\n",
      "| House Number |  1  |  2  |\n",
      "+--------------+-----+-----+\n",
      "|    Buyer     | [1] | [2] |\n",
      "+--------------+-----+-----+\n",
      "The bid prices for houses are\n",
      "+--------------+---+---+---+---+---+\n",
      "| House Number | 0 | 1 | 2 | 3 | 4 |\n",
      "+--------------+---+---+---+---+---+\n",
      "|    Price     | 2 | 2 | 3 | 1 | 1 |\n",
      "+--------------+---+---+---+---+---+\n",
      "The winners are\n",
      "[1, 2]\n",
      "The losers are\n",
      "[0]\n",
      "\n",
      "\n",
      "Round 4\n",
      "The bid information is\n",
      "+--------------+-----+-----+\n",
      "| House Number |  1  |  2  |\n",
      "+--------------+-----+-----+\n",
      "|    Buyer     | [1] | [0] |\n",
      "+--------------+-----+-----+\n",
      "The bid prices for houses are\n",
      "+--------------+---+---+---+---+---+\n",
      "| House Number | 0 | 1 | 2 | 3 | 4 |\n",
      "+--------------+---+---+---+---+---+\n",
      "|    Price     | 2 | 2 | 4 | 1 | 1 |\n",
      "+--------------+---+---+---+---+---+\n",
      "The winners are\n",
      "[1, 0]\n",
      "The losers are\n",
      "[2]\n",
      "\n",
      "\n",
      "Round 5\n",
      "The bid information is\n",
      "+--------------+-----+-----+\n",
      "| House Number |  1  |  2  |\n",
      "+--------------+-----+-----+\n",
      "|    Buyer     | [2] | [0] |\n",
      "+--------------+-----+-----+\n",
      "The bid prices for houses are\n",
      "+--------------+---+---+---+---+---+\n",
      "| House Number | 0 | 1 | 2 | 3 | 4 |\n",
      "+--------------+---+---+---+---+---+\n",
      "|    Price     | 2 | 3 | 4 | 1 | 1 |\n",
      "+--------------+---+---+---+---+---+\n",
      "The winners are\n",
      "[2, 0]\n",
      "The losers are\n",
      "[1]\n",
      "\n",
      "\n",
      "Round 6\n",
      "The bid information is\n",
      "+--------------+-----+-----+\n",
      "| House Number |  1  |  2  |\n",
      "+--------------+-----+-----+\n",
      "|    Buyer     | [1] | [0] |\n",
      "+--------------+-----+-----+\n",
      "The bid prices for houses are\n",
      "+--------------+---+---+---+---+---+\n",
      "| House Number | 0 | 1 | 2 | 3 | 4 |\n",
      "+--------------+---+---+---+---+---+\n",
      "|    Price     | 2 | 4 | 4 | 1 | 1 |\n",
      "+--------------+---+---+---+---+---+\n",
      "The winners are\n",
      "[1, 0]\n",
      "The losers are\n",
      "[2]\n",
      "\n",
      "\n",
      "Round 7\n",
      "The bid information is\n",
      "+--------------+-----+-----+\n",
      "| House Number |  1  |  2  |\n",
      "+--------------+-----+-----+\n",
      "|    Buyer     | [1] | [2] |\n",
      "+--------------+-----+-----+\n",
      "The bid prices for houses are\n",
      "+--------------+---+---+---+---+---+\n",
      "| House Number | 0 | 1 | 2 | 3 | 4 |\n",
      "+--------------+---+---+---+---+---+\n",
      "|    Price     | 2 | 4 | 5 | 1 | 1 |\n",
      "+--------------+---+---+---+---+---+\n",
      "The winners are\n",
      "[1, 2]\n",
      "The losers are\n",
      "[0]\n",
      "\n",
      "\n",
      "Round 8\n",
      "The bid information is\n",
      "+--------------+-----+-----+-----+\n",
      "| House Number |  1  |  2  |  0  |\n",
      "+--------------+-----+-----+-----+\n",
      "|    Buyer     | [1] | [2] | [0] |\n",
      "+--------------+-----+-----+-----+\n",
      "The bid prices for houses are\n",
      "+--------------+---+---+---+---+---+\n",
      "| House Number | 0 | 1 | 2 | 3 | 4 |\n",
      "+--------------+---+---+---+---+---+\n",
      "|    Price     | 3 | 4 | 5 | 1 | 1 |\n",
      "+--------------+---+---+---+---+---+\n",
      "The winners are\n",
      "[1, 2, 0]\n",
      "The losers are\n",
      "[]\n",
      "\n",
      "\n",
      "The auction ends because every buyer gets one house.\n",
      "\n",
      "\n",
      "Auction ends\n",
      "\n",
      "\n",
      "The final result is as follows\n",
      "\n",
      "\n",
      "The allocation plan is\n",
      "+--------------+-----+-----+-----+\n",
      "| House Number |  1  |  2  |  0  |\n",
      "+--------------+-----+-----+-----+\n",
      "|    Buyer     | [1] | [2] | [0] |\n",
      "+--------------+-----+-----+-----+\n",
      "The bid prices for houses are\n",
      "+--------------+---+---+---+---+---+\n",
      "| House Number | 0 | 1 | 2 | 3 | 4 |\n",
      "+--------------+---+---+---+---+---+\n",
      "|    Price     | 3 | 4 | 5 | 1 | 1 |\n",
      "+--------------+---+---+---+---+---+\n",
      "The winners are\n",
      "[1, 2, 0]\n",
      "The losers are\n",
      "[]\n",
      "The houses unsold are\n",
      "[3, 4]\n",
      "The total revenue is 12.00\n"
     ]
    }
   ],
   "source": [
    "v4 = np.array([[8,5,4],[4,11,7],[9,7,9],[6,4,5],[2,2,2]])\n",
    "r2 = np.array([2,1,0,1,1])\n",
    "\n",
    "auction_4 = ascending_bid_auction(v4, r2, ϵ)\n",
    "\n",
    "auction_4.start_auction()"
   ]
  },
  {
   "cell_type": "code",
   "execution_count": 50,
   "id": "1c32518f",
   "metadata": {},
   "outputs": [
    {
     "name": "stdout",
     "output_type": "stream",
     "text": [
      "The Ascending Bid Auction for Houses\n",
      "\n",
      "\n",
      "Basic Information: 5 houses, 3 buyers\n",
      "The valuation matrix is as follows\n",
      "+--------------+---+----+---+\n",
      "| Buyer Number | 0 | 1  | 2 |\n",
      "+--------------+---+----+---+\n",
      "|   House 0    | 8 | 5  | 4 |\n",
      "|   House 1    | 4 | 11 | 7 |\n",
      "|   House 2    | 9 | 7  | 9 |\n",
      "|   House 3    | 6 | 4  | 5 |\n",
      "|   House 4    | 2 | 2  | 2 |\n",
      "+--------------+---+----+---+\n",
      "The reservation prices for houses are\n",
      "+--------------+----+---+---+---+---+\n",
      "| House Number | 0  | 1 | 2 | 3 | 4 |\n",
      "+--------------+----+---+---+---+---+\n",
      "|    Price     | 10 | 1 | 0 | 1 | 1 |\n",
      "+--------------+----+---+---+---+---+\n",
      "The minimum increment of bid price is 1.00\n",
      "\n",
      "\n",
      "Auction starts successfully\n",
      "\n",
      "\n",
      "Round 1\n",
      "The bid information is\n",
      "+--------------+-----+-------+\n",
      "| House Number |  1  |   2   |\n",
      "+--------------+-----+-------+\n",
      "|    Buyer     | [1] | [0 2] |\n",
      "+--------------+-----+-------+\n",
      "The bid prices for houses are\n",
      "+--------------+----+---+---+---+---+\n",
      "| House Number | 0  | 1 | 2 | 3 | 4 |\n",
      "+--------------+----+---+---+---+---+\n",
      "|    Price     | 10 | 2 | 1 | 1 | 1 |\n",
      "+--------------+----+---+---+---+---+\n",
      "The winners are\n",
      "[1, 0]\n",
      "The losers are\n",
      "[2]\n",
      "\n",
      "\n",
      "Round 2\n",
      "The bid information is\n",
      "+--------------+-----+-----+\n",
      "| House Number |  1  |  2  |\n",
      "+--------------+-----+-----+\n",
      "|    Buyer     | [1] | [2] |\n",
      "+--------------+-----+-----+\n",
      "The bid prices for houses are\n",
      "+--------------+----+---+---+---+---+\n",
      "| House Number | 0  | 1 | 2 | 3 | 4 |\n",
      "+--------------+----+---+---+---+---+\n",
      "|    Price     | 10 | 2 | 2 | 1 | 1 |\n",
      "+--------------+----+---+---+---+---+\n",
      "The winners are\n",
      "[1, 2]\n",
      "The losers are\n",
      "[0]\n",
      "\n",
      "\n",
      "Round 3\n",
      "The bid information is\n",
      "+--------------+-----+-----+\n",
      "| House Number |  1  |  2  |\n",
      "+--------------+-----+-----+\n",
      "|    Buyer     | [1] | [0] |\n",
      "+--------------+-----+-----+\n",
      "The bid prices for houses are\n",
      "+--------------+----+---+---+---+---+\n",
      "| House Number | 0  | 1 | 2 | 3 | 4 |\n",
      "+--------------+----+---+---+---+---+\n",
      "|    Price     | 10 | 2 | 3 | 1 | 1 |\n",
      "+--------------+----+---+---+---+---+\n",
      "The winners are\n",
      "[1, 0]\n",
      "The losers are\n",
      "[2]\n",
      "\n",
      "\n",
      "Round 4\n",
      "The bid information is\n",
      "+--------------+-----+-----+\n",
      "| House Number |  1  |  2  |\n",
      "+--------------+-----+-----+\n",
      "|    Buyer     | [1] | [2] |\n",
      "+--------------+-----+-----+\n",
      "The bid prices for houses are\n",
      "+--------------+----+---+---+---+---+\n",
      "| House Number | 0  | 1 | 2 | 3 | 4 |\n",
      "+--------------+----+---+---+---+---+\n",
      "|    Price     | 10 | 2 | 4 | 1 | 1 |\n",
      "+--------------+----+---+---+---+---+\n",
      "The winners are\n",
      "[1, 2]\n",
      "The losers are\n",
      "[0]\n",
      "\n",
      "\n",
      "Round 5\n",
      "The bid information is\n",
      "+--------------+-----+-----+\n",
      "| House Number |  1  |  2  |\n",
      "+--------------+-----+-----+\n",
      "|    Buyer     | [1] | [0] |\n",
      "+--------------+-----+-----+\n",
      "The bid prices for houses are\n",
      "+--------------+----+---+---+---+---+\n",
      "| House Number | 0  | 1 | 2 | 3 | 4 |\n",
      "+--------------+----+---+---+---+---+\n",
      "|    Price     | 10 | 2 | 5 | 1 | 1 |\n",
      "+--------------+----+---+---+---+---+\n",
      "The winners are\n",
      "[1, 0]\n",
      "The losers are\n",
      "[2]\n",
      "\n",
      "\n",
      "Round 6\n",
      "The bid information is\n",
      "+--------------+-----+-----+\n",
      "| House Number |  1  |  2  |\n",
      "+--------------+-----+-----+\n",
      "|    Buyer     | [2] | [0] |\n",
      "+--------------+-----+-----+\n",
      "The bid prices for houses are\n",
      "+--------------+----+---+---+---+---+\n",
      "| House Number | 0  | 1 | 2 | 3 | 4 |\n",
      "+--------------+----+---+---+---+---+\n",
      "|    Price     | 10 | 3 | 5 | 1 | 1 |\n",
      "+--------------+----+---+---+---+---+\n",
      "The winners are\n",
      "[2, 0]\n",
      "The losers are\n",
      "[1]\n",
      "\n",
      "\n",
      "Round 7\n",
      "The bid information is\n",
      "+--------------+-----+-----+\n",
      "| House Number |  1  |  2  |\n",
      "+--------------+-----+-----+\n",
      "|    Buyer     | [1] | [0] |\n",
      "+--------------+-----+-----+\n",
      "The bid prices for houses are\n",
      "+--------------+----+---+---+---+---+\n",
      "| House Number | 0  | 1 | 2 | 3 | 4 |\n",
      "+--------------+----+---+---+---+---+\n",
      "|    Price     | 10 | 4 | 5 | 1 | 1 |\n",
      "+--------------+----+---+---+---+---+\n",
      "The winners are\n",
      "[1, 0]\n",
      "The losers are\n",
      "[2]\n",
      "\n",
      "\n",
      "Round 8\n",
      "The bid information is\n",
      "+--------------+-----+-----+\n",
      "| House Number |  1  |  2  |\n",
      "+--------------+-----+-----+\n",
      "|    Buyer     | [1] | [2] |\n",
      "+--------------+-----+-----+\n",
      "The bid prices for houses are\n",
      "+--------------+----+---+---+---+---+\n",
      "| House Number | 0  | 1 | 2 | 3 | 4 |\n",
      "+--------------+----+---+---+---+---+\n",
      "|    Price     | 10 | 4 | 6 | 1 | 1 |\n",
      "+--------------+----+---+---+---+---+\n",
      "The winners are\n",
      "[1, 2]\n",
      "The losers are\n",
      "[0]\n",
      "\n",
      "\n",
      "Round 9\n",
      "The bid information is\n",
      "+--------------+-----+-----+-----+\n",
      "| House Number |  1  |  2  |  3  |\n",
      "+--------------+-----+-----+-----+\n",
      "|    Buyer     | [1] | [2] | [0] |\n",
      "+--------------+-----+-----+-----+\n",
      "The bid prices for houses are\n",
      "+--------------+----+---+---+---+---+\n",
      "| House Number | 0  | 1 | 2 | 3 | 4 |\n",
      "+--------------+----+---+---+---+---+\n",
      "|    Price     | 10 | 4 | 6 | 2 | 1 |\n",
      "+--------------+----+---+---+---+---+\n",
      "The winners are\n",
      "[1, 2, 0]\n",
      "The losers are\n",
      "[]\n",
      "\n",
      "\n",
      "The auction ends because every buyer gets one house.\n",
      "\n",
      "\n",
      "Auction ends\n",
      "\n",
      "\n",
      "The final result is as follows\n",
      "\n",
      "\n",
      "The allocation plan is\n",
      "+--------------+-----+-----+-----+\n",
      "| House Number |  1  |  2  |  3  |\n",
      "+--------------+-----+-----+-----+\n",
      "|    Buyer     | [1] | [2] | [0] |\n",
      "+--------------+-----+-----+-----+\n",
      "The bid prices for houses are\n",
      "+--------------+----+---+---+---+---+\n",
      "| House Number | 0  | 1 | 2 | 3 | 4 |\n",
      "+--------------+----+---+---+---+---+\n",
      "|    Price     | 10 | 4 | 6 | 2 | 1 |\n",
      "+--------------+----+---+---+---+---+\n",
      "The winners are\n",
      "[1, 2, 0]\n",
      "The losers are\n",
      "[]\n",
      "The houses unsold are\n",
      "[0, 4]\n",
      "The total revenue is 12.00\n"
     ]
    }
   ],
   "source": [
    "v5 = np.array([[8,5,4],[4,11,7],[9,7,9],[6,4,5],[2,2,2]])\n",
    "r3 = np.array([10,1,0,1,1])\n",
    "\n",
    "auction_5 = ascending_bid_auction(v5, r3, ϵ)\n",
    "\n",
    "auction_5.start_auction()"
   ]
  },
  {
   "cell_type": "code",
   "execution_count": 51,
   "id": "07bc6934",
   "metadata": {},
   "outputs": [
    {
     "name": "stdout",
     "output_type": "stream",
     "text": [
      "The Ascending Bid Auction for Houses\n",
      "\n",
      "\n",
      "Basic Information: 3 houses, 4 buyers\n",
      "The valuation matrix is as follows\n",
      "+--------------+---+----+---+---+\n",
      "| Buyer Number | 0 | 1  | 2 | 3 |\n",
      "+--------------+---+----+---+---+\n",
      "|   House 0    | 8 | 5  | 9 | 4 |\n",
      "|   House 1    | 4 | 11 | 7 | 4 |\n",
      "|   House 2    | 9 | 7  | 6 | 4 |\n",
      "+--------------+---+----+---+---+\n",
      "The reservation prices for houses are\n",
      "+--------------+----+----+----+\n",
      "| House Number | 0  | 1  | 2  |\n",
      "+--------------+----+----+----+\n",
      "|    Price     | 15 | 15 | 15 |\n",
      "+--------------+----+----+----+\n",
      "The minimum increment of bid price is 1.00\n",
      "\n",
      "\n",
      "The auction can not start because of high reservation prices\n"
     ]
    }
   ],
   "source": [
    "r4 = np.array([15,15,15])\n",
    "\n",
    "auction_6 = ascending_bid_auction(v, r4, ϵ)\n",
    "\n",
    "auction_6.start_auction()"
   ]
  },
  {
   "cell_type": "code",
   "execution_count": 52,
   "id": "1ae6ee8f",
   "metadata": {},
   "outputs": [],
   "source": [
    "np.random.seed(666)\n",
    "\n",
    "V_orig = np.array([[10, 9, 8, 7, 6],  # record the origianl values\n",
    "                   [9, 9, 7, 6, 6],\n",
    "                   [8, 6, 6, 9, 4],\n",
    "                   [7, 5, 6, 4, 9]])\n",
    "V = np.copy(V_orig)  # used iteratively\n",
    "n, m = V.shape\n",
    "p = np.zeros(n) # prices of houses\n",
    "Q = np.zeros((n, m)) # keep record the status of houses and buyers"
   ]
  },
  {
   "cell_type": "code",
   "execution_count": 53,
   "id": "3f8a9cfc",
   "metadata": {},
   "outputs": [
    {
     "data": {
      "text/plain": [
       "(array([0], dtype=int64), array([0], dtype=int64))"
      ]
     },
     "execution_count": 53,
     "metadata": {},
     "output_type": "execute_result"
    }
   ],
   "source": [
    "i, j = np.where(V==np.max(V))\n",
    "i, j"
   ]
  },
  {
   "cell_type": "code",
   "execution_count": 54,
   "id": "1cf5dfb0",
   "metadata": {},
   "outputs": [
    {
     "data": {
      "text/plain": [
       "(array([9., 0., 0., 0.]),\n",
       " array([[1., 0., 0., 0., 0.],\n",
       "        [0., 0., 0., 0., 0.],\n",
       "        [0., 0., 0., 0., 0.],\n",
       "        [0., 0., 0., 0., 0.]]))"
      ]
     },
     "execution_count": 54,
     "metadata": {},
     "output_type": "execute_result"
    }
   ],
   "source": [
    "p[i] = np.max(np.delete(V[i, :], j))\n",
    "Q[i, j] = 1\n",
    "p, Q"
   ]
  },
  {
   "cell_type": "code",
   "execution_count": 55,
   "id": "404ddb20",
   "metadata": {},
   "outputs": [
    {
     "data": {
      "text/plain": [
       "array([[-1, -1, -1, -1, -1],\n",
       "       [-1,  9,  7,  6,  6],\n",
       "       [-1,  6,  6,  9,  4],\n",
       "       [-1,  5,  6,  4,  9]])"
      ]
     },
     "execution_count": 55,
     "metadata": {},
     "output_type": "execute_result"
    }
   ],
   "source": [
    "V[i, :] = -1\n",
    "V[:, j] = -1\n",
    "V"
   ]
  },
  {
   "cell_type": "code",
   "execution_count": 56,
   "id": "9d7dff62",
   "metadata": {},
   "outputs": [
    {
     "data": {
      "text/plain": [
       "(array([1, 2, 3], dtype=int64), array([1, 3, 4], dtype=int64))"
      ]
     },
     "execution_count": 56,
     "metadata": {},
     "output_type": "execute_result"
    }
   ],
   "source": [
    "i, j = np.where(V==np.max(V))\n",
    "i, j"
   ]
  },
  {
   "cell_type": "code",
   "execution_count": 57,
   "id": "94ae75cb",
   "metadata": {},
   "outputs": [
    {
     "data": {
      "text/plain": [
       "(array([1], dtype=int64), array([1], dtype=int64))"
      ]
     },
     "execution_count": 57,
     "metadata": {},
     "output_type": "execute_result"
    }
   ],
   "source": [
    "p_candidate = np.zeros(len(i))\n",
    "for k in range(len(i)):\n",
    "    p_candidate[k] = np.max(np.delete(V[i[k], :], j[k]))\n",
    "k, = np.where(p_candidate==np.max(p_candidate))\n",
    "i, j = i[k], j[k]\n",
    "i, j"
   ]
  },
  {
   "cell_type": "code",
   "execution_count": 58,
   "id": "8eeaae11",
   "metadata": {},
   "outputs": [
    {
     "data": {
      "text/plain": [
       "(array([9., 7., 0., 0.]),\n",
       " array([[1., 0., 0., 0., 0.],\n",
       "        [0., 1., 0., 0., 0.],\n",
       "        [0., 0., 0., 0., 0.],\n",
       "        [0., 0., 0., 0., 0.]]),\n",
       " array([[-1, -1, -1, -1, -1],\n",
       "        [-1, -1, -1, -1, -1],\n",
       "        [-1, -1,  6,  9,  4],\n",
       "        [-1, -1,  6,  4,  9]]))"
      ]
     },
     "execution_count": 58,
     "metadata": {},
     "output_type": "execute_result"
    }
   ],
   "source": [
    "p[i] = np.max(np.delete(V[i, :], j))\n",
    "Q[i, j] = 1\n",
    "V[i, :] = -1\n",
    "V[:, j] = -1\n",
    "p, Q, V"
   ]
  },
  {
   "cell_type": "code",
   "execution_count": 59,
   "id": "8df4714b",
   "metadata": {},
   "outputs": [
    {
     "data": {
      "text/plain": [
       "(array([2, 3], dtype=int64), array([3, 4], dtype=int64))"
      ]
     },
     "execution_count": 59,
     "metadata": {},
     "output_type": "execute_result"
    }
   ],
   "source": [
    "i, j = np.where(V==np.max(V))\n",
    "i, j"
   ]
  },
  {
   "cell_type": "code",
   "execution_count": 60,
   "id": "25efafd9",
   "metadata": {},
   "outputs": [
    {
     "data": {
      "text/plain": [
       "(array([2, 3], dtype=int64), array([3, 4], dtype=int64))"
      ]
     },
     "execution_count": 60,
     "metadata": {},
     "output_type": "execute_result"
    }
   ],
   "source": [
    "p_candidate = np.zeros(len(i))\n",
    "for k in range(len(i)):\n",
    "    p_candidate[k] = np.max(np.delete(V[i[k], :], j[k]))\n",
    "k, = np.where(p_candidate==np.max(p_candidate))\n",
    "i, j = i[k], j[k]\n",
    "i, j"
   ]
  },
  {
   "cell_type": "code",
   "execution_count": 61,
   "id": "106a691c",
   "metadata": {},
   "outputs": [
    {
     "data": {
      "text/plain": [
       "(2, 3)"
      ]
     },
     "execution_count": 61,
     "metadata": {},
     "output_type": "execute_result"
    }
   ],
   "source": [
    "k = np.random.choice(len(i))\n",
    "i, j = i[k], j[k]\n",
    "i, j"
   ]
  },
  {
   "cell_type": "code",
   "execution_count": 62,
   "id": "4f3dbd21",
   "metadata": {},
   "outputs": [
    {
     "data": {
      "text/plain": [
       "(array([9., 7., 6., 0.]),\n",
       " array([[1., 0., 0., 0., 0.],\n",
       "        [0., 1., 0., 0., 0.],\n",
       "        [0., 0., 0., 1., 0.],\n",
       "        [0., 0., 0., 0., 0.]]),\n",
       " array([[-1, -1, -1, -1, -1],\n",
       "        [-1, -1, -1, -1, -1],\n",
       "        [-1, -1, -1, -1, -1],\n",
       "        [-1, -1,  6, -1,  9]]))"
      ]
     },
     "execution_count": 62,
     "metadata": {},
     "output_type": "execute_result"
    }
   ],
   "source": [
    "p[i] = np.max(np.delete(V[i, :], j))\n",
    "Q[i, j] = 1\n",
    "V[i, :] = -1\n",
    "V[:, j] = -1\n",
    "p, Q, V"
   ]
  },
  {
   "cell_type": "code",
   "execution_count": 63,
   "id": "563f1035",
   "metadata": {},
   "outputs": [
    {
     "data": {
      "text/plain": [
       "(array([3], dtype=int64), array([4], dtype=int64))"
      ]
     },
     "execution_count": 63,
     "metadata": {},
     "output_type": "execute_result"
    }
   ],
   "source": [
    "i, j = np.where(V==np.max(V))\n",
    "i, j"
   ]
  },
  {
   "cell_type": "code",
   "execution_count": 64,
   "id": "70e2acaa",
   "metadata": {},
   "outputs": [
    {
     "data": {
      "text/plain": [
       "(array([9., 7., 6., 6.]),\n",
       " array([[1., 0., 0., 0., 0.],\n",
       "        [0., 1., 0., 0., 0.],\n",
       "        [0., 0., 0., 1., 0.],\n",
       "        [0., 0., 0., 0., 1.]]),\n",
       " array([[-1, -1, -1, -1, -1],\n",
       "        [-1, -1, -1, -1, -1],\n",
       "        [-1, -1, -1, -1, -1],\n",
       "        [-1, -1, -1, -1, -1]]),\n",
       " array([[1., 0., 0., 0., 0.],\n",
       "        [0., 2., 0., 0., 0.],\n",
       "        [0., 0., 0., 3., 0.],\n",
       "        [0., 0., 0., 0., 3.]]))"
      ]
     },
     "execution_count": 64,
     "metadata": {},
     "output_type": "execute_result"
    }
   ],
   "source": [
    "p[i] = np.max(np.delete(V[i, :], j))\n",
    "Q[i, j] = 1\n",
    "V[i, :] = -1\n",
    "V[:, j] = -1\n",
    "S = V_orig*Q - np.diag(p)@Q\n",
    "p, Q, V, S"
   ]
  },
  {
   "cell_type": "code",
   "execution_count": 65,
   "id": "541f9750",
   "metadata": {},
   "outputs": [],
   "source": [
    "class GC_Mechanism:\n",
    "\n",
    "    def __init__(self, V):\n",
    "        \"\"\"\n",
    "        Implementation of the special Groves Clarke Mechanism for house auction.\n",
    "\n",
    "        Parameters:\n",
    "        ----------\n",
    "        V: 2 dimensional private value matrix\n",
    "\n",
    "        \"\"\"\n",
    "\n",
    "        self.V_orig = V.copy()\n",
    "        self.V = V.copy()\n",
    "        self.n, self.m = self.V.shape\n",
    "        self.p = np.zeros(self.n)\n",
    "        self.Q = np.zeros((self.n, self.m))\n",
    "        self.S = np.copy(self.Q)\n",
    "\n",
    "    def find_argmax(self):\n",
    "        \"\"\"\n",
    "        Find the house-buyer pair with the highest value.\n",
    "        When the highest private value corresponds to more than one house, bidder pairs,\n",
    "        we choose the pair with the highest sale price.\n",
    "        Moreoever, if the highest sale price corresponds to two or more pairs with highest private value,\n",
    "        We randomly choose one.\n",
    "\n",
    "        Parameters:\n",
    "        ----------\n",
    "        V: 2 dimensional private value matrix with -1 indicating revomed rows and columns\n",
    "\n",
    "        Returns:\n",
    "        ----------\n",
    "        i: the index of the sold house\n",
    "\n",
    "        j: the index of the buyer\n",
    "\n",
    "        \"\"\"\n",
    "        i, j = np.where(self.V==np.max(self.V))\n",
    "\n",
    "        if (len(i)>1):\n",
    "            p_candidate = np.zeros(len(i))\n",
    "            for k in range(len(i)):\n",
    "                p_candidate[k] = np.max(np.delete(self.V[i[k], :], j[k]))\n",
    "            k, = np.where(p_candidate==np.max(p_candidate))\n",
    "            i, j = i[k], j[k]\n",
    "\n",
    "            if (len(i)>1):\n",
    "                k = np.random.choice(len(i))\n",
    "                k = np.array([k])\n",
    "                i, j = i[k], j[k]\n",
    "        return i, j\n",
    "\n",
    "    def update_status(self, i, j):\n",
    "        self.p[i] = np.max(np.delete(self.V[i, :], j))\n",
    "        self.Q[i, j] = 1\n",
    "        self.V[i, :] = -1\n",
    "        self.V[:, j] = -1\n",
    "\n",
    "    def calculate_surplus(self):\n",
    "        self.S = self.V_orig*self.Q - np.diag(self.p)@self.Q\n",
    "\n",
    "    def start(self):\n",
    "        while (np.max(self.V)>=0):\n",
    "            i, j = self.find_argmax()\n",
    "            self.update_status(i, j)\n",
    "            print(\"House %i is sold to buyer %i at price %i\"%(i[0], j[0], self.p[i[0]]))\n",
    "            print(\"\\n\")\n",
    "        self.calculate_surplus()\n",
    "        print(\"Prices of house:\\n\", self.p)\n",
    "        print(\"\\n\")\n",
    "        print(\"The status matrix:\\n\", self.Q)\n",
    "        print(\"\\n\")\n",
    "        print(\"The surplus matrix:\\n\", self.S)\n"
   ]
  },
  {
   "cell_type": "code",
   "execution_count": 66,
   "id": "04495cbb",
   "metadata": {},
   "outputs": [
    {
     "name": "stdout",
     "output_type": "stream",
     "text": [
      "House 0 is sold to buyer 0 at price 9\n",
      "\n",
      "\n",
      "House 1 is sold to buyer 1 at price 7\n",
      "\n",
      "\n",
      "House 2 is sold to buyer 3 at price 6\n",
      "\n",
      "\n",
      "House 3 is sold to buyer 4 at price 6\n",
      "\n",
      "\n",
      "Prices of house:\n",
      " [9. 7. 6. 6.]\n",
      "\n",
      "\n",
      "The status matrix:\n",
      " [[1. 0. 0. 0. 0.]\n",
      " [0. 1. 0. 0. 0.]\n",
      " [0. 0. 0. 1. 0.]\n",
      " [0. 0. 0. 0. 1.]]\n",
      "\n",
      "\n",
      "The surplus matrix:\n",
      " [[1. 0. 0. 0. 0.]\n",
      " [0. 2. 0. 0. 0.]\n",
      " [0. 0. 0. 3. 0.]\n",
      " [0. 0. 0. 0. 3.]]\n"
     ]
    }
   ],
   "source": [
    "np.random.seed(666)\n",
    "\n",
    "V_orig = np.array([[10, 9, 8, 7, 6],\n",
    "                   [9, 9, 7, 6, 6],\n",
    "                   [8, 6, 6, 9, 4],\n",
    "                   [7, 5, 6, 4, 9]])\n",
    "gc_mechanism = GC_Mechanism(V_orig)\n",
    "gc_mechanism.start()"
   ]
  },
  {
   "cell_type": "code",
   "execution_count": 67,
   "id": "e82fd3fc",
   "metadata": {},
   "outputs": [
    {
     "name": "stdout",
     "output_type": "stream",
     "text": [
      "House 0 is sold to buyer 0 at price 9\n",
      "\n",
      "\n",
      "House 1 is sold to buyer 1 at price 7\n",
      "\n",
      "\n",
      "House 2 is sold to buyer 2 at price 5\n",
      "\n",
      "\n",
      "Prices of house:\n",
      " [9. 7. 5.]\n",
      "\n",
      "\n",
      "The status matrix:\n",
      " [[1. 0. 0. 0. 0.]\n",
      " [0. 1. 0. 0. 0.]\n",
      " [0. 0. 1. 0. 0.]]\n",
      "\n",
      "\n",
      "The surplus matrix:\n",
      " [[1. 0. 0. 0. 0.]\n",
      " [0. 1. 0. 0. 0.]\n",
      " [0. 0. 1. 0. 0.]]\n"
     ]
    }
   ],
   "source": [
    "np.random.seed(666)\n",
    "\n",
    "V_orig = np.array([[10, 9, 8, 7, 6],\n",
    "                   [9, 8, 7, 6, 6],\n",
    "                   [8, 7, 6, 5, 4]])\n",
    "gc_mechanism = GC_Mechanism(V_orig)\n",
    "gc_mechanism.start()"
   ]
  },
  {
   "cell_type": "code",
   "execution_count": 68,
   "id": "be785f37",
   "metadata": {},
   "outputs": [
    {
     "name": "stdout",
     "output_type": "stream",
     "text": [
      "House 0 is sold to buyer 1 at price 8\n",
      "\n",
      "\n",
      "House 1 is sold to buyer 2 at price 6\n",
      "\n",
      "\n",
      "House 2 is sold to buyer 3 at price 4\n",
      "\n",
      "\n",
      "Prices of house:\n",
      " [8. 6. 4.]\n",
      "\n",
      "\n",
      "The status matrix:\n",
      " [[0. 1. 0. 0. 0.]\n",
      " [0. 0. 1. 0. 0.]\n",
      " [0. 0. 0. 1. 0.]]\n",
      "\n",
      "\n",
      "The surplus matrix:\n",
      " [[-0.  1.  0.  0.  0.]\n",
      " [-0.  0.  1.  0.  0.]\n",
      " [-0.  0.  0.  1.  0.]]\n"
     ]
    }
   ],
   "source": [
    "V_exc_0 = np.copy(V_orig)\n",
    "V_exc_0[:, 0] = -1\n",
    "V_exc_0\n",
    "gc_mechanism_exc_0 = GC_Mechanism(V_exc_0)\n",
    "gc_mechanism_exc_0.start()"
   ]
  },
  {
   "cell_type": "code",
   "execution_count": 69,
   "id": "2da9b045",
   "metadata": {},
   "outputs": [
    {
     "name": "stdout",
     "output_type": "stream",
     "text": [
      "The social cost of buyer 0: 7.0\n"
     ]
    }
   ],
   "source": [
    "print(\"The social cost of buyer 0:\",\n",
    "     np.sum(gc_mechanism_exc_0.Q*gc_mechanism_exc_0.V_orig)-np.sum(np.delete(gc_mechanism.Q*gc_mechanism.V_orig, 0, axis=1)))"
   ]
  },
  {
   "cell_type": "code",
   "execution_count": 70,
   "id": "d6da79c7",
   "metadata": {},
   "outputs": [
    {
     "name": "stdout",
     "output_type": "stream",
     "text": [
      "House 0 is sold to buyer 0 at price 8\n",
      "\n",
      "\n",
      "House 1 is sold to buyer 2 at price 6\n",
      "\n",
      "\n",
      "House 2 is sold to buyer 3 at price 4\n",
      "\n",
      "\n",
      "Prices of house:\n",
      " [8. 6. 4.]\n",
      "\n",
      "\n",
      "The status matrix:\n",
      " [[1. 0. 0. 0. 0.]\n",
      " [0. 0. 1. 0. 0.]\n",
      " [0. 0. 0. 1. 0.]]\n",
      "\n",
      "\n",
      "The surplus matrix:\n",
      " [[ 2. -0.  0.  0.  0.]\n",
      " [ 0. -0.  1.  0.  0.]\n",
      " [ 0. -0.  0.  1.  0.]]\n",
      "\n",
      "The social cost of buyer 1: 6.0\n"
     ]
    }
   ],
   "source": [
    "V_exc_1 = np.copy(V_orig)\n",
    "V_exc_1[:, 1] = -1\n",
    "V_exc_1\n",
    "gc_mechanism_exc_1 = GC_Mechanism(V_exc_1)\n",
    "gc_mechanism_exc_1.start()\n",
    "\n",
    "print(\"\\nThe social cost of buyer 1:\",\n",
    "     np.sum(gc_mechanism_exc_1.Q*gc_mechanism_exc_1.V_orig)-np.sum(np.delete(gc_mechanism.Q*gc_mechanism.V_orig, 1, axis=1)))"
   ]
  },
  {
   "cell_type": "code",
   "execution_count": 71,
   "id": "46d4fe64",
   "metadata": {},
   "outputs": [
    {
     "name": "stdout",
     "output_type": "stream",
     "text": [
      "House 0 is sold to buyer 0 at price 9\n",
      "\n",
      "\n",
      "House 1 is sold to buyer 1 at price 6\n",
      "\n",
      "\n",
      "House 2 is sold to buyer 3 at price 4\n",
      "\n",
      "\n",
      "Prices of house:\n",
      " [9. 6. 4.]\n",
      "\n",
      "\n",
      "The status matrix:\n",
      " [[1. 0. 0. 0. 0.]\n",
      " [0. 1. 0. 0. 0.]\n",
      " [0. 0. 0. 1. 0.]]\n",
      "\n",
      "\n",
      "The surplus matrix:\n",
      " [[ 1.  0. -0.  0.  0.]\n",
      " [ 0.  2. -0.  0.  0.]\n",
      " [ 0.  0. -0.  1.  0.]]\n",
      "\n",
      "The social cost of buyer 2: 5.0\n"
     ]
    }
   ],
   "source": [
    "V_exc_2 = np.copy(V_orig)\n",
    "V_exc_2[:, 2] = -1\n",
    "V_exc_2\n",
    "gc_mechanism_exc_2 = GC_Mechanism(V_exc_2)\n",
    "gc_mechanism_exc_2.start()\n",
    "\n",
    "print(\"\\nThe social cost of buyer 2:\",\n",
    "     np.sum(gc_mechanism_exc_2.Q*gc_mechanism_exc_2.V_orig)-np.sum(np.delete(gc_mechanism.Q*gc_mechanism.V_orig, 2, axis=1)))"
   ]
  }
 ],
 "metadata": {
  "jupytext": {
   "text_representation": {
    "extension": ".md",
    "format_name": "myst",
    "format_version": 0.13,
    "jupytext_version": "1.13.4"
   }
  },
  "kernelspec": {
   "display_name": "Python 3 (ipykernel)",
   "language": "python",
   "name": "python3"
  },
  "language_info": {
   "codemirror_mode": {
    "name": "ipython",
    "version": 3
   },
   "file_extension": ".py",
   "mimetype": "text/x-python",
   "name": "python",
   "nbconvert_exporter": "python",
   "pygments_lexer": "ipython3",
   "version": "3.9.13"
  },
  "source_map": [
   12,
   16,
   21,
   153,
   159,
   229,
   237,
   239,
   243,
   255,
   267,
   269,
   277,
   281,
   304,
   319,
   323,
   347,
   349,
   353,
   357,
   400,
   404,
   408,
   410,
   414,
   430,
   478,
   482,
   486,
   490,
   492,
   497,
   503,
   557,
   561,
   565,
   569,
   573,
   575,
   579,
   583,
   587,
   591,
   595,
   597,
   601,
   605,
   609,
   611,
   615,
   619,
   621,
   625,
   629,
   633,
   635,
   639,
   643,
   647,
   654,
   657,
   661,
   671,
   934,
   938,
   948,
   954,
   958,
   966,
   972,
   976,
   982,
   986,
   993,
   997,
   1004,
   1008,
   1018,
   1022,
   1062,
   1066,
   1079,
   1090,
   1096,
   1099,
   1103,
   1107,
   1111,
   1115,
   1121,
   1124,
   1128,
   1135,
   1139,
   1145,
   1149,
   1152,
   1158,
   1165,
   1171,
   1175,
   1181,
   1187,
   1191,
   1194,
   1200,
   1207,
   1213,
   1291,
   1300,
   1347,
   1363,
   1371,
   1375,
   1381,
   1385,
   1388,
   1392,
   1403
  ]
 },
 "nbformat": 4,
 "nbformat_minor": 5
}