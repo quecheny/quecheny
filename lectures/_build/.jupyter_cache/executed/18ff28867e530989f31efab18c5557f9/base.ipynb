{
 "cells": [
  {
   "cell_type": "code",
   "execution_count": 1,
   "id": "125a1117",
   "metadata": {
    "tags": [
     "hide-output"
    ]
   },
   "outputs": [
    {
     "name": "stdout",
     "output_type": "stream",
     "text": [
      "Requirement already satisfied: quantecon in c:\\users\\chenoi\\anaconda3\\lib\\site-packages (0.7.1)\n",
      "Requirement already satisfied: scipy>=1.5.0 in c:\\users\\chenoi\\anaconda3\\lib\\site-packages (from quantecon) (1.10.0)\n",
      "Requirement already satisfied: requests in c:\\users\\chenoi\\anaconda3\\lib\\site-packages (from quantecon) (2.31.0)\n",
      "Requirement already satisfied: sympy in c:\\users\\chenoi\\anaconda3\\lib\\site-packages (from quantecon) (1.11.1)\n",
      "Requirement already satisfied: numpy>=1.17.0 in c:\\users\\chenoi\\anaconda3\\lib\\site-packages (from quantecon) (1.21.6)\n",
      "Requirement already satisfied: numba>=0.49.0 in c:\\users\\chenoi\\anaconda3\\lib\\site-packages (from quantecon) (0.55.1)\n",
      "Requirement already satisfied: setuptools in c:\\users\\chenoi\\anaconda3\\lib\\site-packages (from numba>=0.49.0->quantecon) (65.5.0)\n",
      "Requirement already satisfied: llvmlite<0.39,>=0.38.0rc1 in c:\\users\\chenoi\\anaconda3\\lib\\site-packages (from numba>=0.49.0->quantecon) (0.38.0)\n",
      "Requirement already satisfied: urllib3<3,>=1.21.1 in c:\\users\\chenoi\\anaconda3\\lib\\site-packages (from requests->quantecon) (1.26.14)\n",
      "Requirement already satisfied: charset-normalizer<4,>=2 in c:\\users\\chenoi\\anaconda3\\lib\\site-packages (from requests->quantecon) (3.0.1)\n",
      "Requirement already satisfied: idna<4,>=2.5 in c:\\users\\chenoi\\anaconda3\\lib\\site-packages (from requests->quantecon) (2.10)\n",
      "Requirement already satisfied: certifi>=2017.4.17 in c:\\users\\chenoi\\anaconda3\\lib\\site-packages (from requests->quantecon) (2022.12.7)\n",
      "Requirement already satisfied: mpmath>=0.19 in c:\\users\\chenoi\\anaconda3\\lib\\site-packages (from sympy->quantecon) (1.3.0)\n"
     ]
    }
   ],
   "source": [
    "!pip install quantecon"
   ]
  },
  {
   "cell_type": "code",
   "execution_count": 2,
   "id": "5eab4818",
   "metadata": {},
   "outputs": [],
   "source": [
    "import numpy as np\n",
    "import quantecon as qe\n",
    "import scipy.linalg as la"
   ]
  },
  {
   "cell_type": "code",
   "execution_count": 3,
   "id": "dd724255",
   "metadata": {},
   "outputs": [
    {
     "data": {
      "text/plain": [
       "array([[0.57142857, 0.42857143]])"
      ]
     },
     "execution_count": 3,
     "metadata": {},
     "output_type": "execute_result"
    }
   ],
   "source": [
    "qa = np.array([[1/2, 1/2], [2/3, 1/3]])\n",
    "qb = np.array([[2/3, 1/3], [1/4, 3/4]])\n",
    "mca = qe.MarkovChain(qa)\n",
    "mcb = qe.MarkovChain(qb)\n",
    "mca.stationary_distributions"
   ]
  },
  {
   "cell_type": "code",
   "execution_count": 4,
   "id": "e12c8d63",
   "metadata": {},
   "outputs": [
    {
     "data": {
      "text/plain": [
       "array([[0.42857143, 0.57142857]])"
      ]
     },
     "execution_count": 4,
     "metadata": {},
     "output_type": "execute_result"
    }
   ],
   "source": [
    "mcb.stationary_distributions"
   ]
  },
  {
   "cell_type": "code",
   "execution_count": 5,
   "id": "fa570732",
   "metadata": {},
   "outputs": [],
   "source": [
    "def price_single_beliefs(transition, dividend_payoff, β=.75):\n",
    "    \"\"\"\n",
    "    Function to Solve Single Beliefs\n",
    "    \"\"\"\n",
    "    # First compute inverse piece\n",
    "    imbq_inv = la.inv(np.eye(transition.shape[0]) - β * transition)\n",
    "\n",
    "    # Next compute prices\n",
    "    prices = β * imbq_inv @ transition @ dividend_payoff\n",
    "\n",
    "    return prices"
   ]
  },
  {
   "cell_type": "code",
   "execution_count": 6,
   "id": "34552f12",
   "metadata": {},
   "outputs": [],
   "source": [
    "def price_optimistic_beliefs(transitions, dividend_payoff, β=.75,\n",
    "                            max_iter=50000, tol=1e-16):\n",
    "    \"\"\"\n",
    "    Function to Solve Optimistic Beliefs\n",
    "    \"\"\"\n",
    "    # We will guess an initial price vector of [0, 0]\n",
    "    p_new = np.array([[0], [0]])\n",
    "    p_old = np.array([[10.], [10.]])\n",
    "\n",
    "    # We know this is a contraction mapping, so we can iterate to conv\n",
    "    for i in range(max_iter):\n",
    "        p_old = p_new\n",
    "        p_new = β * np.max([q @ p_old\n",
    "                            + q @ dividend_payoff for q in transitions],\n",
    "                            1)\n",
    "\n",
    "        # If we succeed in converging, break out of for loop\n",
    "        if np.max(np.sqrt((p_new - p_old)**2)) < tol:\n",
    "            break\n",
    "\n",
    "    ptwiddle = β * np.min([q @ p_old\n",
    "                          + q @ dividend_payoff for q in transitions],\n",
    "                          1)\n",
    "\n",
    "    phat_a = np.array([p_new[0], ptwiddle[1]])\n",
    "    phat_b = np.array([ptwiddle[0], p_new[1]])\n",
    "\n",
    "    return p_new, phat_a, phat_b"
   ]
  },
  {
   "cell_type": "code",
   "execution_count": 7,
   "id": "8863ddf1",
   "metadata": {},
   "outputs": [],
   "source": [
    "def price_pessimistic_beliefs(transitions, dividend_payoff, β=.75,\n",
    "                            max_iter=50000, tol=1e-16):\n",
    "    \"\"\"\n",
    "    Function to Solve Pessimistic Beliefs\n",
    "    \"\"\"\n",
    "    # We will guess an initial price vector of [0, 0]\n",
    "    p_new = np.array([[0], [0]])\n",
    "    p_old = np.array([[10.], [10.]])\n",
    "\n",
    "    # We know this is a contraction mapping, so we can iterate to conv\n",
    "    for i in range(max_iter):\n",
    "        p_old = p_new\n",
    "        p_new = β * np.min([q @ p_old\n",
    "                            + q @ dividend_payoff for q in transitions],\n",
    "                           1)\n",
    "\n",
    "        # If we succeed in converging, break out of for loop\n",
    "        if np.max(np.sqrt((p_new - p_old)**2)) < tol:\n",
    "            break\n",
    "\n",
    "    return p_new"
   ]
  },
  {
   "cell_type": "code",
   "execution_count": 8,
   "id": "21f0171e",
   "metadata": {},
   "outputs": [
    {
     "name": "stdout",
     "output_type": "stream",
     "text": [
      "p_a\n",
      "====================\n",
      "State 0: [1.33]\n",
      "State 1: [1.22]\n",
      "--------------------\n",
      "p_b\n",
      "====================\n",
      "State 0: [1.45]\n",
      "State 1: [1.91]\n",
      "--------------------\n",
      "p_optimistic\n",
      "====================\n",
      "State 0: [1.85]\n",
      "State 1: [2.08]\n",
      "--------------------\n",
      "p_pessimistic\n",
      "====================\n",
      "State 0: [1.]\n",
      "State 1: [1.]\n",
      "--------------------\n"
     ]
    }
   ],
   "source": [
    "qa = np.array([[1/2, 1/2], [2/3, 1/3]])    # Type a transition matrix\n",
    "qb = np.array([[2/3, 1/3], [1/4, 3/4]])    # Type b transition matrix\n",
    "# Optimistic investor transition matrix\n",
    "qopt = np.array([[1/2, 1/2], [1/4, 3/4]])\n",
    "# Pessimistic investor transition matrix\n",
    "qpess = np.array([[2/3, 1/3], [2/3, 1/3]])\n",
    "\n",
    "dividendreturn = np.array([[0], [1]])\n",
    "\n",
    "transitions = [qa, qb, qopt, qpess]\n",
    "labels = ['p_a', 'p_b', 'p_optimistic', 'p_pessimistic']\n",
    "\n",
    "for transition, label in zip(transitions, labels):\n",
    "    print(label)\n",
    "    print(\"=\" * 20)\n",
    "    s0, s1 = np.round(price_single_beliefs(transition, dividendreturn), 2)\n",
    "    print(f\"State 0: {s0}\")\n",
    "    print(f\"State 1: {s1}\")\n",
    "    print(\"-\" * 20)"
   ]
  },
  {
   "cell_type": "code",
   "execution_count": 9,
   "id": "df6a56d2",
   "metadata": {},
   "outputs": [
    {
     "name": "stdout",
     "output_type": "stream",
     "text": [
      "p_optimistic\n",
      "====================\n",
      "State 0: [1.85]\n",
      "State 1: [2.08]\n",
      "--------------------\n",
      "p_hat_a\n",
      "====================\n",
      "State 0: [1.85]\n",
      "State 1: [1.69]\n",
      "--------------------\n",
      "p_hat_b\n",
      "====================\n",
      "State 0: [1.69]\n",
      "State 1: [2.08]\n",
      "--------------------\n"
     ]
    }
   ],
   "source": [
    "opt_beliefs = price_optimistic_beliefs([qa, qb], dividendreturn)\n",
    "labels = ['p_optimistic', 'p_hat_a', 'p_hat_b']\n",
    "\n",
    "for p, label in zip(opt_beliefs, labels):\n",
    "    print(label)\n",
    "    print(\"=\" * 20)\n",
    "    s0, s1 = np.round(p, 2)\n",
    "    print(f\"State 0: {s0}\")\n",
    "    print(f\"State 1: {s1}\")\n",
    "    print(\"-\" * 20)"
   ]
  }
 ],
 "metadata": {
  "jupytext": {
   "text_representation": {
    "extension": ".md",
    "format_name": "myst"
   }
  },
  "kernelspec": {
   "display_name": "Python 3",
   "language": "python",
   "name": "python3"
  },
  "language_info": {
   "codemirror_mode": {
    "name": "ipython",
    "version": 3
   },
   "file_extension": ".py",
   "mimetype": "text/x-python",
   "name": "python",
   "nbconvert_exporter": "python",
   "pygments_lexer": "ipython3",
   "version": "3.9.13"
  },
  "source_map": [
   10,
   32,
   37,
   54,
   58,
   134,
   142,
   144,
   275,
   287,
   404,
   433,
   472,
   494,
   578,
   598,
   603,
   614
  ]
 },
 "nbformat": 4,
 "nbformat_minor": 5
}