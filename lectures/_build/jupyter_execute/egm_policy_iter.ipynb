{
 "cells": [
  {
   "cell_type": "markdown",
   "id": "73b9dbad",
   "metadata": {},
   "source": [
    "```{raw} html\n",
    "<div id=\"qe-notebook-header\" align=\"right\" style=\"text-align:right;\">\n",
    "        <a href=\"https://quantecon.org/\" title=\"quantecon.org\">\n",
    "                <img style=\"width:250px;display:inline;\" width=\"250px\" src=\"https://assets.quantecon.org/img/qe-menubar-logo.svg\" alt=\"QuantEcon\">\n",
    "        </a>\n",
    "</div>\n",
    "```\n",
    "\n",
    "# {index}`Optimal Growth IV: The Endogenous Grid Method <single: Optimal Growth IV: The Endogenous Grid Method>`\n",
    "\n",
    "```{contents} Contents\n",
    ":depth: 2\n",
    "```\n",
    "\n",
    "In addition to what's in Anaconda, this lecture will need the following libraries:"
   ]
  },
  {
   "cell_type": "code",
   "execution_count": 1,
   "id": "d0c93dd4",
   "metadata": {
    "tags": [
     "hide-output"
    ]
   },
   "outputs": [
    {
     "name": "stdout",
     "output_type": "stream",
     "text": [
      "Collecting interpolation\n",
      "  Using cached interpolation-2.2.4-py3-none-any.whl (69 kB)\n",
      "Requirement already satisfied: numpy<2.0.0,>=1.22.2 in c:\\users\\chenoi\\anaconda3\\lib\\site-packages (from interpolation) (1.25.2)\n",
      "Requirement already satisfied: numba>=0.47 in c:\\users\\chenoi\\anaconda3\\lib\\site-packages (from interpolation) (0.55.1)\n",
      "Requirement already satisfied: tempita<0.6.0,>=0.5.2 in c:\\users\\chenoi\\anaconda3\\lib\\site-packages (from interpolation) (0.5.2)\n",
      "Requirement already satisfied: packaging<22.0,>=21.3 in c:\\users\\chenoi\\anaconda3\\lib\\site-packages (from interpolation) (21.3)\n",
      "Requirement already satisfied: scipy<2.0.0,>=1.4.1 in c:\\users\\chenoi\\anaconda3\\lib\\site-packages (from interpolation) (1.10.0)\n",
      "Collecting numba>=0.47\n",
      "  Using cached numba-0.58.0-cp39-cp39-win_amd64.whl (2.6 MB)\n",
      "Collecting llvmlite<0.42,>=0.41.0dev0\n",
      "  Using cached llvmlite-0.41.0-cp39-cp39-win_amd64.whl (28.1 MB)\n",
      "Requirement already satisfied: pyparsing!=3.0.5,>=2.0.2 in c:\\users\\chenoi\\anaconda3\\lib\\site-packages (from packaging<22.0,>=21.3->interpolation) (3.0.9)\n",
      "Installing collected packages: llvmlite, numba, interpolation\n",
      "  Attempting uninstall: llvmlite\n",
      "    Found existing installation: llvmlite 0.38.0\n"
     ]
    },
    {
     "name": "stderr",
     "output_type": "stream",
     "text": [
      "ERROR: Cannot uninstall 'llvmlite'. It is a distutils installed project and thus we cannot accurately determine which files belong to it which would lead to only a partial uninstall.\n"
     ]
    }
   ],
   "source": [
    "!pip install interpolation"
   ]
  },
  {
   "cell_type": "markdown",
   "id": "7cea02fb",
   "metadata": {},
   "source": [
    "## Overview\n",
    "\n",
    "Previously, we solved the stochastic optimal growth model using\n",
    "\n",
    "1. {doc}`value function iteration <optgrowth_fast>`\n",
    "1. {doc}`Euler equation based time iteration <coleman_policy_iter>`\n",
    "\n",
    "We found time iteration to be significantly more accurate and efficient.\n",
    "\n",
    "In this lecture, we'll look at a clever twist on time iteration called the **endogenous grid method** (EGM).\n",
    "\n",
    "EGM is a numerical method for implementing policy iteration invented by [Chris Carroll](http://www.econ2.jhu.edu/people/ccarroll/).\n",
    "\n",
    "The original reference is {cite}`Carroll2006`.\n",
    "\n",
    "Let's start with some standard imports:"
   ]
  },
  {
   "cell_type": "code",
   "execution_count": 2,
   "id": "1ec4f952",
   "metadata": {},
   "outputs": [
    {
     "ename": "ModuleNotFoundError",
     "evalue": "No module named 'interpolation'",
     "output_type": "error",
     "traceback": [
      "\u001b[1;31m---------------------------------------------------------------------------\u001b[0m",
      "\u001b[1;31mModuleNotFoundError\u001b[0m                       Traceback (most recent call last)",
      "\u001b[1;32m~\\AppData\\Local\\Temp\\ipykernel_35888\\1771690343.py\u001b[0m in \u001b[0;36m<module>\u001b[1;34m\u001b[0m\n\u001b[0;32m      3\u001b[0m \u001b[0mplt\u001b[0m\u001b[1;33m.\u001b[0m\u001b[0mrcParams\u001b[0m\u001b[1;33m[\u001b[0m\u001b[1;34m\"figure.figsize\"\u001b[0m\u001b[1;33m]\u001b[0m \u001b[1;33m=\u001b[0m \u001b[1;33m(\u001b[0m\u001b[1;36m11\u001b[0m\u001b[1;33m,\u001b[0m \u001b[1;36m5\u001b[0m\u001b[1;33m)\u001b[0m  \u001b[1;31m#set default figure size\u001b[0m\u001b[1;33m\u001b[0m\u001b[1;33m\u001b[0m\u001b[0m\n\u001b[0;32m      4\u001b[0m \u001b[1;32mimport\u001b[0m \u001b[0mnumpy\u001b[0m \u001b[1;32mas\u001b[0m \u001b[0mnp\u001b[0m\u001b[1;33m\u001b[0m\u001b[1;33m\u001b[0m\u001b[0m\n\u001b[1;32m----> 5\u001b[1;33m \u001b[1;32mfrom\u001b[0m \u001b[0minterpolation\u001b[0m \u001b[1;32mimport\u001b[0m \u001b[0minterp\u001b[0m\u001b[1;33m\u001b[0m\u001b[1;33m\u001b[0m\u001b[0m\n\u001b[0m\u001b[0;32m      6\u001b[0m \u001b[1;32mfrom\u001b[0m \u001b[0mnumba\u001b[0m \u001b[1;32mimport\u001b[0m \u001b[0mnjit\u001b[0m\u001b[1;33m\u001b[0m\u001b[1;33m\u001b[0m\u001b[0m\n",
      "\u001b[1;31mModuleNotFoundError\u001b[0m: No module named 'interpolation'"
     ]
    }
   ],
   "source": [
    "%matplotlib inline\n",
    "import matplotlib.pyplot as plt\n",
    "plt.rcParams[\"figure.figsize\"] = (11, 5)  #set default figure size\n",
    "import numpy as np\n",
    "from interpolation import interp\n",
    "from numba import njit"
   ]
  },
  {
   "cell_type": "markdown",
   "id": "3b9fb30f",
   "metadata": {},
   "source": [
    "## Key Idea\n",
    "\n",
    "Let's start by reminding ourselves of the theory and then see how the numerics fit in.\n",
    "\n",
    "### Theory\n",
    "\n",
    "Take the model set out in {doc}`the time iteration lecture <coleman_policy_iter>`, following the same terminology and notation.\n",
    "\n",
    "The Euler equation is\n",
    "\n",
    "```{math}\n",
    ":label: egm_euler\n",
    "\n",
    "(u'\\circ \\sigma^*)(y)\n",
    "= \\beta \\int (u'\\circ \\sigma^*)(f(y - \\sigma^*(y)) z) f'(y - \\sigma^*(y)) z \\phi(dz)\n",
    "```\n",
    "\n",
    "As we saw, the Coleman-Reffett operator is a nonlinear operator $K$ engineered so that $\\sigma^*$ is a fixed point of $K$.\n",
    "\n",
    "It takes as its argument a continuous strictly increasing consumption policy $\\sigma \\in \\Sigma$.\n",
    "\n",
    "It returns a new function $K \\sigma$,  where $(K \\sigma)(y)$ is the $c \\in (0, \\infty)$ that solves\n",
    "\n",
    "```{math}\n",
    ":label: egm_coledef\n",
    "\n",
    "u'(c)\n",
    "= \\beta \\int (u' \\circ \\sigma) (f(y - c) z ) f'(y - c) z \\phi(dz)\n",
    "```\n",
    "\n",
    "### Exogenous Grid\n",
    "\n",
    "As discussed in {doc}`the lecture on time iteration <coleman_policy_iter>`, to implement the method on a computer, we need a numerical approximation.\n",
    "\n",
    "In particular, we represent a policy function by a set of values on a finite grid.\n",
    "\n",
    "The function itself is reconstructed from this representation when necessary, using interpolation or some other method.\n",
    "\n",
    "{doc}`Previously <coleman_policy_iter>`, to obtain a finite representation of an updated consumption policy, we\n",
    "\n",
    "* fixed a grid of income points $\\{y_i\\}$\n",
    "* calculated the consumption value $c_i$ corresponding to each\n",
    "  $y_i$ using {eq}`egm_coledef` and a root-finding routine\n",
    "\n",
    "Each $c_i$ is then interpreted as the value of the function $K \\sigma$ at $y_i$.\n",
    "\n",
    "Thus, with the points $\\{y_i, c_i\\}$ in hand, we can reconstruct $K \\sigma$ via approximation.\n",
    "\n",
    "Iteration then continues...\n",
    "\n",
    "### Endogenous Grid\n",
    "\n",
    "The method discussed above requires a root-finding routine to find the\n",
    "$c_i$ corresponding to a given income value $y_i$.\n",
    "\n",
    "Root-finding is costly because it typically involves a significant number of\n",
    "function evaluations.\n",
    "\n",
    "As pointed out by Carroll {cite}`Carroll2006`, we can avoid this if\n",
    "$y_i$ is chosen endogenously.\n",
    "\n",
    "The only assumption required is that $u'$ is invertible on $(0, \\infty)$.\n",
    "\n",
    "Let $(u')^{-1}$ be the inverse function of $u'$.\n",
    "\n",
    "The idea is this:\n",
    "\n",
    "* First, we fix an *exogenous* grid $\\{k_i\\}$ for capital ($k = y - c$).\n",
    "* Then we obtain  $c_i$ via\n",
    "\n",
    "```{math}\n",
    ":label: egm_getc\n",
    "\n",
    "c_i =\n",
    "(u')^{-1}\n",
    "\\left\\{\n",
    "    \\beta \\int (u' \\circ \\sigma) (f(k_i) z ) \\, f'(k_i) \\, z \\, \\phi(dz)\n",
    "\\right\\}\n",
    "```\n",
    "\n",
    "* Finally, for each $c_i$ we set $y_i = c_i + k_i$.\n",
    "\n",
    "It is clear that each $(y_i, c_i)$ pair constructed in this manner satisfies {eq}`egm_coledef`.\n",
    "\n",
    "With the points $\\{y_i, c_i\\}$ in hand, we can reconstruct $K \\sigma$ via approximation as before.\n",
    "\n",
    "The name EGM comes from the fact that the grid $\\{y_i\\}$ is  determined **endogenously**.\n",
    "\n",
    "## Implementation\n",
    "\n",
    "As {doc}`before <coleman_policy_iter>`, we will start with a simple setting\n",
    "where\n",
    "\n",
    "* $u(c) = \\ln c$,\n",
    "* production is Cobb-Douglas, and\n",
    "* the shocks are lognormal.\n",
    "\n",
    "This will allow us to make comparisons with the analytical solutions"
   ]
  },
  {
   "cell_type": "code",
   "execution_count": null,
   "id": "be4b2a09",
   "metadata": {
    "load": "_static/lecture_specific/optgrowth/cd_analytical.py"
   },
   "outputs": [],
   "source": [
    "\n",
    "def v_star(y, Î±, Î², Î¼):\n",
    "    \"\"\"\n",
    "    True value function\n",
    "    \"\"\"\n",
    "    c1 = np.log(1 - Î± * Î²) / (1 - Î²)\n",
    "    c2 = (Î¼ + Î± * np.log(Î± * Î²)) / (1 - Î±)\n",
    "    c3 = 1 / (1 - Î²)\n",
    "    c4 = 1 / (1 - Î± * Î²)\n",
    "    return c1 + c2 * (c3 - c4) + c4 * np.log(y)\n",
    "\n",
    "def Ïƒ_star(y, Î±, Î²):\n",
    "    \"\"\"\n",
    "    True optimal policy\n",
    "    \"\"\"\n",
    "    return (1 - Î± * Î²) * y\n",
    "\n"
   ]
  },
  {
   "cell_type": "markdown",
   "id": "a037a1b5",
   "metadata": {},
   "source": [
    "We reuse the `OptimalGrowthModel` class"
   ]
  },
  {
   "cell_type": "code",
   "execution_count": null,
   "id": "280ee3f5",
   "metadata": {
    "load": "_static/lecture_specific/optgrowth_fast/ogm.py"
   },
   "outputs": [],
   "source": [
    "from numba import float64\n",
    "from numba.experimental import jitclass\n",
    "\n",
    "opt_growth_data = [\n",
    "    ('Î±', float64),          # Production parameter\n",
    "    ('Î²', float64),          # Discount factor\n",
    "    ('Î¼', float64),          # Shock location parameter\n",
    "    ('s', float64),          # Shock scale parameter\n",
    "    ('grid', float64[:]),    # Grid (array)\n",
    "    ('shocks', float64[:])   # Shock draws (array)\n",
    "]\n",
    "\n",
    "@jitclass(opt_growth_data)\n",
    "class OptimalGrowthModel:\n",
    "\n",
    "    def __init__(self,\n",
    "                Î±=0.4,\n",
    "                Î²=0.96,\n",
    "                Î¼=0,\n",
    "                s=0.1,\n",
    "                grid_max=4,\n",
    "                grid_size=120,\n",
    "                shock_size=250,\n",
    "                seed=1234):\n",
    "\n",
    "        self.Î±, self.Î², self.Î¼, self.s = Î±, Î², Î¼, s\n",
    "\n",
    "        # Set up grid\n",
    "        self.grid = np.linspace(1e-5, grid_max, grid_size)\n",
    "\n",
    "        # Store shocks (with a seed, so results are reproducible)\n",
    "        np.random.seed(seed)\n",
    "        self.shocks = np.exp(Î¼ + s * np.random.randn(shock_size))\n",
    "\n",
    "\n",
    "    def f(self, k):\n",
    "        \"The production function\"\n",
    "        return k**self.Î±\n",
    "\n",
    "\n",
    "    def u(self, c):\n",
    "        \"The utility function\"\n",
    "        return np.log(c)\n",
    "\n",
    "    def f_prime(self, k):\n",
    "        \"Derivative of f\"\n",
    "        return self.Î± * (k**(self.Î± - 1))\n",
    "\n",
    "\n",
    "    def u_prime(self, c):\n",
    "        \"Derivative of u\"\n",
    "        return 1/c\n",
    "\n",
    "    def u_prime_inv(self, c):\n",
    "        \"Inverse of u'\"\n",
    "        return 1/c\n"
   ]
  },
  {
   "cell_type": "markdown",
   "id": "3738ef1c",
   "metadata": {},
   "source": [
    "### The Operator\n",
    "\n",
    "Here's an implementation of $K$ using EGM as described above."
   ]
  },
  {
   "cell_type": "code",
   "execution_count": null,
   "id": "b2fd22d9",
   "metadata": {},
   "outputs": [],
   "source": [
    "@njit\n",
    "def K(σ_array, og):\n",
    "    \"\"\"\n",
    "    The Coleman-Reffett operator using EGM\n",
    "\n",
    "    \"\"\"\n",
    "\n",
    "    # Simplify names\n",
    "    f, β = og.f, og.β\n",
    "    f_prime, u_prime = og.f_prime, og.u_prime\n",
    "    u_prime_inv = og.u_prime_inv\n",
    "    grid, shocks = og.grid, og.shocks\n",
    "\n",
    "    # Determine endogenous grid\n",
    "    y = grid + σ_array  # y_i = k_i + c_i\n",
    "\n",
    "    # Linear interpolation of policy using endogenous grid\n",
    "    σ = lambda x: interp(y, σ_array, x)\n",
    "\n",
    "    # Allocate memory for new consumption array\n",
    "    c = np.empty_like(grid)\n",
    "\n",
    "    # Solve for updated consumption value\n",
    "    for i, k in enumerate(grid):\n",
    "        vals = u_prime(σ(f(k) * shocks)) * f_prime(k) * shocks\n",
    "        c[i] = u_prime_inv(β * np.mean(vals))\n",
    "\n",
    "    return c"
   ]
  },
  {
   "cell_type": "markdown",
   "id": "d975502f",
   "metadata": {},
   "source": [
    "Note the lack of any root-finding algorithm.\n",
    "\n",
    "### Testing\n",
    "\n",
    "First we create an instance."
   ]
  },
  {
   "cell_type": "code",
   "execution_count": null,
   "id": "cee335de",
   "metadata": {},
   "outputs": [],
   "source": [
    "og = OptimalGrowthModel()\n",
    "grid = og.grid"
   ]
  },
  {
   "cell_type": "markdown",
   "id": "06c4070b",
   "metadata": {},
   "source": [
    "Here's our solver routine:"
   ]
  },
  {
   "cell_type": "code",
   "execution_count": null,
   "id": "aac6b739",
   "metadata": {
    "load": "_static/lecture_specific/coleman_policy_iter/solve_time_iter.py"
   },
   "outputs": [],
   "source": [
    "def solve_model_time_iter(model,    # Class with model information\n",
    "                          Ïƒ,        # Initial condition\n",
    "                          tol=1e-4,\n",
    "                          max_iter=1000,\n",
    "                          verbose=True,\n",
    "                          print_skip=25):\n",
    "\n",
    "    # Set up loop\n",
    "    i = 0\n",
    "    error = tol + 1\n",
    "\n",
    "    while i < max_iter and error > tol:\n",
    "        Ïƒ_new = K(Ïƒ, model)\n",
    "        error = np.max(np.abs(Ïƒ - Ïƒ_new))\n",
    "        i += 1\n",
    "        if verbose and i % print_skip == 0:\n",
    "            print(f\"Error at iteration {i} is {error}.\")\n",
    "        Ïƒ = Ïƒ_new\n",
    "\n",
    "    if error > tol:\n",
    "        print(\"Failed to converge!\")\n",
    "    elif verbose:\n",
    "        print(f\"\\nConverged in {i} iterations.\")\n",
    "\n",
    "    return Ïƒ_new\n"
   ]
  },
  {
   "cell_type": "markdown",
   "id": "d3bfbde9",
   "metadata": {},
   "source": [
    "Let's call it:"
   ]
  },
  {
   "cell_type": "code",
   "execution_count": null,
   "id": "d700d88c",
   "metadata": {},
   "outputs": [],
   "source": [
    "σ_init = np.copy(grid)\n",
    "σ = solve_model_time_iter(og, σ_init)"
   ]
  },
  {
   "cell_type": "markdown",
   "id": "9f08eab4",
   "metadata": {},
   "source": [
    "Here is a plot of the resulting policy, compared with the true policy:"
   ]
  },
  {
   "cell_type": "code",
   "execution_count": null,
   "id": "7478c126",
   "metadata": {},
   "outputs": [],
   "source": [
    "y = grid + σ  # y_i = k_i + c_i\n",
    "\n",
    "fig, ax = plt.subplots()\n",
    "\n",
    "ax.plot(y, σ, lw=2,\n",
    "        alpha=0.8, label='approximate policy function')\n",
    "\n",
    "ax.plot(y, σ_star(y, og.α, og.β), 'k--',\n",
    "        lw=2, alpha=0.8, label='true policy function')\n",
    "\n",
    "ax.legend()\n",
    "plt.show()"
   ]
  },
  {
   "cell_type": "markdown",
   "id": "7b0582ae",
   "metadata": {},
   "source": [
    "The maximal absolute deviation between the two policies is"
   ]
  },
  {
   "cell_type": "code",
   "execution_count": null,
   "id": "1019621d",
   "metadata": {},
   "outputs": [],
   "source": [
    "np.max(np.abs(σ - σ_star(y, og.α, og.β)))"
   ]
  },
  {
   "cell_type": "markdown",
   "id": "3dd29f95",
   "metadata": {},
   "source": [
    "How long does it take to converge?"
   ]
  },
  {
   "cell_type": "code",
   "execution_count": null,
   "id": "e9df5469",
   "metadata": {},
   "outputs": [],
   "source": [
    "%%timeit -n 3 -r 1\n",
    "σ = solve_model_time_iter(og, σ_init, verbose=False)"
   ]
  },
  {
   "cell_type": "markdown",
   "id": "b3103cc2",
   "metadata": {},
   "source": [
    "Relative to time iteration, which as already found to be highly efficient, EGM\n",
    "has managed to shave off still more run time without compromising accuracy.\n",
    "\n",
    "This is due to the lack of a numerical root-finding step.\n",
    "\n",
    "We can now solve the optimal growth model at given parameters extremely fast."
   ]
  }
 ],
 "metadata": {
  "jupytext": {
   "text_representation": {
    "extension": ".md",
    "format_name": "myst"
   }
  },
  "kernelspec": {
   "display_name": "Python 3",
   "language": "python",
   "name": "python3"
  },
  "language_info": {
   "codemirror_mode": {
    "name": "ipython",
    "version": 3
   },
   "file_extension": ".py",
   "mimetype": "text/x-python",
   "name": "python",
   "nbconvert_exporter": "python",
   "pygments_lexer": "ipython3",
   "version": "3.9.13"
  },
  "source_map": [
   10,
   28,
   33,
   52,
   59,
   160,
   162,
   166,
   168,
   174,
   203,
   211,
   214,
   218,
   220,
   224,
   227,
   231,
   244,
   248,
   250,
   254,
   257
  ]
 },
 "nbformat": 4,
 "nbformat_minor": 5
}