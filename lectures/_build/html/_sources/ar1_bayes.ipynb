{
 "cells": [
  {
   "cell_type": "markdown",
   "id": "74ad771f",
   "metadata": {},
   "source": [
    "# Posterior Distributions for  AR(1) Parameters\n",
    "\n",
    "We'll begin with some Python imports."
   ]
  },
  {
   "cell_type": "code",
   "execution_count": 1,
   "id": "d417f4b7",
   "metadata": {
    "tags": [
     "hide-output"
    ]
   },
   "outputs": [
    {
     "name": "stdout",
     "output_type": "stream",
     "text": [
      "Requirement already satisfied: arviz in c:\\users\\chenoi\\anaconda3\\lib\\site-packages (0.13.0)\n",
      "Collecting pymc\n",
      "  Downloading pymc-5.9.0-py3-none-any.whl (469 kB)\n",
      "     -------------------------------------- 469.1/469.1 kB 5.9 MB/s eta 0:00:00\n",
      "Collecting numpyro\n",
      "  Downloading numpyro-0.13.2-py3-none-any.whl (312 kB)\n",
      "     ------------------------------------- 312.7/312.7 kB 20.2 MB/s eta 0:00:00\n",
      "Collecting jax\n",
      "  Downloading jax-0.4.18-py3-none-any.whl (1.7 MB)\n",
      "     ---------------------------------------- 1.7/1.7 MB 11.8 MB/s eta 0:00:00\n",
      "Requirement already satisfied: scipy>=1.8.0 in c:\\users\\chenoi\\anaconda3\\lib\\site-packages (from arviz) (1.10.0)\n",
      "Requirement already satisfied: pandas>=1.4.0 in c:\\users\\chenoi\\anaconda3\\lib\\site-packages (from arviz) (1.4.1)\n",
      "Requirement already satisfied: packaging in c:\\users\\chenoi\\anaconda3\\lib\\site-packages (from arviz) (22.0)\n",
      "Requirement already satisfied: typing-extensions>=4.1.0 in c:\\users\\chenoi\\anaconda3\\lib\\site-packages (from arviz) (4.4.0)\n",
      "Requirement already satisfied: matplotlib>=3.5 in c:\\users\\chenoi\\anaconda3\\lib\\site-packages (from arviz) (3.5.2)\n",
      "Requirement already satisfied: numpy>=1.20.0 in c:\\users\\chenoi\\anaconda3\\lib\\site-packages (from arviz) (1.21.6)\n",
      "Requirement already satisfied: xarray-einstats>=0.3 in c:\\users\\chenoi\\anaconda3\\lib\\site-packages (from arviz) (0.6.0)\n",
      "Requirement already satisfied: netcdf4 in c:\\users\\chenoi\\anaconda3\\lib\\site-packages (from arviz) (1.6.4)\n",
      "Requirement already satisfied: setuptools>=60.0.0 in c:\\users\\chenoi\\anaconda3\\lib\\site-packages (from arviz) (65.5.0)\n",
      "Requirement already satisfied: xarray>=0.21.0 in c:\\users\\chenoi\\anaconda3\\lib\\site-packages (from arviz) (2023.9.0)\n",
      "Collecting fastprogress>=0.2.0\n",
      "  Downloading fastprogress-1.0.3-py3-none-any.whl (12 kB)\n",
      "Requirement already satisfied: cloudpickle in c:\\users\\chenoi\\anaconda3\\lib\\site-packages (from pymc) (2.0.0)\n",
      "Requirement already satisfied: cachetools>=4.2.1 in c:\\users\\chenoi\\anaconda3\\lib\\site-packages (from pymc) (5.3.0)\n",
      "Collecting pytensor<2.18,>=2.17.0\n",
      "  Downloading pytensor-2.17.1-cp39-cp39-win_amd64.whl (1.3 MB)\n",
      "     ---------------------------------------- 1.3/1.3 MB 13.4 MB/s eta 0:00:00\n",
      "Requirement already satisfied: multipledispatch in c:\\users\\chenoi\\anaconda3\\lib\\site-packages (from numpyro) (0.6.0)\n",
      "Requirement already satisfied: tqdm in c:\\users\\chenoi\\anaconda3\\lib\\site-packages (from numpyro) (4.64.0)\n",
      "Collecting jaxlib>=0.4.14\n",
      "  Downloading jaxlib-0.4.18-cp39-cp39-win_amd64.whl (46.6 MB)\n",
      "     ---------------------------------------- 46.6/46.6 MB 3.9 MB/s eta 0:00:00\n",
      "Requirement already satisfied: importlib-metadata>=4.6 in c:\\users\\chenoi\\anaconda3\\lib\\site-packages (from jax) (4.13.0)\n",
      "Requirement already satisfied: opt-einsum in c:\\users\\chenoi\\anaconda3\\lib\\site-packages (from jax) (3.3.0)\n",
      "Collecting ml-dtypes>=0.2.0\n",
      "  Downloading ml_dtypes-0.3.1-cp39-cp39-win_amd64.whl (126 kB)\n",
      "     -------------------------------------- 126.7/126.7 kB 7.3 MB/s eta 0:00:00\n",
      "Collecting numpy>=1.20.0\n",
      "  Downloading numpy-1.26.0-cp39-cp39-win_amd64.whl (15.8 MB)\n",
      "     ---------------------------------------- 15.8/15.8 MB 6.2 MB/s eta 0:00:00\n",
      "Requirement already satisfied: zipp>=0.5 in c:\\users\\chenoi\\anaconda3\\lib\\site-packages (from importlib-metadata>=4.6->jax) (3.12.0)\n",
      "Requirement already satisfied: fonttools>=4.22.0 in c:\\users\\chenoi\\anaconda3\\lib\\site-packages (from matplotlib>=3.5->arviz) (4.25.0)\n",
      "Requirement already satisfied: kiwisolver>=1.0.1 in c:\\users\\chenoi\\anaconda3\\lib\\site-packages (from matplotlib>=3.5->arviz) (1.4.2)\n",
      "Requirement already satisfied: pyparsing>=2.2.1 in c:\\users\\chenoi\\anaconda3\\lib\\site-packages (from matplotlib>=3.5->arviz) (3.0.9)\n",
      "Requirement already satisfied: cycler>=0.10 in c:\\users\\chenoi\\anaconda3\\lib\\site-packages (from matplotlib>=3.5->arviz) (0.11.0)\n",
      "Requirement already satisfied: python-dateutil>=2.7 in c:\\users\\chenoi\\anaconda3\\lib\\site-packages (from matplotlib>=3.5->arviz) (2.8.2)\n",
      "Requirement already satisfied: pillow>=6.2.0 in c:\\users\\chenoi\\anaconda3\\lib\\site-packages (from matplotlib>=3.5->arviz) (9.4.0)\n",
      "Requirement already satisfied: pytz>=2020.1 in c:\\users\\chenoi\\anaconda3\\lib\\site-packages (from pandas>=1.4.0->arviz) (2022.7.1)\n",
      "Collecting logical-unification\n",
      "  Downloading logical-unification-0.4.6.tar.gz (31 kB)\n",
      "  Preparing metadata (setup.py): started\n",
      "  Preparing metadata (setup.py): finished with status 'done'\n",
      "Requirement already satisfied: filelock in c:\\users\\chenoi\\anaconda3\\lib\\site-packages (from pytensor<2.18,>=2.17.0->pymc) (3.9.0)\n",
      "Collecting miniKanren\n",
      "  Downloading miniKanren-1.0.3.tar.gz (41 kB)\n",
      "     ---------------------------------------- 41.3/41.3 kB 1.9 MB/s eta 0:00:00\n",
      "  Preparing metadata (setup.py): started\n",
      "  Preparing metadata (setup.py): finished with status 'done'\n",
      "Collecting etuples\n",
      "  Downloading etuples-0.3.9.tar.gz (30 kB)\n",
      "  Preparing metadata (setup.py): started\n",
      "  Preparing metadata (setup.py): finished with status 'done'\n",
      "Collecting numpy>=1.20.0\n",
      "  Downloading numpy-1.25.2-cp39-cp39-win_amd64.whl (15.6 MB)\n",
      "     ---------------------------------------- 15.6/15.6 MB 6.0 MB/s eta 0:00:00\n",
      "Collecting cons\n",
      "  Downloading cons-0.4.6.tar.gz (26 kB)\n",
      "  Preparing metadata (setup.py): started\n",
      "  Preparing metadata (setup.py): finished with status 'done'\n",
      "Requirement already satisfied: six in c:\\users\\chenoi\\anaconda3\\lib\\site-packages (from multipledispatch->numpyro) (1.16.0)\n",
      "Requirement already satisfied: certifi in c:\\users\\chenoi\\anaconda3\\lib\\site-packages (from netcdf4->arviz) (2022.12.7)\n",
      "Requirement already satisfied: cftime in c:\\users\\chenoi\\anaconda3\\lib\\site-packages (from netcdf4->arviz) (1.6.2)\n",
      "Requirement already satisfied: colorama in c:\\users\\chenoi\\anaconda3\\lib\\site-packages (from tqdm->numpyro) (0.4.5)\n",
      "Requirement already satisfied: toolz in c:\\users\\chenoi\\anaconda3\\lib\\site-packages (from logical-unification->pytensor<2.18,>=2.17.0->pymc) (0.11.2)\n",
      "Building wheels for collected packages: cons, logical-unification, etuples, miniKanren\n",
      "  Building wheel for cons (setup.py): started\n",
      "  Building wheel for cons (setup.py): finished with status 'done'\n",
      "  Created wheel for cons: filename=cons-0.4.6-py3-none-any.whl size=9114 sha256=d7be91d1d25a33b1c34312b47ab35f88adf507a38222da79302ffb36582e83ae\n",
      "  Stored in directory: c:\\users\\chenoi\\appdata\\local\\pip\\cache\\wheels\\56\\8e\\eb\\130d313bbaf36c97915634104d81fb7119332331ce32dca02e\n",
      "  Building wheel for logical-unification (setup.py): started\n",
      "  Building wheel for logical-unification (setup.py): finished with status 'done'\n",
      "  Created wheel for logical-unification: filename=logical_unification-0.4.6-py3-none-any.whl size=13921 sha256=f72ffa548fe185dd79dc401dfd20a4275f0c83f05eccb1f89ba0d2003aad5e66\n",
      "  Stored in directory: c:\\users\\chenoi\\appdata\\local\\pip\\cache\\wheels\\c0\\b5\\eb\\4af72f29fe7c242c96064dcc7f0c0925e879f02ef0a2858627\n",
      "  Building wheel for etuples (setup.py): started\n",
      "  Building wheel for etuples (setup.py): finished with status 'done'\n",
      "  Created wheel for etuples: filename=etuples-0.3.9-py3-none-any.whl size=12631 sha256=40fe5b2a191623cca6c92732b29231ff27bf83efd2ee1b5da7432542544e184e\n",
      "  Stored in directory: c:\\users\\chenoi\\appdata\\local\\pip\\cache\\wheels\\39\\61\\89\\eea4bbeb6d803a2a803e1ca4eac3c05ef89157c72a72dfe1e2\n",
      "  Building wheel for miniKanren (setup.py): started\n",
      "  Building wheel for miniKanren (setup.py): finished with status 'done'\n",
      "  Created wheel for miniKanren: filename=miniKanren-1.0.3-py3-none-any.whl size=23919 sha256=d99a0c5915691bd3f45e87d96dfb521c9c5bc718beb03f8963b219aaf0f2b696\n",
      "  Stored in directory: c:\\users\\chenoi\\appdata\\local\\pip\\cache\\wheels\\d3\\a4\\be\\da3156a6e79d4ce54e83d66e27510361fce41bec9bd174b288\n",
      "Successfully built cons logical-unification etuples miniKanren\n",
      "Installing collected packages: numpy, fastprogress, ml-dtypes, logical-unification, jaxlib, jax, cons, numpyro, etuples, miniKanren, pytensor, pymc\n",
      "  Attempting uninstall: numpy\n",
      "    Found existing installation: numpy 1.21.6\n",
      "    Uninstalling numpy-1.21.6:\n",
      "      Successfully uninstalled numpy-1.21.6\n"
     ]
    },
    {
     "name": "stderr",
     "output_type": "stream",
     "text": [
      "ERROR: Could not install packages due to an OSError: [WinError 5] Access is denied: 'C:\\\\Users\\\\chenoi\\\\anaconda3\\\\Lib\\\\site-packages\\\\~.mpy\\\\.libs\\\\libopenblas.XWYDX2IKJW2NMTWSFYNGFUWKQU3LYTCZ.gfortran-win_amd64.dll'\n",
      "Consider using the `--user` option or check the permissions.\n",
      "\n"
     ]
    }
   ],
   "source": [
    "!pip install arviz pymc numpyro jax"
   ]
  },
  {
   "cell_type": "code",
   "execution_count": 2,
   "id": "9fb1c629",
   "metadata": {},
   "outputs": [
    {
     "ename": "SystemError",
     "evalue": "initialization of _internal failed without raising an exception",
     "output_type": "error",
     "traceback": [
      "\u001b[1;31m---------------------------------------------------------------------------\u001b[0m",
      "\u001b[1;31mSystemError\u001b[0m                               Traceback (most recent call last)",
      "\u001b[1;32m~\\AppData\\Local\\Temp\\ipykernel_31596\\127933534.py\u001b[0m in \u001b[0;36m<module>\u001b[1;34m\u001b[0m\n\u001b[1;32m----> 1\u001b[1;33m \u001b[1;32mimport\u001b[0m \u001b[0marviz\u001b[0m \u001b[1;32mas\u001b[0m \u001b[0maz\u001b[0m\u001b[1;33m\u001b[0m\u001b[1;33m\u001b[0m\u001b[0m\n\u001b[0m\u001b[0;32m      2\u001b[0m \u001b[1;32mimport\u001b[0m \u001b[0mpymc\u001b[0m \u001b[1;32mas\u001b[0m \u001b[0mpmc\u001b[0m\u001b[1;33m\u001b[0m\u001b[1;33m\u001b[0m\u001b[0m\n\u001b[0;32m      3\u001b[0m \u001b[1;32mimport\u001b[0m \u001b[0mnumpyro\u001b[0m\u001b[1;33m\u001b[0m\u001b[1;33m\u001b[0m\u001b[0m\n\u001b[0;32m      4\u001b[0m \u001b[1;32mfrom\u001b[0m \u001b[0mnumpyro\u001b[0m \u001b[1;32mimport\u001b[0m \u001b[0mdistributions\u001b[0m \u001b[1;32mas\u001b[0m \u001b[0mdist\u001b[0m\u001b[1;33m\u001b[0m\u001b[1;33m\u001b[0m\u001b[0m\n\u001b[0;32m      5\u001b[0m \u001b[1;33m\u001b[0m\u001b[0m\n",
      "\u001b[1;32m~\\anaconda3\\lib\\site-packages\\arviz\\__init__.py\u001b[0m in \u001b[0;36m<module>\u001b[1;34m\u001b[0m\n\u001b[0;32m     32\u001b[0m \u001b[1;33m\u001b[0m\u001b[0m\n\u001b[0;32m     33\u001b[0m \u001b[1;32mfrom\u001b[0m \u001b[1;33m.\u001b[0m\u001b[0mdata\u001b[0m \u001b[1;32mimport\u001b[0m \u001b[1;33m*\u001b[0m\u001b[1;33m\u001b[0m\u001b[1;33m\u001b[0m\u001b[0m\n\u001b[1;32m---> 34\u001b[1;33m \u001b[1;32mfrom\u001b[0m \u001b[1;33m.\u001b[0m\u001b[0mplots\u001b[0m \u001b[1;32mimport\u001b[0m \u001b[1;33m*\u001b[0m\u001b[1;33m\u001b[0m\u001b[1;33m\u001b[0m\u001b[0m\n\u001b[0m\u001b[0;32m     35\u001b[0m \u001b[1;32mfrom\u001b[0m \u001b[1;33m.\u001b[0m\u001b[0mplots\u001b[0m\u001b[1;33m.\u001b[0m\u001b[0mbackends\u001b[0m \u001b[1;32mimport\u001b[0m \u001b[1;33m*\u001b[0m\u001b[1;33m\u001b[0m\u001b[1;33m\u001b[0m\u001b[0m\n\u001b[0;32m     36\u001b[0m \u001b[1;32mfrom\u001b[0m \u001b[1;33m.\u001b[0m\u001b[0mstats\u001b[0m \u001b[1;32mimport\u001b[0m \u001b[1;33m*\u001b[0m\u001b[1;33m\u001b[0m\u001b[1;33m\u001b[0m\u001b[0m\n",
      "\u001b[1;32m~\\anaconda3\\lib\\site-packages\\arviz\\plots\\__init__.py\u001b[0m in \u001b[0;36m<module>\u001b[1;34m\u001b[0m\n\u001b[0;32m      1\u001b[0m \u001b[1;34m\"\"\"Plotting functions.\"\"\"\u001b[0m\u001b[1;33m\u001b[0m\u001b[1;33m\u001b[0m\u001b[0m\n\u001b[1;32m----> 2\u001b[1;33m \u001b[1;32mfrom\u001b[0m \u001b[1;33m.\u001b[0m\u001b[0mautocorrplot\u001b[0m \u001b[1;32mimport\u001b[0m \u001b[0mplot_autocorr\u001b[0m\u001b[1;33m\u001b[0m\u001b[1;33m\u001b[0m\u001b[0m\n\u001b[0m\u001b[0;32m      3\u001b[0m \u001b[1;32mfrom\u001b[0m \u001b[1;33m.\u001b[0m\u001b[0mbpvplot\u001b[0m \u001b[1;32mimport\u001b[0m \u001b[0mplot_bpv\u001b[0m\u001b[1;33m\u001b[0m\u001b[1;33m\u001b[0m\u001b[0m\n\u001b[0;32m      4\u001b[0m \u001b[1;32mfrom\u001b[0m \u001b[1;33m.\u001b[0m\u001b[0mcompareplot\u001b[0m \u001b[1;32mimport\u001b[0m \u001b[0mplot_compare\u001b[0m\u001b[1;33m\u001b[0m\u001b[1;33m\u001b[0m\u001b[0m\n\u001b[0;32m      5\u001b[0m \u001b[1;32mfrom\u001b[0m \u001b[1;33m.\u001b[0m\u001b[0mdensityplot\u001b[0m \u001b[1;32mimport\u001b[0m \u001b[0mplot_density\u001b[0m\u001b[1;33m\u001b[0m\u001b[1;33m\u001b[0m\u001b[0m\n",
      "\u001b[1;32m~\\anaconda3\\lib\\site-packages\\arviz\\plots\\autocorrplot.py\u001b[0m in \u001b[0;36m<module>\u001b[1;34m\u001b[0m\n\u001b[0;32m      5\u001b[0m \u001b[1;32mfrom\u001b[0m \u001b[1;33m.\u001b[0m\u001b[1;33m.\u001b[0m\u001b[0mrcparams\u001b[0m \u001b[1;32mimport\u001b[0m \u001b[0mrcParams\u001b[0m\u001b[1;33m\u001b[0m\u001b[1;33m\u001b[0m\u001b[0m\n\u001b[0;32m      6\u001b[0m \u001b[1;32mfrom\u001b[0m \u001b[1;33m.\u001b[0m\u001b[1;33m.\u001b[0m\u001b[0mutils\u001b[0m \u001b[1;32mimport\u001b[0m \u001b[0m_var_names\u001b[0m\u001b[1;33m\u001b[0m\u001b[1;33m\u001b[0m\u001b[0m\n\u001b[1;32m----> 7\u001b[1;33m \u001b[1;32mfrom\u001b[0m \u001b[1;33m.\u001b[0m\u001b[0mplot_utils\u001b[0m \u001b[1;32mimport\u001b[0m \u001b[0mdefault_grid\u001b[0m\u001b[1;33m,\u001b[0m \u001b[0mfilter_plotters_list\u001b[0m\u001b[1;33m,\u001b[0m \u001b[0mget_plotting_function\u001b[0m\u001b[1;33m\u001b[0m\u001b[1;33m\u001b[0m\u001b[0m\n\u001b[0m\u001b[0;32m      8\u001b[0m \u001b[1;33m\u001b[0m\u001b[0m\n\u001b[0;32m      9\u001b[0m \u001b[1;33m\u001b[0m\u001b[0m\n",
      "\u001b[1;32m~\\anaconda3\\lib\\site-packages\\arviz\\plots\\plot_utils.py\u001b[0m in \u001b[0;36m<module>\u001b[1;34m\u001b[0m\n\u001b[0;32m     13\u001b[0m \u001b[1;33m\u001b[0m\u001b[0m\n\u001b[0;32m     14\u001b[0m \u001b[1;32mfrom\u001b[0m \u001b[1;33m.\u001b[0m\u001b[1;33m.\u001b[0m\u001b[0mrcparams\u001b[0m \u001b[1;32mimport\u001b[0m \u001b[0mrcParams\u001b[0m\u001b[1;33m\u001b[0m\u001b[1;33m\u001b[0m\u001b[0m\n\u001b[1;32m---> 15\u001b[1;33m \u001b[1;32mfrom\u001b[0m \u001b[1;33m.\u001b[0m\u001b[1;33m.\u001b[0m\u001b[0mstats\u001b[0m\u001b[1;33m.\u001b[0m\u001b[0mdensity_utils\u001b[0m \u001b[1;32mimport\u001b[0m \u001b[0mkde\u001b[0m\u001b[1;33m\u001b[0m\u001b[1;33m\u001b[0m\u001b[0m\n\u001b[0m\u001b[0;32m     16\u001b[0m \u001b[1;32mfrom\u001b[0m \u001b[1;33m.\u001b[0m\u001b[1;33m.\u001b[0m\u001b[0mstats\u001b[0m \u001b[1;32mimport\u001b[0m \u001b[0mhdi\u001b[0m\u001b[1;33m\u001b[0m\u001b[1;33m\u001b[0m\u001b[0m\n\u001b[0;32m     17\u001b[0m \u001b[1;33m\u001b[0m\u001b[0m\n",
      "\u001b[1;32m~\\anaconda3\\lib\\site-packages\\arviz\\stats\\__init__.py\u001b[0m in \u001b[0;36m<module>\u001b[1;34m\u001b[0m\n\u001b[0;32m      2\u001b[0m \u001b[1;34m\"\"\"Statistical tests and diagnostics for ArviZ.\"\"\"\u001b[0m\u001b[1;33m\u001b[0m\u001b[1;33m\u001b[0m\u001b[0m\n\u001b[0;32m      3\u001b[0m \u001b[1;32mfrom\u001b[0m \u001b[1;33m.\u001b[0m\u001b[0mdensity_utils\u001b[0m \u001b[1;32mimport\u001b[0m \u001b[1;33m*\u001b[0m\u001b[1;33m\u001b[0m\u001b[1;33m\u001b[0m\u001b[0m\n\u001b[1;32m----> 4\u001b[1;33m \u001b[1;32mfrom\u001b[0m \u001b[1;33m.\u001b[0m\u001b[0mdiagnostics\u001b[0m \u001b[1;32mimport\u001b[0m \u001b[1;33m*\u001b[0m\u001b[1;33m\u001b[0m\u001b[1;33m\u001b[0m\u001b[0m\n\u001b[0m\u001b[0;32m      5\u001b[0m \u001b[1;32mfrom\u001b[0m \u001b[1;33m.\u001b[0m\u001b[0mstats\u001b[0m \u001b[1;32mimport\u001b[0m \u001b[1;33m*\u001b[0m\u001b[1;33m\u001b[0m\u001b[1;33m\u001b[0m\u001b[0m\n\u001b[0;32m      6\u001b[0m \u001b[1;32mfrom\u001b[0m \u001b[1;33m.\u001b[0m\u001b[0mstats\u001b[0m \u001b[1;32mimport\u001b[0m \u001b[0m_calculate_ics\u001b[0m\u001b[1;33m\u001b[0m\u001b[1;33m\u001b[0m\u001b[0m\n",
      "\u001b[1;32m~\\anaconda3\\lib\\site-packages\\arviz\\stats\\diagnostics.py\u001b[0m in \u001b[0;36m<module>\u001b[1;34m\u001b[0m\n\u001b[0;32m     11\u001b[0m \u001b[1;32mfrom\u001b[0m \u001b[1;33m.\u001b[0m\u001b[1;33m.\u001b[0m\u001b[0mutils\u001b[0m \u001b[1;32mimport\u001b[0m \u001b[0mNumba\u001b[0m\u001b[1;33m,\u001b[0m \u001b[0m_numba_var\u001b[0m\u001b[1;33m,\u001b[0m \u001b[0m_stack\u001b[0m\u001b[1;33m,\u001b[0m \u001b[0m_var_names\u001b[0m\u001b[1;33m\u001b[0m\u001b[1;33m\u001b[0m\u001b[0m\n\u001b[0;32m     12\u001b[0m \u001b[1;32mfrom\u001b[0m \u001b[1;33m.\u001b[0m\u001b[0mdensity_utils\u001b[0m \u001b[1;32mimport\u001b[0m \u001b[0mhistogram\u001b[0m \u001b[1;32mas\u001b[0m \u001b[0m_histogram\u001b[0m\u001b[1;33m\u001b[0m\u001b[1;33m\u001b[0m\u001b[0m\n\u001b[1;32m---> 13\u001b[1;33m \u001b[1;32mfrom\u001b[0m \u001b[1;33m.\u001b[0m\u001b[0mstats_utils\u001b[0m \u001b[1;32mimport\u001b[0m \u001b[0m_circular_standard_deviation\u001b[0m\u001b[1;33m,\u001b[0m \u001b[0m_sqrt\u001b[0m\u001b[1;33m\u001b[0m\u001b[1;33m\u001b[0m\u001b[0m\n\u001b[0m\u001b[0;32m     14\u001b[0m \u001b[1;32mfrom\u001b[0m \u001b[1;33m.\u001b[0m\u001b[0mstats_utils\u001b[0m \u001b[1;32mimport\u001b[0m \u001b[0mautocov\u001b[0m \u001b[1;32mas\u001b[0m \u001b[0m_autocov\u001b[0m\u001b[1;33m\u001b[0m\u001b[1;33m\u001b[0m\u001b[0m\n\u001b[0;32m     15\u001b[0m \u001b[1;32mfrom\u001b[0m \u001b[1;33m.\u001b[0m\u001b[0mstats_utils\u001b[0m \u001b[1;32mimport\u001b[0m \u001b[0mnot_valid\u001b[0m \u001b[1;32mas\u001b[0m \u001b[0m_not_valid\u001b[0m\u001b[1;33m\u001b[0m\u001b[1;33m\u001b[0m\u001b[0m\n",
      "\u001b[1;32m~\\anaconda3\\lib\\site-packages\\arviz\\stats\\stats_utils.py\u001b[0m in \u001b[0;36m<module>\u001b[1;34m\u001b[0m\n\u001b[0;32m    535\u001b[0m \u001b[1;33m\u001b[0m\u001b[0m\n\u001b[0;32m    536\u001b[0m \u001b[1;33m@\u001b[0m\u001b[0mconditional_vect\u001b[0m\u001b[1;33m\u001b[0m\u001b[1;33m\u001b[0m\u001b[0m\n\u001b[1;32m--> 537\u001b[1;33m \u001b[1;32mdef\u001b[0m \u001b[0m_sqrt\u001b[0m\u001b[1;33m(\u001b[0m\u001b[0ma_a\u001b[0m\u001b[1;33m,\u001b[0m \u001b[0mb_b\u001b[0m\u001b[1;33m)\u001b[0m\u001b[1;33m:\u001b[0m\u001b[1;33m\u001b[0m\u001b[1;33m\u001b[0m\u001b[0m\n\u001b[0m\u001b[0;32m    538\u001b[0m     \u001b[1;32mreturn\u001b[0m \u001b[1;33m(\u001b[0m\u001b[0ma_a\u001b[0m \u001b[1;33m+\u001b[0m \u001b[0mb_b\u001b[0m\u001b[1;33m)\u001b[0m \u001b[1;33m**\u001b[0m \u001b[1;36m0.5\u001b[0m\u001b[1;33m\u001b[0m\u001b[1;33m\u001b[0m\u001b[0m\n\u001b[0;32m    539\u001b[0m \u001b[1;33m\u001b[0m\u001b[0m\n",
      "\u001b[1;32m~\\anaconda3\\lib\\site-packages\\arviz\\utils.py\u001b[0m in \u001b[0;36mconditional_vect\u001b[1;34m(function, **kwargs)\u001b[0m\n\u001b[0;32m    303\u001b[0m \u001b[1;33m\u001b[0m\u001b[0m\n\u001b[0;32m    304\u001b[0m     \u001b[1;32mif\u001b[0m \u001b[0mfunction\u001b[0m\u001b[1;33m:\u001b[0m\u001b[1;33m\u001b[0m\u001b[1;33m\u001b[0m\u001b[0m\n\u001b[1;32m--> 305\u001b[1;33m         \u001b[1;32mreturn\u001b[0m \u001b[0mwrapper\u001b[0m\u001b[1;33m(\u001b[0m\u001b[0mfunction\u001b[0m\u001b[1;33m)\u001b[0m\u001b[1;33m\u001b[0m\u001b[1;33m\u001b[0m\u001b[0m\n\u001b[0m\u001b[0;32m    306\u001b[0m     \u001b[1;32melse\u001b[0m\u001b[1;33m:\u001b[0m\u001b[1;33m\u001b[0m\u001b[1;33m\u001b[0m\u001b[0m\n\u001b[0;32m    307\u001b[0m         \u001b[1;32mreturn\u001b[0m \u001b[0mwrapper\u001b[0m\u001b[1;33m\u001b[0m\u001b[1;33m\u001b[0m\u001b[0m\n",
      "\u001b[1;32m~\\anaconda3\\lib\\site-packages\\arviz\\utils.py\u001b[0m in \u001b[0;36mwrapper\u001b[1;34m(function)\u001b[0m\n\u001b[0;32m    296\u001b[0m     \u001b[1;32mdef\u001b[0m \u001b[0mwrapper\u001b[0m\u001b[1;33m(\u001b[0m\u001b[0mfunction\u001b[0m\u001b[1;33m)\u001b[0m\u001b[1;33m:\u001b[0m\u001b[1;33m\u001b[0m\u001b[1;33m\u001b[0m\u001b[0m\n\u001b[0;32m    297\u001b[0m         \u001b[1;32mtry\u001b[0m\u001b[1;33m:\u001b[0m\u001b[1;33m\u001b[0m\u001b[1;33m\u001b[0m\u001b[0m\n\u001b[1;32m--> 298\u001b[1;33m             \u001b[0mnumba\u001b[0m \u001b[1;33m=\u001b[0m \u001b[0mimportlib\u001b[0m\u001b[1;33m.\u001b[0m\u001b[0mimport_module\u001b[0m\u001b[1;33m(\u001b[0m\u001b[1;34m\"numba\"\u001b[0m\u001b[1;33m)\u001b[0m\u001b[1;33m\u001b[0m\u001b[1;33m\u001b[0m\u001b[0m\n\u001b[0m\u001b[0;32m    299\u001b[0m             \u001b[1;32mreturn\u001b[0m \u001b[0mnumba\u001b[0m\u001b[1;33m.\u001b[0m\u001b[0mvectorize\u001b[0m\u001b[1;33m(\u001b[0m\u001b[1;33m**\u001b[0m\u001b[0mkwargs\u001b[0m\u001b[1;33m)\u001b[0m\u001b[1;33m(\u001b[0m\u001b[0mfunction\u001b[0m\u001b[1;33m)\u001b[0m\u001b[1;33m\u001b[0m\u001b[1;33m\u001b[0m\u001b[0m\n\u001b[0;32m    300\u001b[0m \u001b[1;33m\u001b[0m\u001b[0m\n",
      "\u001b[1;32m~\\anaconda3\\lib\\importlib\\__init__.py\u001b[0m in \u001b[0;36mimport_module\u001b[1;34m(name, package)\u001b[0m\n\u001b[0;32m    125\u001b[0m                 \u001b[1;32mbreak\u001b[0m\u001b[1;33m\u001b[0m\u001b[1;33m\u001b[0m\u001b[0m\n\u001b[0;32m    126\u001b[0m             \u001b[0mlevel\u001b[0m \u001b[1;33m+=\u001b[0m \u001b[1;36m1\u001b[0m\u001b[1;33m\u001b[0m\u001b[1;33m\u001b[0m\u001b[0m\n\u001b[1;32m--> 127\u001b[1;33m     \u001b[1;32mreturn\u001b[0m \u001b[0m_bootstrap\u001b[0m\u001b[1;33m.\u001b[0m\u001b[0m_gcd_import\u001b[0m\u001b[1;33m(\u001b[0m\u001b[0mname\u001b[0m\u001b[1;33m[\u001b[0m\u001b[0mlevel\u001b[0m\u001b[1;33m:\u001b[0m\u001b[1;33m]\u001b[0m\u001b[1;33m,\u001b[0m \u001b[0mpackage\u001b[0m\u001b[1;33m,\u001b[0m \u001b[0mlevel\u001b[0m\u001b[1;33m)\u001b[0m\u001b[1;33m\u001b[0m\u001b[1;33m\u001b[0m\u001b[0m\n\u001b[0m\u001b[0;32m    128\u001b[0m \u001b[1;33m\u001b[0m\u001b[0m\n\u001b[0;32m    129\u001b[0m \u001b[1;33m\u001b[0m\u001b[0m\n",
      "\u001b[1;32m~\\anaconda3\\lib\\site-packages\\numba\\__init__.py\u001b[0m in \u001b[0;36m<module>\u001b[1;34m\u001b[0m\n\u001b[0;32m     40\u001b[0m \u001b[1;33m\u001b[0m\u001b[0m\n\u001b[0;32m     41\u001b[0m \u001b[1;31m# Re-export vectorize decorators and the thread layer querying function\u001b[0m\u001b[1;33m\u001b[0m\u001b[1;33m\u001b[0m\u001b[0m\n\u001b[1;32m---> 42\u001b[1;33m from numba.np.ufunc import (vectorize, guvectorize, threading_layer,\n\u001b[0m\u001b[0;32m     43\u001b[0m                             get_num_threads, set_num_threads)\n\u001b[0;32m     44\u001b[0m \u001b[1;33m\u001b[0m\u001b[0m\n",
      "\u001b[1;32m~\\anaconda3\\lib\\site-packages\\numba\\np\\ufunc\\__init__.py\u001b[0m in \u001b[0;36m<module>\u001b[1;34m\u001b[0m\n\u001b[0;32m      1\u001b[0m \u001b[1;31m# -*- coding: utf-8 -*-\u001b[0m\u001b[1;33m\u001b[0m\u001b[1;33m\u001b[0m\u001b[0m\n\u001b[0;32m      2\u001b[0m \u001b[1;33m\u001b[0m\u001b[0m\n\u001b[1;32m----> 3\u001b[1;33m \u001b[1;32mfrom\u001b[0m \u001b[0mnumba\u001b[0m\u001b[1;33m.\u001b[0m\u001b[0mnp\u001b[0m\u001b[1;33m.\u001b[0m\u001b[0mufunc\u001b[0m\u001b[1;33m.\u001b[0m\u001b[0mdecorators\u001b[0m \u001b[1;32mimport\u001b[0m \u001b[0mVectorize\u001b[0m\u001b[1;33m,\u001b[0m \u001b[0mGUVectorize\u001b[0m\u001b[1;33m,\u001b[0m \u001b[0mvectorize\u001b[0m\u001b[1;33m,\u001b[0m \u001b[0mguvectorize\u001b[0m\u001b[1;33m\u001b[0m\u001b[1;33m\u001b[0m\u001b[0m\n\u001b[0m\u001b[0;32m      4\u001b[0m \u001b[1;32mfrom\u001b[0m \u001b[0mnumba\u001b[0m\u001b[1;33m.\u001b[0m\u001b[0mnp\u001b[0m\u001b[1;33m.\u001b[0m\u001b[0mufunc\u001b[0m\u001b[1;33m.\u001b[0m\u001b[0m_internal\u001b[0m \u001b[1;32mimport\u001b[0m \u001b[0mPyUFunc_None\u001b[0m\u001b[1;33m,\u001b[0m \u001b[0mPyUFunc_Zero\u001b[0m\u001b[1;33m,\u001b[0m \u001b[0mPyUFunc_One\u001b[0m\u001b[1;33m\u001b[0m\u001b[1;33m\u001b[0m\u001b[0m\n\u001b[0;32m      5\u001b[0m \u001b[1;32mfrom\u001b[0m \u001b[0mnumba\u001b[0m\u001b[1;33m.\u001b[0m\u001b[0mnp\u001b[0m\u001b[1;33m.\u001b[0m\u001b[0mufunc\u001b[0m \u001b[1;32mimport\u001b[0m \u001b[0m_internal\u001b[0m\u001b[1;33m,\u001b[0m \u001b[0marray_exprs\u001b[0m\u001b[1;33m\u001b[0m\u001b[1;33m\u001b[0m\u001b[0m\n",
      "\u001b[1;32m~\\anaconda3\\lib\\site-packages\\numba\\np\\ufunc\\decorators.py\u001b[0m in \u001b[0;36m<module>\u001b[1;34m\u001b[0m\n\u001b[0;32m      1\u001b[0m \u001b[1;32mimport\u001b[0m \u001b[0minspect\u001b[0m\u001b[1;33m\u001b[0m\u001b[1;33m\u001b[0m\u001b[0m\n\u001b[0;32m      2\u001b[0m \u001b[1;33m\u001b[0m\u001b[0m\n\u001b[1;32m----> 3\u001b[1;33m \u001b[1;32mfrom\u001b[0m \u001b[0mnumba\u001b[0m\u001b[1;33m.\u001b[0m\u001b[0mnp\u001b[0m\u001b[1;33m.\u001b[0m\u001b[0mufunc\u001b[0m \u001b[1;32mimport\u001b[0m \u001b[0m_internal\u001b[0m\u001b[1;33m\u001b[0m\u001b[1;33m\u001b[0m\u001b[0m\n\u001b[0m\u001b[0;32m      4\u001b[0m \u001b[1;32mfrom\u001b[0m \u001b[0mnumba\u001b[0m\u001b[1;33m.\u001b[0m\u001b[0mnp\u001b[0m\u001b[1;33m.\u001b[0m\u001b[0mufunc\u001b[0m\u001b[1;33m.\u001b[0m\u001b[0mparallel\u001b[0m \u001b[1;32mimport\u001b[0m \u001b[0mParallelUFuncBuilder\u001b[0m\u001b[1;33m,\u001b[0m \u001b[0mParallelGUFuncBuilder\u001b[0m\u001b[1;33m\u001b[0m\u001b[1;33m\u001b[0m\u001b[0m\n\u001b[0;32m      5\u001b[0m \u001b[1;33m\u001b[0m\u001b[0m\n",
      "\u001b[1;31mSystemError\u001b[0m: initialization of _internal failed without raising an exception"
     ]
    }
   ],
   "source": [
    "import arviz as az\n",
    "import pymc as pmc\n",
    "import numpyro\n",
    "from numpyro import distributions as dist\n",
    "\n",
    "import numpy as np\n",
    "import jax.numpy as jnp\n",
    "from jax import random\n",
    "import matplotlib.pyplot as plt\n",
    "\n",
    "%matplotlib inline\n",
    "\n",
    "import logging\n",
    "logging.basicConfig()\n",
    "logger = logging.getLogger('pymc')\n",
    "logger.setLevel(logging.CRITICAL)\n"
   ]
  },
  {
   "cell_type": "markdown",
   "id": "fb5068f4",
   "metadata": {},
   "source": [
    "This lecture uses Bayesian methods offered by [pymc](https://www.pymc.io/projects/docs/en/stable/) and [numpyro](https://num.pyro.ai/en/stable/) to make statistical inferences about two parameters of a univariate first-order autoregression.\n",
    "\n",
    "\n",
    "The model is a good laboratory for illustrating\n",
    "consequences of alternative ways of modeling the distribution of the initial  $y_0$:\n",
    "\n",
    "- As a fixed number\n",
    "\n",
    "- As a random variable drawn from the stationary distribution of the $\\{y_t\\}$ stochastic process\n",
    "\n",
    "\n",
    "The first component of the statistical model is\n",
    "\n",
    "$$\n",
    "y_{t+1} = \\rho y_t + \\sigma_x \\epsilon_{t+1}, \\quad t \\geq 0\n",
    "$$ (eq:themodel)\n",
    "\n",
    "where the scalars $\\rho$ and $\\sigma_x$ satisfy $|\\rho| < 1$ and $\\sigma_x > 0$;\n",
    "$\\{\\epsilon_{t+1}\\}$ is a sequence of i.i.d. normal random variables with mean $0$ and variance $1$.\n",
    "\n",
    "The second component of the statistical model is\n",
    "\n",
    "$$\n",
    "y_0 \\sim {\\cal N}(\\mu_0, \\sigma_0^2)\n",
    "$$ (eq:themodel_2)\n",
    "\n",
    "\n",
    "\n",
    "Consider a sample $\\{y_t\\}_{t=0}^T$ governed by this statistical model.  \n",
    "\n",
    "The model\n",
    "implies that the likelihood function of $\\{y_t\\}_{t=0}^T$ can be **factored**:\n",
    "\n",
    "$$\n",
    "f(y_T, y_{T-1}, \\ldots, y_0) = f(y_T| y_{T-1}) f(y_{T-1}| y_{T-2}) \\cdots f(y_1 | y_0 ) f(y_0)\n",
    "$$\n",
    "\n",
    "where we use $f$ to denote a generic probability density.  \n",
    "\n",
    "The  statistical model {eq}`eq:themodel`-{eq}`eq:themodel_2` implies\n",
    "\n",
    "$$\n",
    "\\begin{aligned}\n",
    "f(y_t | y_{t-1})  & \\sim {\\mathcal N}(\\rho y_{t-1}, \\sigma_x^2) \\\\\n",
    "        f(y_0)  & \\sim {\\mathcal N}(\\mu_0, \\sigma_0^2)\n",
    "\\end{aligned}\n",
    "$$\n",
    "\n",
    "We want to study how inferences about the unknown parameters $(\\rho, \\sigma_x)$ depend on what is assumed about the parameters $\\mu_0, \\sigma_0$  of the distribution of $y_0$.\n",
    "\n",
    "Below, we study two widely used alternative assumptions:\n",
    "\n",
    "-  $(\\mu_0,\\sigma_0) = (y_0, 0)$ which means  that $y_0$ is  drawn from the distribution ${\\mathcal N}(y_0, 0)$; in effect, we are **conditioning on an observed initial value**.  \n",
    "\n",
    "-  $\\mu_0,\\sigma_0$ are functions of $\\rho, \\sigma_x$ because $y_0$ is drawn from the stationary distribution implied by $\\rho, \\sigma_x$.\n",
    "\n",
    "\n",
    "\n",
    "**Note:** We do **not** treat a third possible case in which  $\\mu_0,\\sigma_0$ are free parameters to be estimated.\n",
    "\n",
    "Unknown parameters are $\\rho, \\sigma_x$.\n",
    "\n",
    "We have  independent **prior probability distributions** for $\\rho, \\sigma_x$ and want to compute a posterior probability distribution after observing a sample $\\{y_{t}\\}_{t=0}^T$.  \n",
    "\n",
    "The notebook uses `pymc4` and `numpyro` to compute a posterior distribution of $\\rho, \\sigma_x$. We will use NUTS samplers to generate samples from the posterior in a chain. Both of these libraries support NUTS samplers.\n",
    "\n",
    "NUTS is a form of Monte Carlo Markov Chain (MCMC) algorithm that bypasses random walk behaviour and allows for convergence to a target distribution more quickly. This not only has the advantage of speed, but allows for complex models to be fitted without having to employ specialised knowledge regarding the theory underlying those fitting methods.\n",
    "\n",
    "Thus, we explore consequences of making these alternative assumptions about the distribution of $y_0$:\n",
    "\n",
    "- A first procedure is to condition on whatever value of $y_0$ is observed. This amounts to assuming that the probability distribution of the random variable  $y_0$ is a Dirac delta function that puts probability one on the observed value of $y_0$.    \n",
    "\n",
    "- A second procedure  assumes that $y_0$ is drawn from the stationary distribution of a process described by {eq}`eq:themodel`\n",
    "so that  $y_0 \\sim {\\cal N} \\left(0, {\\sigma_x^2\\over (1-\\rho)^2} \\right) $\n",
    "\n",
    "When the initial value $y_0$ is far out in a tail of the stationary distribution, conditioning on an initial value gives a posterior that is **more accurate** in a sense that we'll explain.   \n",
    "\n",
    "Basically, when $y_0$ happens to be  in a tail of the stationary distribution and we **don't condition on $y_0$**, the likelihood function for $\\{y_t\\}_{t=0}^T$ adjusts the posterior distribution of the parameter pair $\\rho, \\sigma_x $ to make the observed value of $y_0$  more likely than it really is under the stationary distribution, thereby adversely twisting the posterior in short samples.\n",
    "\n",
    "An example below shows how not conditioning on $y_0$ adversely shifts the posterior probability distribution of $\\rho$ toward larger values.\n",
    "\n",
    "\n",
    "We begin by solving a **direct problem** that simulates an AR(1) process.\n",
    "\n",
    "How we select the initial value $y_0$ matters.\n",
    "\n",
    "   * If we think $y_0$ is drawn from the stationary distribution ${\\mathcal N}(0, \\frac{\\sigma_x^{2}}{1-\\rho^2})$, then it is a good idea to use this distribution as $f(y_0)$.  Why? Because $y_0$ contains information about $\\rho, \\sigma_x$.  \n",
    "\n",
    "   * If we suspect that $y_0$ is far in the tails of the stationary distribution -- so that variation in early observations in the sample have a significant **transient component** -- it is better to condition on $y_0$ by setting $f(y_0) = 1$.\n",
    "\n",
    "\n",
    "To illustrate the issue, we'll begin by choosing an initial $y_0$ that is far out in a tail of the stationary distribution."
   ]
  },
  {
   "cell_type": "code",
   "execution_count": null,
   "id": "d1818850",
   "metadata": {},
   "outputs": [],
   "source": [
    "def ar1_simulate(rho, sigma, y0, T):\n",
    "\n",
    "    # Allocate space and draw epsilons\n",
    "    y = np.empty(T)\n",
    "    eps = np.random.normal(0.,sigma,T)\n",
    "\n",
    "    # Initial condition and step forward\n",
    "    y[0] = y0\n",
    "    for t in range(1, T):\n",
    "        y[t] = rho*y[t-1] + eps[t]\n",
    "\n",
    "    return y\n",
    "\n",
    "sigma =  1.\n",
    "rho = 0.5\n",
    "T = 50\n",
    "\n",
    "np.random.seed(145353452)\n",
    "y = ar1_simulate(rho, sigma, 10, T)"
   ]
  },
  {
   "cell_type": "code",
   "execution_count": null,
   "id": "43a80352",
   "metadata": {},
   "outputs": [],
   "source": [
    "plt.plot(y)\n",
    "plt.tight_layout()"
   ]
  },
  {
   "cell_type": "markdown",
   "id": "68eb0860",
   "metadata": {},
   "source": [
    "Now we shall use Bayes' law to construct a posterior distribution, conditioning on the initial value of $y_0$.\n",
    "\n",
    "(Later we'll assume that $y_0$ is drawn from the stationary distribution, but not now.)\n",
    "\n",
    "First we'll use **pymc4**.\n",
    "\n",
    "## PyMC Implementation\n",
    "\n",
    "For a normal distribution in `pymc`,\n",
    "$var = 1/\\tau = \\sigma^{2}$."
   ]
  },
  {
   "cell_type": "code",
   "execution_count": null,
   "id": "f22d0cc0",
   "metadata": {},
   "outputs": [],
   "source": [
    "AR1_model = pmc.Model()\n",
    "\n",
    "with AR1_model:\n",
    "\n",
    "    # Start with priors\n",
    "    rho = pmc.Uniform('rho', lower=-1., upper=1.) # Assume stable rho\n",
    "    sigma = pmc.HalfNormal('sigma', sigma = np.sqrt(10))\n",
    "\n",
    "    # Expected value of y at the next period (rho * y)\n",
    "    yhat = rho * y[:-1]\n",
    "\n",
    "    # Likelihood of the actual realization\n",
    "    y_like = pmc.Normal('y_obs', mu=yhat, sigma=sigma, observed=y[1:])"
   ]
  },
  {
   "cell_type": "markdown",
   "id": "37b644ff",
   "metadata": {},
   "source": [
    "[pmc.sample](https://www.pymc.io/projects/docs/en/latest/api/generated/pymc.sample.html?highlight=sample#pymc.sample) by default uses the NUTS samplers to generate samples as shown in the below cell:"
   ]
  },
  {
   "cell_type": "code",
   "execution_count": null,
   "id": "4793f127",
   "metadata": {
    "tag": [
     "hide-output"
    ]
   },
   "outputs": [],
   "source": [
    "with AR1_model:\n",
    "    trace = pmc.sample(50000, tune=10000, return_inferencedata=True)"
   ]
  },
  {
   "cell_type": "code",
   "execution_count": null,
   "id": "f5c66f17",
   "metadata": {},
   "outputs": [],
   "source": [
    "with AR1_model:\n",
    "    az.plot_trace(trace, figsize=(17,6))"
   ]
  },
  {
   "cell_type": "markdown",
   "id": "fd9d1e6d",
   "metadata": {},
   "source": [
    "Evidently, the posteriors aren't centered on the true values of $.5, 1$ that we used to generate the data.\n",
    "\n",
    "This is a symptom of the classic **Hurwicz bias** for first order autoregressive processes (see Leonid Hurwicz {cite}`hurwicz1950least`.)\n",
    "\n",
    "The Hurwicz bias is worse the smaller is the sample (see {cite}`Orcutt_Winokur_69`).\n",
    "\n",
    "\n",
    "Be that as it may, here is more information about the posterior."
   ]
  },
  {
   "cell_type": "code",
   "execution_count": null,
   "id": "138ca145",
   "metadata": {},
   "outputs": [],
   "source": [
    "with AR1_model:\n",
    "    summary = az.summary(trace, round_to=4)\n",
    "\n",
    "summary"
   ]
  },
  {
   "cell_type": "markdown",
   "id": "63d6de86",
   "metadata": {},
   "source": [
    "Now we shall compute a posterior distribution after seeing the same data but instead assuming that $y_0$ is drawn from the stationary distribution.\n",
    "\n",
    "This means that\n",
    "\n",
    "$$\n",
    "y_0 \\sim N \\left(0, \\frac{\\sigma_x^{2}}{1 - \\rho^{2}} \\right)\n",
    "$$\n",
    "\n",
    "We alter the code as follows:"
   ]
  },
  {
   "cell_type": "code",
   "execution_count": null,
   "id": "2dec0681",
   "metadata": {},
   "outputs": [],
   "source": [
    "AR1_model_y0 = pmc.Model()\n",
    "\n",
    "with AR1_model_y0:\n",
    "\n",
    "    # Start with priors\n",
    "    rho = pmc.Uniform('rho', lower=-1., upper=1.) # Assume stable rho\n",
    "    sigma = pmc.HalfNormal('sigma', sigma=np.sqrt(10))\n",
    "\n",
    "    # Standard deviation of ergodic y\n",
    "    y_sd = sigma / np.sqrt(1 - rho**2)\n",
    "\n",
    "    # yhat\n",
    "    yhat = rho * y[:-1]\n",
    "    y_data = pmc.Normal('y_obs', mu=yhat, sigma=sigma, observed=y[1:])\n",
    "    y0_data = pmc.Normal('y0_obs', mu=0., sigma=y_sd, observed=y[0])"
   ]
  },
  {
   "cell_type": "code",
   "execution_count": null,
   "id": "295b756d",
   "metadata": {
    "tag": [
     "hide-output"
    ]
   },
   "outputs": [],
   "source": [
    "with AR1_model_y0:\n",
    "    trace_y0 = pmc.sample(50000, tune=10000, return_inferencedata=True)\n",
    "\n",
    "# Grey vertical lines are the cases of divergence"
   ]
  },
  {
   "cell_type": "code",
   "execution_count": null,
   "id": "9aa71bd8",
   "metadata": {},
   "outputs": [],
   "source": [
    "with AR1_model_y0:\n",
    "    az.plot_trace(trace_y0, figsize=(17,6))"
   ]
  },
  {
   "cell_type": "code",
   "execution_count": null,
   "id": "8b2e63b7",
   "metadata": {},
   "outputs": [],
   "source": [
    "with AR1_model:\n",
    "    summary_y0 = az.summary(trace_y0, round_to=4)\n",
    "\n",
    "summary_y0"
   ]
  },
  {
   "cell_type": "markdown",
   "id": "fbebbbd2",
   "metadata": {},
   "source": [
    "Please note how the posterior for $\\rho$ has shifted to the right relative to when we conditioned on $y_0$ instead of assuming that $y_0$ is drawn from the stationary distribution.\n",
    "\n",
    "Think about why this happens.  \n",
    "\n",
    "```{hint}\n",
    "It is connected to how Bayes Law (conditional probability) solves an **inverse problem** by putting high probability on parameter values\n",
    "that make observations more likely.\n",
    "```\n",
    "\n",
    "We'll return to this issue after we use `numpyro` to compute posteriors under our two alternative assumptions about the distribution of $y_0$.\n",
    "\n",
    "We'll now repeat the calculations using `numpyro`.\n",
    "\n",
    "## Numpyro Implementation"
   ]
  },
  {
   "cell_type": "code",
   "execution_count": null,
   "id": "e3fb7bc2",
   "metadata": {},
   "outputs": [],
   "source": [
    "\n",
    "def plot_posterior(sample):\n",
    "    \"\"\"\n",
    "    Plot trace and histogram\n",
    "    \"\"\"\n",
    "    # To np array\n",
    "    rhos = sample['rho']\n",
    "    sigmas = sample['sigma']\n",
    "    rhos, sigmas, = np.array(rhos), np.array(sigmas)\n",
    "\n",
    "    fig, axs = plt.subplots(2, 2, figsize=(17, 6))\n",
    "    # Plot trace\n",
    "    axs[0, 0].plot(rhos)   # rho\n",
    "    axs[1, 0].plot(sigmas) # sigma\n",
    "\n",
    "    # Plot posterior\n",
    "    axs[0, 1].hist(rhos, bins=50, density=True, alpha=0.7)\n",
    "    axs[0, 1].set_xlim([0, 1])\n",
    "    axs[1, 1].hist(sigmas, bins=50, density=True, alpha=0.7)\n",
    "\n",
    "    axs[0, 0].set_title(\"rho\")\n",
    "    axs[0, 1].set_title(\"rho\")\n",
    "    axs[1, 0].set_title(\"sigma\")\n",
    "    axs[1, 1].set_title(\"sigma\")\n",
    "    plt.show()"
   ]
  },
  {
   "cell_type": "code",
   "execution_count": null,
   "id": "280a3b90",
   "metadata": {},
   "outputs": [],
   "source": [
    "def AR1_model(data):\n",
    "    # set prior\n",
    "    rho = numpyro.sample('rho', dist.Uniform(low=-1., high=1.))\n",
    "    sigma = numpyro.sample('sigma', dist.HalfNormal(scale=np.sqrt(10)))\n",
    "\n",
    "    # Expected value of y at the next period (rho * y)\n",
    "    yhat = rho * data[:-1]\n",
    "\n",
    "    # Likelihood of the actual realization.\n",
    "    y_data = numpyro.sample('y_obs', dist.Normal(loc=yhat, scale=sigma), obs=data[1:])\n"
   ]
  },
  {
   "cell_type": "code",
   "execution_count": null,
   "id": "cd917f9d",
   "metadata": {
    "tag": [
     "hide-output"
    ]
   },
   "outputs": [],
   "source": [
    "# Make jnp array\n",
    "y = jnp.array(y)\n",
    "\n",
    "# Set NUTS kernal\n",
    "NUTS_kernel = numpyro.infer.NUTS(AR1_model)\n",
    "\n",
    "# Run MCMC\n",
    "mcmc = numpyro.infer.MCMC(NUTS_kernel, num_samples=50000, num_warmup=10000, progress_bar=False)\n",
    "mcmc.run(rng_key=random.PRNGKey(1), data=y)"
   ]
  },
  {
   "cell_type": "code",
   "execution_count": null,
   "id": "768277e3",
   "metadata": {},
   "outputs": [],
   "source": [
    "plot_posterior(mcmc.get_samples())"
   ]
  },
  {
   "cell_type": "code",
   "execution_count": null,
   "id": "90ac8cef",
   "metadata": {},
   "outputs": [],
   "source": [
    "mcmc.print_summary()"
   ]
  },
  {
   "cell_type": "markdown",
   "id": "6c789aba",
   "metadata": {},
   "source": [
    "Next, we again compute the posterior under the assumption that $y_0$ is drawn from the stationary distribution, so that\n",
    "\n",
    "$$\n",
    "y_0 \\sim N \\left(0, \\frac{\\sigma_x^{2}}{1 - \\rho^{2}} \\right)\n",
    "$$\n",
    "\n",
    "Here's the new code to achieve this."
   ]
  },
  {
   "cell_type": "code",
   "execution_count": null,
   "id": "b469110c",
   "metadata": {},
   "outputs": [],
   "source": [
    "def AR1_model_y0(data):\n",
    "    # Set prior\n",
    "    rho = numpyro.sample('rho', dist.Uniform(low=-1., high=1.))\n",
    "    sigma = numpyro.sample('sigma', dist.HalfNormal(scale=np.sqrt(10)))\n",
    "\n",
    "    # Standard deviation of ergodic y\n",
    "    y_sd = sigma / jnp.sqrt(1 - rho**2)\n",
    "\n",
    "    # Expected value of y at the next period (rho * y)\n",
    "    yhat = rho * data[:-1]\n",
    "\n",
    "    # Likelihood of the actual realization.\n",
    "    y_data = numpyro.sample('y_obs', dist.Normal(loc=yhat, scale=sigma), obs=data[1:])\n",
    "    y0_data = numpyro.sample('y0_obs', dist.Normal(loc=0., scale=y_sd), obs=data[0])"
   ]
  },
  {
   "cell_type": "code",
   "execution_count": null,
   "id": "b1120662",
   "metadata": {
    "tag": [
     "hide-output"
    ]
   },
   "outputs": [],
   "source": [
    "# Make jnp array\n",
    "y = jnp.array(y)\n",
    "\n",
    "# Set NUTS kernal\n",
    "NUTS_kernel = numpyro.infer.NUTS(AR1_model_y0)\n",
    "\n",
    "# Run MCMC\n",
    "mcmc2 = numpyro.infer.MCMC(NUTS_kernel, num_samples=50000, num_warmup=10000, progress_bar=False)\n",
    "mcmc2.run(rng_key=random.PRNGKey(1), data=y)"
   ]
  },
  {
   "cell_type": "code",
   "execution_count": null,
   "id": "941e918c",
   "metadata": {},
   "outputs": [],
   "source": [
    "plot_posterior(mcmc2.get_samples())"
   ]
  },
  {
   "cell_type": "code",
   "execution_count": null,
   "id": "20af99b1",
   "metadata": {},
   "outputs": [],
   "source": [
    "mcmc2.print_summary()"
   ]
  },
  {
   "cell_type": "markdown",
   "id": "95599c09",
   "metadata": {},
   "source": [
    "Look what happened to the posterior!\n",
    "\n",
    "It has moved far from the true values of the parameters used to generate the data because of how Bayes' Law (i.e., conditional probability)\n",
    "is telling `numpyro` to explain what it interprets as  \"explosive\" observations early in the sample.\n",
    "\n",
    "Bayes' Law is able to generate a plausible likelihood for the first observation by driving $\\rho \\rightarrow 1$ and $\\sigma \\uparrow$ in order to raise the variance of the stationary distribution.\n",
    "\n",
    "Our example illustrates the importance of what you assume about the distribution of initial conditions."
   ]
  }
 ],
 "metadata": {
  "jupytext": {
   "text_representation": {
    "extension": ".myst",
    "format_name": "myst",
    "format_version": 0.13,
    "jupytext_version": "1.13.8"
   }
  },
  "kernelspec": {
   "display_name": "Python 3",
   "language": "python",
   "name": "python3"
  },
  "language_info": {
   "codemirror_mode": {
    "name": "ipython",
    "version": 3
   },
   "file_extension": ".py",
   "mimetype": "text/x-python",
   "name": "python",
   "nbconvert_exporter": "python",
   "pygments_lexer": "ipython3",
   "version": "3.9.13"
  },
  "source_map": [
   12,
   19,
   25,
   44,
   139,
   162,
   165,
   178,
   193,
   197,
   204,
   207,
   218,
   223,
   235,
   253,
   262,
   267,
   272,
   289,
   318,
   332,
   346,
   350,
   352,
   362,
   379,
   393,
   397,
   399
  ]
 },
 "nbformat": 4,
 "nbformat_minor": 5
}